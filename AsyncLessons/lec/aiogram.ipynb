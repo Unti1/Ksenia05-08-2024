{
 "cells": [
  {
   "cell_type": "markdown",
   "metadata": {},
   "source": [
    "# Aiogram\n",
    "\n",
    "- Это фреймворк для написания ботов Telegram, с использованием асинхронной парадигмы программирования.\n",
    "  \n",
    "Оф документация: https://docs.aiogram.dev/en/latest/"
   ]
  },
  {
   "cell_type": "markdown",
   "metadata": {},
   "source": [
    "# Функция для запуска бота Telegram"
   ]
  },
  {
   "cell_type": "code",
   "execution_count": null,
   "metadata": {},
   "outputs": [],
   "source": [
    "import asyncio\n",
    "\n",
    "from aiogram import Bot, Dispatcher\n",
    "from aiogram.client.default import DefaultBotProperties\n",
    "from aiogram.enums import ParseMode\n",
    "from aiogram.fsm.storage.base import BaseStorage\n",
    "# from aiogram.fsm.storage.redis import RedisStorage\n",
    "\n",
    "from settings.config import settings\n",
    "\n",
    "\n",
    "async def bot_startup():\n",
    "    bot = Bot(\n",
    "        token=settings.TG_API,\n",
    "        default=DefaultBotProperties(parse_mode=ParseMode.MARKDOWN_V2),\n",
    "    )\n",
    "    \n",
    "    storage = BaseStorage()# RedisStorage.from_url('redis://localhost:6379/0')\n",
    "    dp = Dispatcher(storage=storage)\n",
    "    \n",
    "    # await dp.include_routers(...)\n",
    "    await bot.delete_webhook(drop_panding_updates =True)\n",
    "    await dp.start_polling(bot)\n",
    "    \n",
    "    \n",
    "\n",
    "\n",
    "if __name__ == \"__main__\":\n",
    "    asyncio.run(bot_startup())"
   ]
  },
  {
   "cell_type": "markdown",
   "metadata": {},
   "source": [
    "Рассмотрим подробнее:\n",
    "- bot -- переменная самого бота, то есть именно этот объект получает запросы от конечного пользователя.\n",
    "- dp (Dispatcher) -- Диспатчер, своего рода диспечер для бота, он обрабатывает поступающие запросы фильтруя и передавая их в выполнения той части программы которая соответствует этому запросу.\n",
    "\n",
    "Параметры бота:\n",
    "- token=settings.TG_API - API-токен для подключения к конкретному боту\n",
    "- default=DefaultBotProperties(parse_mode=ParseMode.MARKDOWN_V2) - Стандартные параметры бота (каким способом он будет форматировать вывод сообщений)\n",
    "\n",
    "Параметры диспетчера:\n",
    "- storage - это хранилище где диспатчер хранит информацию о пользователях которые с ним взаимодействуют\n",
    "\n",
    "Методы: \n",
    "- delete_webhook - Удаляет вебхуки созданные для бота тогда когда он был выключен, или неактивен\n",
    "- start_polling - основная функция которая активирует прослушивание Диспатчером нашего Бота на наличие сообщений\n",
    " "
   ]
  },
  {
   "cell_type": "markdown",
   "metadata": {},
   "source": [
    "# Наш первый обработчик(хэндлер) сообщений"
   ]
  },
  {
   "cell_type": "code",
   "execution_count": null,
   "metadata": {},
   "outputs": [],
   "source": [
    "from aiogram import Router\n",
    "from aiogram.types import Message\n",
    "\n",
    "r = Router()\n",
    "\n",
    "@r.message()\n",
    "async def start_message(message: Message):\n",
    "    print(message)\n",
    "    print(message.text)\n",
    "    await message.answer('Привет! Чем могу помочь?')"
   ]
  },
  {
   "cell_type": "markdown",
   "metadata": {},
   "source": [
    "- В начале каждого файла хэнделера мы указываем Router() объект, именно к нему и будет \"цепляться\" каждая функция которую мы будем декорировать через Router-объект(в нашем случае это `r`)\n",
    "- r.message - это хэндлер для каждого сообщения, с любым содержанием. Это так, потому что внутри message() нет никаких фильтров\n",
    "- в аргументы асинх. функции которую мы пишем и которая декорируется Router'ом, мы обязательно передаем параметры маркированные типом aiogram'a или нашими встроенными типами(но об этом позднее)\n",
    "\n",
    "Ответы со стороны бота:\n",
    "\n",
    "Бот может отвечать различными структрами, он может отвечать, как картинками, так и текстом, так и видео, так и документами, то есть любой структурой с которой мы можем взаимодествовать и в обычном telegram. Единственное допущения aiograma это работа с альбомами (т.е. когда идет несколько фото в одном сообщении)\n",
    "\n",
    "- message.answer --выдает ответ пользователю на его сообщение. Сам message (класса aiogram.types.Message) является объектом-информацией о сообщении пользователя"
   ]
  },
  {
   "cell_type": "markdown",
   "metadata": {},
   "source": []
  }
 ],
 "metadata": {
  "kernelspec": {
   "display_name": "asynclessons-N5ICoSS2-py3.11",
   "language": "python",
   "name": "python3"
  },
  "language_info": {
   "name": "python",
   "version": "3.11.9"
  }
 },
 "nbformat": 4,
 "nbformat_minor": 2
}
