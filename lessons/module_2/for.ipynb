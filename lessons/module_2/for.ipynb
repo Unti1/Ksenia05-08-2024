{
 "cells": [
  {
   "cell_type": "markdown",
   "metadata": {},
   "source": [
    "# Цикл for\n",
    "\n",
    "Цикл for - это последовательные очередный цикл перебора значений"
   ]
  },
  {
   "cell_type": "code",
   "execution_count": 13,
   "metadata": {},
   "outputs": [
    {
     "name": "stdout",
     "output_type": "stream",
     "text": [
      "Значение val : 2\n",
      "Число: 2 - чётное\n",
      "Значение val : 3\n",
      "Число: 3 - нечётное\n",
      "[2]\n"
     ]
    }
   ],
   "source": [
    "lst = [2,3,4,5,6,7,8,9]\n",
    "st2 = 'Строка'\n",
    "lst2 = []\n",
    "stop_value = int(input('Введите число останова: '))\n",
    "\n",
    "for val in lst:\n",
    "    print(f'Значение val : {val}')\n",
    "\n",
    "    if val % 2 == 0:\n",
    "        print(f'Число: {val} - чётное')\n",
    "        lst2.append(val)\n",
    "        # continue\n",
    "    else:\n",
    "        print(f'Число: {val} - нечётное')\n",
    "    \n",
    "    if val == stop_value:\n",
    "        break\n",
    "    \n",
    "    \n",
    "\n",
    "print(lst2)"
   ]
  },
  {
   "cell_type": "markdown",
   "metadata": {},
   "source": [
    "Работа с циклом for по значениям индекса"
   ]
  },
  {
   "cell_type": "code",
   "execution_count": 15,
   "metadata": {},
   "outputs": [
    {
     "name": "stdout",
     "output_type": "stream",
     "text": [
      "range(0, 10)\n",
      "Val[0] : 2\n",
      "Val[1] : 3\n",
      "Val[2] : 4\n",
      "Val[3] : 5\n",
      "Val[4] : 6\n",
      "Val[5] : 7\n",
      "Val[6] : 8\n",
      "Val[7] : 9\n"
     ]
    }
   ],
   "source": [
    "lst = [2,3,4,5,6,7,8,9]\n",
    "print(range(10))\n",
    "\n",
    "for i in range(len(lst)):\n",
    "    print(f'Val[{i}] : {lst[i]}')"
   ]
  },
  {
   "cell_type": "markdown",
   "metadata": {},
   "source": []
  }
 ],
 "metadata": {
  "kernelspec": {
   "display_name": "Python 3",
   "language": "python",
   "name": "python3"
  },
  "language_info": {
   "codemirror_mode": {
    "name": "ipython",
    "version": 3
   },
   "file_extension": ".py",
   "mimetype": "text/x-python",
   "name": "python",
   "nbconvert_exporter": "python",
   "pygments_lexer": "ipython3",
   "version": "3.11.9"
  }
 },
 "nbformat": 4,
 "nbformat_minor": 2
}
