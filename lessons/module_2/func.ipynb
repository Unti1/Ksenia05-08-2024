{
 "cells": [
  {
   "cell_type": "markdown",
   "metadata": {},
   "source": [
    "# Функции \n",
    "\n",
    "Функции представляют собой специальный блок кода, который можно вызвать множество раз.\n",
    "\n",
    "Чтобы создать функцию, нам нужно ключевое слово def, от англ. «define», что переводится, как «определять». То есть, мы как бы определяем функцию."
   ]
  },
  {
   "cell_type": "markdown",
   "metadata": {},
   "source": [
    "def `*название функции*():`\n"
   ]
  },
  {
   "cell_type": "code",
   "execution_count": 3,
   "metadata": {},
   "outputs": [
    {
     "name": "stdout",
     "output_type": "stream",
     "text": [
      "Hello\n",
      "Hello\n",
      "Hello\n",
      "Hello\n"
     ]
    }
   ],
   "source": [
    "def say_hello():\n",
    "    print('Hello')\n",
    "\n",
    "say_hello()\n",
    "say_hello()\n",
    "say_hello()\n",
    "say_hello()"
   ]
  },
  {
   "cell_type": "markdown",
   "metadata": {},
   "source": [
    "# Виды функций"
   ]
  },
  {
   "cell_type": "markdown",
   "metadata": {},
   "source": [
    "Функции можно разделить на несколько видов: обычные, принимающие, возвращающие и анонимные."
   ]
  },
  {
   "cell_type": "markdown",
   "metadata": {},
   "source": [
    "## **Принимающая** \n",
    "– это та функция, в момент создания которой мы определяем какое-то значение, которое она будет принимать, а значит в момент вызова функции мы также должны будем его передать."
   ]
  },
  {
   "cell_type": "markdown",
   "metadata": {},
   "source": [
    "Параметр передающийся в функцию - называется аргумент.\n",
    "\n",
    "Аргумент функции - это специльная перемернная которая существует ТОЛЬКО внутри функции и может задавать значение при вызове её извне"
   ]
  },
  {
   "cell_type": "code",
   "execution_count": 11,
   "metadata": {},
   "outputs": [
    {
     "name": "stdout",
     "output_type": "stream",
     "text": [
      "Hello, Bob\n",
      "None\n",
      "Hello, Alice\n",
      "Hello, 245\n",
      "Hello, []\n",
      "Hello, bob\n"
     ]
    }
   ],
   "source": [
    "def say_hello(name):\n",
    "    print('Hello,', name)\n",
    "\n",
    "say_hello('Alice')\n",
    "say_hello(245)\n",
    "say_hello([])\n",
    "say_hello(input('Введите имя'))\n"
   ]
  },
  {
   "cell_type": "markdown",
   "metadata": {},
   "source": [
    "Рассмотрим вызов конкретной функции, и выведем результат принимающей функции в консоль. "
   ]
  },
  {
   "cell_type": "code",
   "execution_count": 23,
   "metadata": {},
   "outputs": [
    {
     "name": "stdout",
     "output_type": "stream",
     "text": [
      "Hello, Bob\n",
      "None\n",
      "Hello, Mell\n",
      "None\n"
     ]
    }
   ],
   "source": [
    "print(say_hello('Bob'))\n",
    "res = say_hello('Mell')\n",
    "print(res)"
   ]
  },
  {
   "cell_type": "markdown",
   "metadata": {},
   "source": [
    "После вызова функции, видим, какой результат она выдает в терминал. После чего видим выполнение функции print которая показала значение работы нашей функции (None). И как видим функция результата не выдает."
   ]
  },
  {
   "cell_type": "markdown",
   "metadata": {},
   "source": [
    "## **Возвращающая** \n",
    "– это та функция, которая нам что-то возвращает. А возвращать что-то она будет с помощью команды **return**."
   ]
  },
  {
   "cell_type": "code",
   "execution_count": 22,
   "metadata": {},
   "outputs": [
    {
     "name": "stdout",
     "output_type": "stream",
     "text": [
      "2\n"
     ]
    }
   ],
   "source": [
    "import random\n",
    "\n",
    "def lottery():\n",
    "    tickets = [1,2,3,4,5,6,7,8,9,10]\n",
    "    win = random.choice(tickets)\n",
    "    return win\n",
    "    print('Я функция')\n",
    "\n",
    "print(lottery())\n",
    "win = lottery()\n",
    "    \n",
    "  "
   ]
  },
  {
   "cell_type": "markdown",
   "metadata": {},
   "source": [
    "return - помимо того что выводит результат из функции, она принудительно его и завершает в момент использования"
   ]
  },
  {
   "cell_type": "code",
   "execution_count": 30,
   "metadata": {},
   "outputs": [
    {
     "name": "stdout",
     "output_type": "stream",
     "text": [
      "Пн Вт\n",
      "1 10\n"
     ]
    }
   ],
   "source": [
    "def lottery(mon, thue):\n",
    "    tickets = [1,2,3,4,5,6,7,8,9,10]\n",
    "    \n",
    "    win1 = random.choice(tickets)\n",
    "    tickets.remove(win1)\n",
    "\n",
    "    win2 = random.choice(tickets)\n",
    "    # tickets.remove(win2)\n",
    "    print(mon, thue)\n",
    "    return win1, win2\n",
    "\n",
    "# print(lottery('1','2'))\n",
    "win1, win2 = lottery('Пн', 'Вт')\n",
    "print(win1, win2)"
   ]
  },
  {
   "cell_type": "markdown",
   "metadata": {},
   "source": []
  }
 ],
 "metadata": {
  "kernelspec": {
   "display_name": "Python 3",
   "language": "python",
   "name": "python3"
  },
  "language_info": {
   "codemirror_mode": {
    "name": "ipython",
    "version": 3
   },
   "file_extension": ".py",
   "mimetype": "text/x-python",
   "name": "python",
   "nbconvert_exporter": "python",
   "pygments_lexer": "ipython3",
   "version": "3.11.9"
  }
 },
 "nbformat": 4,
 "nbformat_minor": 2
}
