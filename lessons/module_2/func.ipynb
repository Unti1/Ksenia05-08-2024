{
 "cells": [
  {
   "cell_type": "markdown",
   "metadata": {},
   "source": [
    "# Функции \n",
    "\n",
    "Функции представляют собой специальный блок кода, который можно вызвать множество раз.\n",
    "\n",
    "Чтобы создать функцию, нам нужно ключевое слово def, от англ. «define», что переводится, как «определять». То есть, мы как бы определяем функцию."
   ]
  },
  {
   "cell_type": "markdown",
   "metadata": {},
   "source": [
    "def `*название функции*():`\n"
   ]
  },
  {
   "cell_type": "code",
   "execution_count": 1,
   "metadata": {},
   "outputs": [
    {
     "name": "stdout",
     "output_type": "stream",
     "text": [
      "Hello\n",
      "World\n",
      "!\n",
      "Hello\n",
      "World\n",
      "!\n",
      "Hello\n",
      "World\n",
      "!\n",
      "Hello\n",
      "World\n",
      "!\n"
     ]
    }
   ],
   "source": [
    "def say_hello():\n",
    "    print('Hello')\n",
    "    print('World')\n",
    "    print('!')\n",
    "\n",
    "say_hello()\n",
    "say_hello()\n",
    "say_hello()\n",
    "say_hello()"
   ]
  },
  {
   "cell_type": "markdown",
   "metadata": {},
   "source": [
    "# Виды функций"
   ]
  },
  {
   "cell_type": "markdown",
   "metadata": {},
   "source": [
    "Функции можно разделить на несколько видов: обычные, принимающие, возвращающие и анонимные."
   ]
  },
  {
   "cell_type": "markdown",
   "metadata": {},
   "source": [
    "## **Принимающая** \n",
    "– это та функция, в момент создания которой мы определяем какое-то значение, которое она будет принимать, а значит в момент вызова функции мы также должны будем его передать."
   ]
  },
  {
   "cell_type": "markdown",
   "metadata": {},
   "source": [
    "Параметр передающийся в функцию - называется аргумент.\n",
    "\n",
    "Аргумент функции - это специльная перемернная которая существует ТОЛЬКО внутри функции и может задавать значение при вызове её извне"
   ]
  },
  {
   "cell_type": "code",
   "execution_count": 11,
   "metadata": {},
   "outputs": [
    {
     "name": "stdout",
     "output_type": "stream",
     "text": [
      "Hello, Bob\n",
      "None\n",
      "Hello, Alice\n",
      "Hello, 245\n",
      "Hello, []\n",
      "Hello, bob\n"
     ]
    }
   ],
   "source": [
    "def say_hello(name):\n",
    "    print('Hello,', name)\n",
    "\n",
    "#print(name)# Ошибка, потому что name не существует\n",
    "say_hello('Alice')\n",
    "say_hello(245)\n",
    "say_hello([])\n",
    "say_hello(input('Введите имя'))\n"
   ]
  },
  {
   "cell_type": "markdown",
   "metadata": {},
   "source": [
    "Рассмотрим вызов конкретной функции, и выведем результат принимающей функции в консоль. "
   ]
  },
  {
   "cell_type": "code",
   "execution_count": 23,
   "metadata": {},
   "outputs": [
    {
     "name": "stdout",
     "output_type": "stream",
     "text": [
      "Hello, Bob\n",
      "None\n",
      "Hello, Mell\n",
      "None\n"
     ]
    }
   ],
   "source": [
    "print(say_hello('Bob'))\n",
    "res = say_hello('Mell')\n",
    "print(res)"
   ]
  },
  {
   "cell_type": "markdown",
   "metadata": {},
   "source": [
    "После вызова функции, видим, какой результат она выдает в терминал. После чего видим выполнение функции print которая показала значение работы нашей функции (None). И как видим функция результата не выдает."
   ]
  },
  {
   "cell_type": "markdown",
   "metadata": {},
   "source": [
    "## **Возвращающая** \n",
    "– это та функция, которая нам что-то возвращает. А возвращать что-то она будет с помощью команды **return**."
   ]
  },
  {
   "cell_type": "code",
   "execution_count": 4,
   "metadata": {},
   "outputs": [
    {
     "name": "stdout",
     "output_type": "stream",
     "text": [
      "6\n",
      "9\n"
     ]
    }
   ],
   "source": [
    "import random\n",
    "\n",
    "def lottery():\n",
    "    tickets = [1,2,3,4,5,6,7,8,9,10]\n",
    "    win = random.choice(tickets)\n",
    "    return win\n",
    "    print('Я функция')\n",
    "\n",
    "print(lottery())\n",
    "win = lottery()\n",
    "print(win)\n",
    "    \n",
    "  "
   ]
  },
  {
   "cell_type": "markdown",
   "metadata": {},
   "source": [
    "return - помимо того что выводит результат из функции, она принудительно его и завершает в момент использования"
   ]
  },
  {
   "cell_type": "markdown",
   "metadata": {},
   "source": [
    "## **Обычная функция** \n",
    "- Принимает аргумент(ы) и возвращает значение. В то же время, может и не содержать аргументов и не содержать вывода значения\n",
    "\n",
    "\n",
    "\\* Первый блок, тоже считается обычной функцией"
   ]
  },
  {
   "cell_type": "code",
   "execution_count": 9,
   "metadata": {},
   "outputs": [
    {
     "name": "stdout",
     "output_type": "stream",
     "text": [
      "Пн: 2 Вт: 7\n",
      "Вт: 9 Пн: 4\n",
      "9 4\n"
     ]
    }
   ],
   "source": [
    "def lottery(mon, thue):\n",
    "    tickets = [1,2,3,4,5,6,7,8,9,10]\n",
    "    \n",
    "    win1 = random.choice(tickets)\n",
    "    tickets.remove(win1)\n",
    "\n",
    "    win2 = random.choice(tickets)\n",
    "    tickets.remove(win2)\n",
    "\n",
    "    print(f'{mon}: {win1}', f\"{thue}: {win2}\")\n",
    "    return win1, win2\n",
    "\n",
    "# print(lottery('1','2'))\n",
    "win1, win2 = lottery('Пн', 'Вт')\n",
    "win1, win2 = lottery(thue='Пн', mon='Вт')\n",
    "print(win1, win2)"
   ]
  },
  {
   "cell_type": "markdown",
   "metadata": {},
   "source": [
    "# Произвольное количество параметров функции\n",
    "\n",
    "- Функция помимо того что может принимать определенное количество аргументов, также может принимать и неограниченное количество аргументов. НО для использования этого способа, нам потребуется определенная конструкция внутри функции.\n",
    "\n",
    "*args (arguments)- принимает ВСЕ аргументы <u>выходящие за пределы объявленных аргументов</u> и не имеющих определенное название.\n",
    "\n",
    "**kwargs (key word arguments) - принимает ВСЕ аргументы, НО если <u>указано название</u> каждого из них"
   ]
  },
  {
   "cell_type": "code",
   "execution_count": 18,
   "metadata": {},
   "outputs": [
    {
     "name": "stdout",
     "output_type": "stream",
     "text": [
      "() {}\n",
      "(7, 9)\n",
      "w1=7 w2=9\n",
      "(4,) {}\n",
      "(8, 7)\n",
      "(2, 3, 4) {}\n",
      "(10, 5)\n",
      "(2, 3, 4) {'name': 50}\n",
      "(1, 2)\n",
      "(2, 3, 4) {'name': 50, 'my_arg': [1, 2, 3]}\n",
      "(9, 7)\n"
     ]
    }
   ],
   "source": [
    "def lottery(*args, **kwargs):\n",
    "    tickets = [1,2,3,4,5,6,7,8,9,10]\n",
    "    \n",
    "    win1 = random.choice(tickets)\n",
    "    tickets.remove(win1)\n",
    "\n",
    "    win2 = random.choice(tickets)\n",
    "    tickets.remove(win2)\n",
    "    \n",
    "    print(args, kwargs)\n",
    "    print((win1, win2))\n",
    "    return win1, win2\n",
    "\n",
    "# print(lottery('1','2'))\n",
    "w1, w2 = lottery()\n",
    "print(f'{w1=} {w2=}')\n",
    "win1, win2 = lottery(4)\n",
    "win1, win2 = lottery(2,3,4)\n",
    "win1, win2 = lottery(2,3,4, name=50)\n",
    "win1, win2 = lottery(2,3,4, name=50, my_arg=[1,2,3])\n",
    "# print(win1, win2)"
   ]
  },
  {
   "cell_type": "markdown",
   "metadata": {},
   "source": [
    "# Позиционные(опциональные) аргументы"
   ]
  },
  {
   "cell_type": "code",
   "execution_count": 24,
   "metadata": {},
   "outputs": [
    {
     "name": "stdout",
     "output_type": "stream",
     "text": [
      "Понедельник: 6 Вторник: 10 Необработанные аргументы ()\n",
      "Результат работы функции(то что передается в return): (6, 10)\n",
      "w1=6 w2=10\n",
      "Пн: 4 Вторник: 10 Необработанные аргументы ()\n",
      "Результат работы функции(то что передается в return): (4, 10)\n",
      "w1=4 w2=10\n",
      "Пн: 9 Вт: 10 Необработанные аргументы ('Ср',)\n",
      "Результат работы функции(то что передается в return): (9, 10)\n",
      "w1=9 w2=10\n",
      "Понедельник: 6 Втор: 10 Необработанные аргументы ()\n",
      "Результат работы функции(то что передается в return): (6, 10)\n",
      "w1=6 w2=10\n"
     ]
    }
   ],
   "source": [
    "def lottery(mon='Понедельник', thue='Вторник', *args):\n",
    "    tickets = [1,2,3,4,5,6,7,8,9,10]\n",
    "    \n",
    "    win1 = random.choice(tickets)\n",
    "    tickets.remove(win1)\n",
    "\n",
    "    win2 = random.choice(tickets)\n",
    "    tickets.remove(win2)\n",
    "    \n",
    "    print(f'{mon}: {win1}', f\"{thue}: {win2}\", f'Необработанные аргументы {args}')\n",
    "    print('Результат работы функции(то что передается в return):',(win1, win2))\n",
    "    return win1, win2\n",
    "\n",
    "w1, w2 = lottery()\n",
    "print(f'{w1=} {w2=}')\n",
    "w1, w2 = lottery('Пн')\n",
    "print(f'{w1=} {w2=}')\n",
    "w1, w2 = lottery('Пн','Вт','Ср')\n",
    "print(f'{w1=} {w2=}')\n",
    "w1, w2 = lottery(thue='Втор')\n",
    "print(f'{w1=} {w2=}')"
   ]
  },
  {
   "cell_type": "markdown",
   "metadata": {},
   "source": [
    "# Комбинированное использование\n",
    "- мы можем использовать все типы определения аргументов НО в определенной последовательности"
   ]
  },
  {
   "cell_type": "code",
   "execution_count": 28,
   "metadata": {},
   "outputs": [
    {
     "name": "stdout",
     "output_type": "stream",
     "text": [
      "Пн: 3 Вторник: 4 Необработанные аргументы () {}\n",
      "Результат работы функции(то что передается в return): (3, 4)\n",
      "w1=3 w2=4\n",
      "Пн: 6 Вт: 5 Необработанные аргументы ('Ср',) {}\n",
      "Результат работы функции(то что передается в return): (6, 5)\n",
      "w1=6 w2=5\n"
     ]
    }
   ],
   "source": [
    "def lottery(mon, thue='Вторник', *args, **kwargs):\n",
    "    tickets = [1,2,3,4,5,6,7,8,9,10]\n",
    "    \n",
    "    win1 = random.choice(tickets)\n",
    "    tickets.remove(win1)\n",
    "\n",
    "    win2 = random.choice(tickets)\n",
    "    tickets.remove(win2)\n",
    "    \n",
    "    print(f'{mon}: {win1}', f\"{thue}: {win2}\", f'Необработанные аргументы {args} {kwargs}')\n",
    "    print('Результат работы функции(то что передается в return):',(win1, win2))\n",
    "    return win1, win2\n",
    "\n",
    "# w1, w2 = lottery()\n",
    "# print(f'{w1=} {w2=}')\n",
    "w1, w2 = lottery('Пн')\n",
    "print(f'{w1=} {w2=}')\n",
    "w1, w2 = lottery('Пн','Вт','Ср')\n",
    "print(f'{w1=} {w2=}')\n",
    "# w1, w2 = lottery(thue='Втор')\n",
    "# print(f'{w1=} {w2=}')"
   ]
  },
  {
   "cell_type": "code",
   "execution_count": null,
   "metadata": {},
   "outputs": [],
   "source": []
  },
  {
   "cell_type": "markdown",
   "metadata": {},
   "source": []
  },
  {
   "cell_type": "markdown",
   "metadata": {},
   "source": []
  }
 ],
 "metadata": {
  "kernelspec": {
   "display_name": "Python 3",
   "language": "python",
   "name": "python3"
  },
  "language_info": {
   "codemirror_mode": {
    "name": "ipython",
    "version": 3
   },
   "file_extension": ".py",
   "mimetype": "text/x-python",
   "name": "python",
   "nbconvert_exporter": "python",
   "pygments_lexer": "ipython3",
   "version": "3.11.9"
  }
 },
 "nbformat": 4,
 "nbformat_minor": 2
}
