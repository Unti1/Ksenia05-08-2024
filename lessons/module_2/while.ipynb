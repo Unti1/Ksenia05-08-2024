{
 "cells": [
  {
   "cell_type": "markdown",
   "metadata": {},
   "source": [
    "# Цикл While\n",
    "\n",
    "Цикл - это конструкция для повторения кода какое то количество раз"
   ]
  },
  {
   "cell_type": "markdown",
   "metadata": {},
   "source": [
    "Конечный цикл - цикл с явным конечным условием, т.е. такое условие горантированно закончится "
   ]
  },
  {
   "cell_type": "code",
   "execution_count": 7,
   "metadata": {},
   "outputs": [
    {
     "name": "stdout",
     "output_type": "stream",
     "text": [
      "Текущая позиция(нечётн): 1\n",
      "Текущая позиция(чётн): 2\n",
      "Текущая позиция(нечётн): 3\n",
      "Текущая позиция(чётн): 4\n",
      "Текущая позиция(нечётн): 5\n",
      "Текущая позиция(чётн): 6\n",
      "Текущая позиция(нечётн): 7\n",
      "Текущая позиция(чётн): 8\n",
      "Текущая позиция(нечётн): 9\n",
      "Текущая позиция(чётн): 10\n",
      "Обход цикла завершен\n"
     ]
    }
   ],
   "source": [
    "cnt = 1\n",
    "\n",
    "while cnt <= 10:\n",
    "    if cnt % 2 == 0:\n",
    "        print(f'Текущая позиция(чётн): {cnt}')\n",
    "    else:\n",
    "        print(f'Текущая позиция(нечётн): {cnt}')\n",
    "    cnt += 1\n",
    "else:\n",
    "    print(f'Обход цикла завершен')"
   ]
  },
  {
   "cell_type": "markdown",
   "metadata": {},
   "source": [
    "Бесконечные циклы - это циклы (обычно while) условие не может быть выполнено до конца"
   ]
  },
  {
   "cell_type": "code",
   "execution_count": 1,
   "metadata": {},
   "outputs": [
    {
     "ename": "TypeError",
     "evalue": "unsupported operand type(s) for %: 'range' and 'int'",
     "output_type": "error",
     "traceback": [
      "\u001b[0;31m---------------------------------------------------------------------------\u001b[0m",
      "\u001b[0;31mTypeError\u001b[0m                                 Traceback (most recent call last)",
      "Cell \u001b[0;32mIn[1], line 7\u001b[0m\n\u001b[1;32m      4\u001b[0m     \u001b[38;5;28mprint\u001b[39m(\u001b[38;5;124m'\u001b[39m\u001b[38;5;124mЦикл завершен\u001b[39m\u001b[38;5;124m'\u001b[39m)\n\u001b[1;32m      5\u001b[0m     \u001b[38;5;28;01mbreak\u001b[39;00m\n\u001b[0;32m----> 7\u001b[0m \u001b[38;5;28;01mif\u001b[39;00m \u001b[43mx\u001b[49m\u001b[43m \u001b[49m\u001b[38;5;241;43m%\u001b[39;49m\u001b[43m \u001b[49m\u001b[38;5;241;43m2\u001b[39;49m \u001b[38;5;241m==\u001b[39m \u001b[38;5;241m0\u001b[39m:\n\u001b[1;32m      8\u001b[0m     \u001b[38;5;28mprint\u001b[39m(\u001b[38;5;124mf\u001b[39m\u001b[38;5;124m'\u001b[39m\u001b[38;5;124mЧисло: \u001b[39m\u001b[38;5;132;01m{\u001b[39;00mx\u001b[38;5;132;01m}\u001b[39;00m\u001b[38;5;124m - чётное\u001b[39m\u001b[38;5;124m'\u001b[39m)\n\u001b[1;32m      9\u001b[0m     \u001b[38;5;66;03m# continue\u001b[39;00m\n",
      "\u001b[0;31mTypeError\u001b[0m: unsupported operand type(s) for %: 'range' and 'int'"
     ]
    }
   ],
   "source": [
    "while True:\n",
    "    x = int(input('Введите число: '))\n",
    "    if x == 0:\n",
    "        print('Цикл завершен')\n",
    "        break\n",
    "\n",
    "    if x % 2 == 0:\n",
    "        print(f'Число: {x} - чётное')\n",
    "        # continue\n",
    "        print('Что-то')\n",
    "    else:\n",
    "        print(f'Число: {x} - нечётное')\n",
    "else:\n",
    "    print('Цикл завершен')"
   ]
  },
  {
   "cell_type": "markdown",
   "metadata": {},
   "source": [
    "Конструкции управления циклом:\n",
    "- `сontinue` - позволяет проолжить цикл со следующего шага \n",
    "- `break` - позволяет досрочно завершить выполнение цикла"
   ]
  },
  {
   "cell_type": "markdown",
   "metadata": {},
   "source": []
  }
 ],
 "metadata": {
  "kernelspec": {
   "display_name": "Python 3",
   "language": "python",
   "name": "python3"
  },
  "language_info": {
   "codemirror_mode": {
    "name": "ipython",
    "version": 3
   },
   "file_extension": ".py",
   "mimetype": "text/x-python",
   "name": "python",
   "nbconvert_exporter": "python",
   "pygments_lexer": "ipython3",
   "version": "3.11.9"
  }
 },
 "nbformat": 4,
 "nbformat_minor": 2
}
