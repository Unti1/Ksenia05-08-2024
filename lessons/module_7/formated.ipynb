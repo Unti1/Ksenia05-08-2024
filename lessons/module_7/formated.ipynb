{
 "cells": [
  {
   "cell_type": "markdown",
   "metadata": {},
   "source": [
    "# Форматирование\n",
    "\n",
    "Форматирование - это возможность изменть строчку данных дополняя её другими данными(любого типа данных) в заранее подготовленные ячейки"
   ]
  },
  {
   "cell_type": "code",
   "execution_count": 26,
   "metadata": {},
   "outputs": [],
   "source": [
    "# Зададим начальные параметры\n",
    "name='Bob'\n",
    "age=30\n",
    "heigh=1.865"
   ]
  },
  {
   "cell_type": "markdown",
   "metadata": {},
   "source": [
    "Вот так бы у нас выглядели строки без форматирования"
   ]
  },
  {
   "cell_type": "code",
   "execution_count": 5,
   "metadata": {},
   "outputs": [
    {
     "name": "stdout",
     "output_type": "stream",
     "text": [
      "Имя:Bob\n",
      "Возраст: 30\n",
      "Рост: 1.8\n"
     ]
    }
   ],
   "source": [
    "print(\"Имя:\" + name + \"\\nВозраст: \"+ str(age) + \"\\nРост: \" + str(heigh))"
   ]
  },
  {
   "cell_type": "markdown",
   "metadata": {},
   "source": [
    "Такая запись выглядит очень длинной и требует постоянные замены типов данных int->str, float->str "
   ]
  },
  {
   "cell_type": "markdown",
   "metadata": {},
   "source": [
    "# Вставка через процент %"
   ]
  },
  {
   "cell_type": "markdown",
   "metadata": {},
   "source": [
    "Это самый старый представитель форматирования\n",
    "\n",
    "Основные моменты:\n",
    "- Количество аргументов должно совпадать с количеством ячеек\n",
    "- Ячейки вставляются исключительно в том порядке в котором передаются"
   ]
  },
  {
   "cell_type": "code",
   "execution_count": 10,
   "metadata": {},
   "outputs": [
    {
     "name": "stdout",
     "output_type": "stream",
     "text": [
      "Имя: Bob\n",
      "Возраст: 30\n",
      "Рост: 1.8\n"
     ]
    }
   ],
   "source": [
    "print(\"Имя: %s\\nВозраст: %s\\nРост: %s\" % (name, age, heigh) )"
   ]
  },
  {
   "cell_type": "markdown",
   "metadata": {},
   "source": [
    "Какие типы ячеек существуют:\n",
    "\n",
    "    %s - строки\n",
    "    %f - float числа\n",
    "    %d - digit числа (integer)"
   ]
  },
  {
   "cell_type": "code",
   "execution_count": 11,
   "metadata": {},
   "outputs": [
    {
     "name": "stdout",
     "output_type": "stream",
     "text": [
      "Имя: Bob\n",
      "Возраст: 30\n",
      "Рост: 1.800000\n"
     ]
    }
   ],
   "source": [
    "print(\"Имя: %s\\nВозраст: %d\\nРост: %f\" % (name, age, heigh) )"
   ]
  },
  {
   "cell_type": "code",
   "execution_count": 12,
   "metadata": {},
   "outputs": [
    {
     "name": "stdout",
     "output_type": "stream",
     "text": [
      "Имя: Bob\n",
      "Возраст: 30.000000\n",
      "Рост: 1\n"
     ]
    }
   ],
   "source": [
    "print(\"Имя: %s\\nВозраст: %f\\nРост: %d\" % (name, age, heigh) )"
   ]
  },
  {
   "cell_type": "markdown",
   "metadata": {},
   "source": [
    "Вставка значений на конкретные позиции. Для работы метода будет использовать только словарный тип данных"
   ]
  },
  {
   "cell_type": "code",
   "execution_count": 18,
   "metadata": {},
   "outputs": [
    {
     "name": "stdout",
     "output_type": "stream",
     "text": [
      "Имя: Bob\n",
      "Возраст: 30\n",
      "Рост: 1.800000\n"
     ]
    }
   ],
   "source": [
    "print(\"Имя: %(name)s\\nВозраст: %(age)d\\nРост: %(heigh)f\" % {\"name\": name, \"age\": age, \"heigh\": heigh} )"
   ]
  },
  {
   "cell_type": "markdown",
   "metadata": {},
   "source": [
    "### Специальные методы обработки ячейки"
   ]
  },
  {
   "cell_type": "markdown",
   "metadata": {},
   "source": [
    "Это такие методы, которые позволяют изменить свойство отображение передаваемого аргумента в форматируемой строке"
   ]
  },
  {
   "cell_type": "code",
   "execution_count": 33,
   "metadata": {},
   "outputs": [
    {
     "name": "stdout",
     "output_type": "stream",
     "text": [
      "Имя:        Bob\n",
      "Возраст: 0000000030\n",
      "Рост: 0000001.86\n"
     ]
    }
   ],
   "source": [
    "print(\"Имя: %10s\\nВозраст: %010d\\nРост: %010.2f\" % (name, age, heigh) )"
   ]
  },
  {
   "cell_type": "code",
   "execution_count": 37,
   "metadata": {},
   "outputs": [
    {
     "name": "stdout",
     "output_type": "stream",
     "text": [
      "Имя: Bob       |\n",
      "Возраст: 0000000030\n",
      "Рост: 0000001.86\n"
     ]
    }
   ],
   "source": [
    "print(\"Имя: %-10s|\\nВозраст: %010d\\nРост: %010.2f\" % (name, age, heigh) )"
   ]
  },
  {
   "cell_type": "markdown",
   "metadata": {},
   "source": [
    "Все эти методы применимы и для других форматирований"
   ]
  },
  {
   "cell_type": "markdown",
   "metadata": {},
   "source": [
    "# format"
   ]
  },
  {
   "cell_type": "code",
   "execution_count": 19,
   "metadata": {},
   "outputs": [
    {
     "name": "stdout",
     "output_type": "stream",
     "text": [
      "Имя: Bob\n",
      "Возраст: 30\n",
      "Рост: 1.8\n"
     ]
    }
   ],
   "source": [
    "print(\"Имя: {}\\nВозраст: {}\\nРост: {}\".format(name, age, heigh) )"
   ]
  },
  {
   "cell_type": "code",
   "execution_count": 20,
   "metadata": {},
   "outputs": [
    {
     "ename": "IndexError",
     "evalue": "Replacement index 2 out of range for positional args tuple",
     "output_type": "error",
     "traceback": [
      "\u001b[1;31m---------------------------------------------------------------------------\u001b[0m",
      "\u001b[1;31mIndexError\u001b[0m                                Traceback (most recent call last)",
      "Cell \u001b[1;32mIn[20], line 1\u001b[0m\n\u001b[1;32m----> 1\u001b[0m \u001b[38;5;28mprint\u001b[39m(\u001b[38;5;124;43m\"\u001b[39;49m\u001b[38;5;124;43mИмя: \u001b[39;49m\u001b[38;5;132;43;01m{}\u001b[39;49;00m\u001b[38;5;130;43;01m\\n\u001b[39;49;00m\u001b[38;5;124;43mВозраст: \u001b[39;49m\u001b[38;5;132;43;01m{}\u001b[39;49;00m\u001b[38;5;130;43;01m\\n\u001b[39;49;00m\u001b[38;5;124;43mРост: \u001b[39;49m\u001b[38;5;132;43;01m{}\u001b[39;49;00m\u001b[38;5;124;43m\"\u001b[39;49m\u001b[38;5;241;43m.\u001b[39;49m\u001b[43mformat\u001b[49m\u001b[43m(\u001b[49m\u001b[43mname\u001b[49m\u001b[43m,\u001b[49m\u001b[43m \u001b[49m\u001b[43mage\u001b[49m\u001b[43m)\u001b[49m )\n",
      "\u001b[1;31mIndexError\u001b[0m: Replacement index 2 out of range for positional args tuple"
     ]
    }
   ],
   "source": [
    "print(\"Имя: {}\\nВозраст: {}\\nРост: {}\".format(name, age))"
   ]
  },
  {
   "cell_type": "markdown",
   "metadata": {},
   "source": [
    "Как выглядят методы форматирования"
   ]
  },
  {
   "cell_type": "code",
   "execution_count": 42,
   "metadata": {},
   "outputs": [
    {
     "name": "stdout",
     "output_type": "stream",
     "text": [
      "Имя: 30\n",
      "Возраст: Bob\n",
      "Рост: 1.86\n"
     ]
    }
   ],
   "source": [
    "print(\"Имя: {1:}\\nВозраст: {0:}\\nРост: {2:.2f}\".format(name, age, heigh))"
   ]
  },
  {
   "cell_type": "markdown",
   "metadata": {},
   "source": [
    "# f-строка"
   ]
  },
  {
   "cell_type": "code",
   "execution_count": 47,
   "metadata": {},
   "outputs": [
    {
     "name": "stdout",
     "output_type": "stream",
     "text": [
      "Имя: Bob\n",
      "Возраст: 30\n",
      "Рост: 1.865\n"
     ]
    }
   ],
   "source": [
    "print(f\"Имя: {name}\\nВозраст: {age}\\nРост: {heigh}\")"
   ]
  },
  {
   "cell_type": "markdown",
   "metadata": {},
   "source": [
    "Использование методов форматирования"
   ]
  },
  {
   "cell_type": "code",
   "execution_count": 56,
   "metadata": {},
   "outputs": [
    {
     "name": "stdout",
     "output_type": "stream",
     "text": [
      "Имя: Bob       |\n",
      "Возраст: 030\n",
      "Рост: 1.86\n"
     ]
    }
   ],
   "source": [
    "print(f\"Имя: {name:10s}|\\nВозраст: {age:03d}\\nРост: {heigh:.2f}\")"
   ]
  },
  {
   "cell_type": "code",
   "execution_count": 60,
   "metadata": {},
   "outputs": [
    {
     "name": "stdout",
     "output_type": "stream",
     "text": [
      "b=15 a=10\n"
     ]
    },
    {
     "ename": "NameError",
     "evalue": "name 'a' is not defined",
     "output_type": "error",
     "traceback": [
      "\u001b[1;31m---------------------------------------------------------------------------\u001b[0m",
      "\u001b[1;31mNameError\u001b[0m                                 Traceback (most recent call last)",
      "Cell \u001b[1;32mIn[60], line 6\u001b[0m\n\u001b[0;32m      4\u001b[0m     \u001b[38;5;28mprint\u001b[39m(\u001b[38;5;124mf\u001b[39m\u001b[38;5;124m'\u001b[39m\u001b[38;5;132;01m{\u001b[39;00mb\u001b[38;5;132;01m=}\u001b[39;00m\u001b[38;5;124m \u001b[39m\u001b[38;5;132;01m{\u001b[39;00ma\u001b[38;5;132;01m=}\u001b[39;00m\u001b[38;5;124m'\u001b[39m)\n\u001b[0;32m      5\u001b[0m func()\n\u001b[1;32m----> 6\u001b[0m \u001b[38;5;28mprint\u001b[39m(\u001b[38;5;124mf\u001b[39m\u001b[38;5;124m'\u001b[39m\u001b[38;5;132;01m{\u001b[39;00mb\u001b[38;5;132;01m=}\u001b[39;00m\u001b[38;5;124m \u001b[39m\u001b[38;5;132;01m{\u001b[39;00m\u001b[43ma\u001b[49m\u001b[38;5;132;01m=}\u001b[39;00m\u001b[38;5;124m'\u001b[39m)\n",
      "\u001b[1;31mNameError\u001b[0m: name 'a' is not defined"
     ]
    }
   ],
   "source": [
    "b = 15\n",
    "def func():\n",
    "    a = 10\n",
    "    print(f'{b=} {a=}')\n",
    "func()\n",
    "print(f'{b=} {a=}')"
   ]
  },
  {
   "cell_type": "markdown",
   "metadata": {},
   "source": []
  }
 ],
 "metadata": {
  "kernelspec": {
   "display_name": "Python 3",
   "language": "python",
   "name": "python3"
  },
  "language_info": {
   "codemirror_mode": {
    "name": "ipython",
    "version": 3
   },
   "file_extension": ".py",
   "mimetype": "text/x-python",
   "name": "python",
   "nbconvert_exporter": "python",
   "pygments_lexer": "ipython3",
   "version": "3.11.9"
  }
 },
 "nbformat": 4,
 "nbformat_minor": 2
}
