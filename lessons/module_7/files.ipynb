{
 "cells": [
  {
   "cell_type": "markdown",
   "metadata": {},
   "source": [
    "# Открытие файлов"
   ]
  },
  {
   "cell_type": "code",
   "execution_count": null,
   "metadata": {},
   "outputs": [],
   "source": [
    "from pprint import pprint\n",
    "\n",
    "name = 'lessons/module_7/text.txt'\n",
    "file = open(name, 'r')\n",
    "pprint(file.read())\n",
    "file.close()\n",
    "pprint(file.read())"
   ]
  },
  {
   "cell_type": "markdown",
   "metadata": {},
   "source": [
    "У нас есть три режима открытия файла: «r», «w» и «a». «r» — это чтение (от слова «read»), «w» — запись (от слова «write»), а «a» — добавление (от слова «append»). Нам достаточно запомнить эти три режима."
   ]
  },
  {
   "cell_type": "markdown",
   "metadata": {},
   "source": [
    "Есть несколько нюансов: режимы ограничивают то, что мы можем сделать с файлом. Например, при работе в Word или Excel вы, возможно, встречали предупреждение о том, что файл открыт только для чтения. Логика здесь примерно такая же: если мы открыли файл в режиме чтения, то нам доступно только ознакомление с содержимым этого файла. Нужно запомнить, что работа с файлом делится на три этапа:\n",
    "\n",
    "1. Открытие файла;\n",
    "\n",
    "2. Выполнение действия;\n",
    "\n",
    "3. Закрытие файла.\n"
   ]
  },
  {
   "cell_type": "markdown",
   "metadata": {},
   "source": [
    "Теперь файл открыли. Что мы хотим сделать? Для начала давайте посмотрим, что содержится в переменной «file». Запустим код и увидим специальный объект «TextIOWrapper», имя файла, режим открытия и кодировку «cp1252». Эта кодировка устанавливается по умолчанию при открытии файлов."
   ]
  },
  {
   "cell_type": "code",
   "execution_count": null,
   "metadata": {},
   "outputs": [],
   "source": [
    "with open(name, 'r') as file:\n",
    "    print(file.read())\n",
    "\n",
    "print(file.read())"
   ]
  },
  {
   "cell_type": "markdown",
   "metadata": {},
   "source": [
    "А что на счёт записи? При записи в файл, всё содержимое файла удаляется и после метод write(*text*) происходит запись текста в файл"
   ]
  },
  {
   "cell_type": "code",
   "execution_count": null,
   "metadata": {},
   "outputs": [],
   "source": [
    "name = 'lessons/module_7/text1.txt'\n",
    "with open(name, 'w') as file:\n",
    "    print(file.write('\\nhello\\nworld'))\n",
    "    # print(file.read())\n"
   ]
  },
  {
   "cell_type": "markdown",
   "metadata": {},
   "source": [
    "Режим 'a' - режим дозаписи в файл без удаление содержания. Работает на тех же методах что и модификатор записи 'w' но в отличии от w не стирает данные файла перед добавлением. От слова (a)ppend"
   ]
  },
  {
   "cell_type": "code",
   "execution_count": null,
   "metadata": {},
   "outputs": [],
   "source": [
    "with open(name, 'a') as file:\n",
    "    print(file.write('\\nhello world2'))"
   ]
  },
  {
   "cell_type": "markdown",
   "metadata": {},
   "source": [
    "### Какие ещё есть режимы ?\n",
    "\n",
    "'x' - создает новый файл и открывает файл для записи (если файл уже существует, то будет ошибка)\n",
    "'b' - модификатор для открытия в двоичном (бинарном) формате\n",
    "'t' - text (запуск как текста (стандарт))\n",
    "'+' - для открытия файла и дозаписи(чтение + дозапись)"
   ]
  },
  {
   "cell_type": "markdown",
   "metadata": {},
   "source": []
  },
  {
   "cell_type": "markdown",
   "metadata": {},
   "source": [
    "Д\n"
   ]
  }
 ],
 "metadata": {
  "kernelspec": {
   "display_name": "Python 3",
   "language": "python",
   "name": "python3"
  },
  "language_info": {
   "codemirror_mode": {
    "name": "ipython",
    "version": 3
   },
   "file_extension": ".py",
   "mimetype": "text/x-python",
   "name": "python",
   "nbconvert_exporter": "python",
   "pygments_lexer": "ipython3",
   "version": "3.11.9"
  }
 },
 "nbformat": 4,
 "nbformat_minor": 2
}
