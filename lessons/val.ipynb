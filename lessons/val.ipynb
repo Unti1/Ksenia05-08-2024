{
 "cells": [
  {
   "cell_type": "markdown",
   "metadata": {},
   "source": [
    "# Переменные\n",
    "- это своего рода контейнер, которому мы даём название и решаем что в нем хранить. Переменные внутри Python не пивязаны к типу данных (Динамической типизации)"
   ]
  },
  {
   "cell_type": "markdown",
   "metadata": {},
   "source": [
    "При создании переменных используется ряд правил для названия самого \"контейнера\":\n",
    "1. Используем только символы латинского алфавита\n",
    "2. Не использовать ключевые слова Python (print, input, str, int, list, dict и ...) [все ключевые слова будут в блоке ниже]\n",
    "3. Можно ставить цифры, но не в начале названия переменной\n",
    "4. Если нужно поставить отступы в названии, то используются знаки _ и -. Все остальные символы пунктуации ставить запрещено\n",
    "\n",
    "При программировании чего-либо важно понимать что регистр(чувствительность к размеру символа [А или а]) очень важен. То есть если `print` записан так, то такой `PrinT` не существует \n",
    "\n"
   ]
  },
  {
   "cell_type": "code",
   "execution_count": 5,
   "metadata": {},
   "outputs": [
    {
     "data": {
      "text/plain": [
       "['False',\n",
       " 'None',\n",
       " 'True',\n",
       " 'and',\n",
       " 'as',\n",
       " 'assert',\n",
       " 'async',\n",
       " 'await',\n",
       " 'break',\n",
       " 'class',\n",
       " 'continue',\n",
       " 'def',\n",
       " 'del',\n",
       " 'elif',\n",
       " 'else',\n",
       " 'except',\n",
       " 'finally',\n",
       " 'for',\n",
       " 'from',\n",
       " 'global',\n",
       " 'if',\n",
       " 'import',\n",
       " 'in',\n",
       " 'is',\n",
       " 'lambda',\n",
       " 'nonlocal',\n",
       " 'not',\n",
       " 'or',\n",
       " 'pass',\n",
       " 'raise',\n",
       " 'return',\n",
       " 'try',\n",
       " 'while',\n",
       " 'with',\n",
       " 'yield']"
      ]
     },
     "execution_count": 5,
     "metadata": {},
     "output_type": "execute_result"
    }
   ],
   "source": [
    "import keyword\n",
    "keyword.kwlist"
   ]
  },
  {
   "cell_type": "markdown",
   "metadata": {},
   "source": [
    "# Синтаксис переменных\n",
    "* синтаксис - определенный шаблон написания\\описания какой либо конструкции\n",
    "\n",
    "```\n",
    "*Название переменной* = *То что храним внутри*\n",
    "``` "
   ]
  },
  {
   "cell_type": "code",
   "execution_count": 13,
   "metadata": {},
   "outputs": [],
   "source": [
    "hello_text = \"Hello, User ...\""
   ]
  },
  {
   "cell_type": "code",
   "execution_count": 14,
   "metadata": {},
   "outputs": [
    {
     "name": "stdout",
     "output_type": "stream",
     "text": [
      "Hello, User ...\n",
      "Hello\n",
      ", User ...\n",
      ", User ...\n",
      ".\n"
     ]
    }
   ],
   "source": [
    "print(hello_text)\n",
    "print(hello_text[:5])\n",
    "print(hello_text[5:])\n",
    "print(hello_text[-10:])\n",
    "print(hello_text[-1:])"
   ]
  },
  {
   "cell_type": "markdown",
   "metadata": {},
   "source": [
    "# Стили описания"
   ]
  },
  {
   "cell_type": "code",
   "execution_count": 17,
   "metadata": {},
   "outputs": [
    {
     "name": "stdout",
     "output_type": "stream",
     "text": [
      "value\n",
      "value1\n",
      "value1  245\n"
     ]
    }
   ],
   "source": [
    "this_my_new_value = \"value\"\n",
    "print(this_my_new_value)\n",
    "this_my_new_value = 'value1' # Переприсвоение\n",
    "print(this_my_new_value)\n",
    "\n",
    "# this_my_new_value = this_my_new_value + \"  245\" # Переприсвоение\n",
    "# print(this_my_new_value)\n"
   ]
  },
  {
   "cell_type": "markdown",
   "metadata": {},
   "source": [
    "*переприсвоение -- процесс замены значения внутри уже созданной(<u>объявленной</u>) переменной "
   ]
  },
  {
   "cell_type": "code",
   "execution_count": 19,
   "metadata": {},
   "outputs": [
    {
     "name": "stdout",
     "output_type": "stream",
     "text": [
      "value\n"
     ]
    },
    {
     "ename": "NameError",
     "evalue": "name 'PRINT' is not defined",
     "output_type": "error",
     "traceback": [
      "\u001b[1;31m---------------------------------------------------------------------------\u001b[0m",
      "\u001b[1;31mNameError\u001b[0m                                 Traceback (most recent call last)",
      "Cell \u001b[1;32mIn[19], line 4\u001b[0m\n\u001b[0;32m      1\u001b[0m NameOfValue \u001b[38;5;241m=\u001b[39m \u001b[38;5;124m\"\u001b[39m\u001b[38;5;124mvalue\u001b[39m\u001b[38;5;124m\"\u001b[39m\n\u001b[0;32m      2\u001b[0m \u001b[38;5;28mprint\u001b[39m(NameOfValue)\n\u001b[1;32m----> 4\u001b[0m \u001b[43mPRINT\u001b[49m\n",
      "\u001b[1;31mNameError\u001b[0m: name 'PRINT' is not defined"
     ]
    }
   ],
   "source": [
    "NameOfValue = \"value\"\n",
    "print(NameOfValue)"
   ]
  },
  {
   "cell_type": "markdown",
   "metadata": {},
   "source": []
  }
 ],
 "metadata": {
  "kernelspec": {
   "display_name": "Python 3",
   "language": "python",
   "name": "python3"
  },
  "language_info": {
   "codemirror_mode": {
    "name": "ipython",
    "version": 3
   },
   "file_extension": ".py",
   "mimetype": "text/x-python",
   "name": "python",
   "nbconvert_exporter": "python",
   "pygments_lexer": "ipython3",
   "version": "3.11.6"
  }
 },
 "nbformat": 4,
 "nbformat_minor": 2
}
