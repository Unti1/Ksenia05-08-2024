{
 "cells": [
  {
   "cell_type": "markdown",
   "metadata": {},
   "source": [
    "# Переменные\n",
    "- это своего рода контейнер, которому мы даём название и решаем что в нем хранить. Переменные внутри Python не пивязаны к типу данных (Динамической типизации)"
   ]
  },
  {
   "cell_type": "markdown",
   "metadata": {},
   "source": [
    "При создании переменных используется ряд правил для названия самого \"контейнера\":\n",
    "1. Используем только символы латинского алфавита\n",
    "2. Не использовать ключевые слова Python (print, input, str, int, list, dict и ...) [все ключевые слова будут в блоке ниже]\n",
    "3. Можно ставить цифры, но не в начале названия переменной\n",
    "4. Если нужно поставить отступы в названии, то используются знаки _ и -. Все остальные символы пунктуации ставить запрещено\n",
    "\n",
    "При программировании чего-либо важно понимать что регистр(чувствительность к размеру символа [А или а]) очень важен. То есть если `print` записан так, то такой `PrinT` не существует \n",
    "\n"
   ]
  },
  {
   "cell_type": "code",
   "execution_count": 10,
   "metadata": {},
   "outputs": [
    {
     "data": {
      "text/plain": [
       "['False',\n",
       " 'None',\n",
       " 'True',\n",
       " 'and',\n",
       " 'as',\n",
       " 'assert',\n",
       " 'async',\n",
       " 'await',\n",
       " 'break',\n",
       " 'class',\n",
       " 'continue',\n",
       " 'def',\n",
       " 'del',\n",
       " 'elif',\n",
       " 'else',\n",
       " 'except',\n",
       " 'finally',\n",
       " 'for',\n",
       " 'from',\n",
       " 'global',\n",
       " 'if',\n",
       " 'import',\n",
       " 'in',\n",
       " 'is',\n",
       " 'lambda',\n",
       " 'nonlocal',\n",
       " 'not',\n",
       " 'or',\n",
       " 'pass',\n",
       " 'raise',\n",
       " 'return',\n",
       " 'try',\n",
       " 'while',\n",
       " 'with',\n",
       " 'yield']"
      ]
     },
     "execution_count": 10,
     "metadata": {},
     "output_type": "execute_result"
    }
   ],
   "source": [
    "import keyword\n",
    "keyword.kwlist"
   ]
  },
  {
   "cell_type": "markdown",
   "metadata": {},
   "source": [
    "# Синтаксис переменных\n",
    "* синтаксис - определенный шаблон написания\\описания какой либо конструкции\n",
    "\n",
    "```\n",
    "*Название переменной* = *То что храним внутри*\n",
    "``` "
   ]
  },
  {
   "cell_type": "code",
   "execution_count": 1,
   "metadata": {},
   "outputs": [],
   "source": [
    "hello_text = \"Hello, User ...\""
   ]
  },
  {
   "cell_type": "code",
   "execution_count": 4,
   "metadata": {},
   "outputs": [
    {
     "name": "stdout",
     "output_type": "stream",
     "text": [
      "Hello, User ...\n",
      "Hello\n",
      ", User ...\n",
      ", User ...\n",
      ".\n"
     ]
    }
   ],
   "source": [
    "print(hello_text)\n",
    "print(hello_text[:5])\n",
    "print(hello_text[5:])\n",
    "print(hello_text[-10:])\n",
    "print(hello_text[-1:])"
   ]
  },
  {
   "cell_type": "markdown",
   "metadata": {},
   "source": [
    "# Стили описания"
   ]
  },
  {
   "cell_type": "code",
   "execution_count": 6,
   "metadata": {},
   "outputs": [
    {
     "name": "stdout",
     "output_type": "stream",
     "text": [
      "value\n",
      "value1\n"
     ]
    }
   ],
   "source": [
    "this_my_new_value = \"value\"\n",
    "print(this_my_new_value)\n",
    "this_my_new_value = 'value1' # Переприсвоение\n",
    "print(this_my_new_value)\n",
    "\n",
    "# this_my_new_value = this_my_new_value + \"  245\" # Переприсвоение\n",
    "# print(this_my_new_value)\n"
   ]
  },
  {
   "cell_type": "markdown",
   "metadata": {},
   "source": [
    "*переприсвоение -- процесс замены значения внутри уже созданной(<u>объявленной</u>) переменной "
   ]
  },
  {
   "cell_type": "code",
   "execution_count": 7,
   "metadata": {},
   "outputs": [
    {
     "name": "stdout",
     "output_type": "stream",
     "text": [
      "value\n"
     ]
    }
   ],
   "source": [
    "NameOfValue = \"value\"\n",
    "print(NameOfValue)"
   ]
  },
  {
   "cell_type": "markdown",
   "metadata": {},
   "source": [
    "# Динамическая типизация"
   ]
  },
  {
   "cell_type": "markdown",
   "metadata": {},
   "source": [
    "-- это возможность изменять тип данных переменной. В python это можно сделать без каких либо дополнительных конструкций заменив значение внутри переменной(при переопределении) на значение другого типа данных"
   ]
  },
  {
   "cell_type": "code",
   "execution_count": 15,
   "metadata": {},
   "outputs": [
    {
     "name": "stdout",
     "output_type": "stream",
     "text": [
      "value <class 'str'>\n"
     ]
    }
   ],
   "source": [
    "print(NameOfValue, type(NameOfValue))"
   ]
  },
  {
   "cell_type": "code",
   "execution_count": 16,
   "metadata": {},
   "outputs": [
    {
     "name": "stdout",
     "output_type": "stream",
     "text": [
      "54 <class 'str'>\n"
     ]
    }
   ],
   "source": [
    "NameOfValue = '54'\n",
    "val2 = '45'\n",
    "print(NameOfValue, type(NameOfValue))"
   ]
  },
  {
   "cell_type": "code",
   "execution_count": 17,
   "metadata": {},
   "outputs": [
    {
     "name": "stdout",
     "output_type": "stream",
     "text": [
      "5445\n"
     ]
    }
   ],
   "source": [
    "print(NameOfValue + val2)"
   ]
  },
  {
   "cell_type": "code",
   "execution_count": null,
   "metadata": {},
   "outputs": [],
   "source": []
  }
 ],
 "metadata": {
  "kernelspec": {
   "display_name": "Python 3",
   "language": "python",
   "name": "python3"
  },
  "language_info": {
   "codemirror_mode": {
    "name": "ipython",
    "version": 3
   },
   "file_extension": ".py",
   "mimetype": "text/x-python",
   "name": "python",
   "nbconvert_exporter": "python",
   "pygments_lexer": "ipython3",
   "version": "3.11.9"
  }
 },
 "nbformat": 4,
 "nbformat_minor": 2
}
