{
 "cells": [
  {
   "cell_type": "markdown",
   "metadata": {},
   "source": [
    "# Итераторы"
   ]
  },
  {
   "cell_type": "markdown",
   "metadata": {},
   "source": [
    "**Итераторы** — это объект, который позволяет перемещаться по элементам другого объекта или последовательности. На практике вы уже сталкивались с ними, используя конструкции, работающие с итераторами.\n",
    "\n",
    "Например, в цикле for, когда выполнялось перемещение по объекту, такому как список, множество или строка. Однако процесс перемещения происходит не из-за самой конструкции \"for in name\". Фактически, при написании конструкции \"for in\" активируется итератор, связанный с указанным объектом.\n",
    "\n",
    "Будь то строка или список, у каждого объекта этих классов есть собственный итератор. Итератор позволяет перемещаться по каждому элементу, извлекать его, запоминать, передавать и выполнять с ним различные операции. После завершения всех операций с текущим элементом итератор предоставляет следующий элемент объекта."
   ]
  },
  {
   "cell_type": "code",
   "execution_count": 1,
   "metadata": {},
   "outputs": [
    {
     "name": "stdout",
     "output_type": "stream",
     "text": [
      "<generator object <genexpr> at 0x0000018184A23780>\n"
     ]
    }
   ],
   "source": [
    "# nums = [x * 3 for x in range(1,10000000)]\n",
    "result = (x * 3 for x in range(1,10000000))\n",
    "print(result)\n"
   ]
  },
  {
   "cell_type": "markdown",
   "metadata": {},
   "source": [
    "**Ленивые вычисления** — это процесс, при котором вычисления производятся только тогда, когда это действительно необходимо. В случае, если мы создаём список «а», содержащий заранее вычисленные значения, он сразу же полностью формируется и сохраняется в памяти."
   ]
  },
  {
   "cell_type": "code",
   "execution_count": 2,
   "metadata": {},
   "outputs": [
    {
     "name": "stdout",
     "output_type": "stream",
     "text": [
      "3\n",
      "6\n",
      "9\n",
      "12\n"
     ]
    }
   ],
   "source": [
    "\n",
    "print(result.__next__())\n",
    "print(result.__next__())\n",
    "print(result.__next__())\n",
    "print(result.__next__())"
   ]
  },
  {
   "cell_type": "code",
   "execution_count": 3,
   "metadata": {},
   "outputs": [
    {
     "name": "stdout",
     "output_type": "stream",
     "text": [
      "15\n"
     ]
    }
   ],
   "source": [
    "print(result.__next__())"
   ]
  },
  {
   "cell_type": "markdown",
   "metadata": {},
   "source": [
    "# Создание собственного итератора"
   ]
  },
  {
   "cell_type": "markdown",
   "metadata": {},
   "source": [
    "- Собственный итератор — это объект, который может перемещаться по элементам другого объекта и выполнять с ними различные алгоритмы.\n",
    "\n",
    "1) Метод __iter__: этот магический метод должен быть определён у объекта. Он принимает на вход сам объект (self) и инициализирует итератор. В рамках этого метода:\n",
    "\n",
    "- Инициализируется счётчик, который отслеживает текущую позицию (обычно его сбрасывают до нуля).\n",
    "- Выполняются все необходимые действия для подготовки итератора.\n",
    "\n",
    "2) Метод __next__: этот магический метод также обязателен.\n",
    "\n",
    "- Принимает объект (self) в качестве аргумента.\n",
    "- Считывает текущий элемент на основе значения счётчика.\n",
    "- Переходит к следующему элементу после завершения работы с текущим.\n",
    "- Процесс продолжается до тех пор, пока итератор не достигнет конца последовательности или его не остановят вручную"
   ]
  },
  {
   "cell_type": "code",
   "execution_count": 5,
   "metadata": {},
   "outputs": [
    {
     "name": "stdout",
     "output_type": "stream",
     "text": [
      "Размер итератора - 48\n"
     ]
    }
   ],
   "source": [
    "from itertools import repeat\n",
    "import sys\n",
    "\n",
    "ex_iterator = repeat(\"4\", 100000)\n",
    "# print(ex_iterator)\n",
    "print(f'Размер итератора - {sys.getsizeof(ex_iterator)}')"
   ]
  },
  {
   "cell_type": "markdown",
   "metadata": {},
   "source": [
    "Функция \"repeat\" из библиотеки \"itertools\" используется для повторения определённого значения несколько раз. Она принимает два аргумента:\n",
    "\n",
    "1) Первый аргумент — это значение, которое нужно повторять.\n",
    "2) Второй аргумент — количество повторений этого значения "
   ]
  },
  {
   "cell_type": "code",
   "execution_count": 8,
   "metadata": {},
   "outputs": [
    {
     "name": "stdout",
     "output_type": "stream",
     "text": [
      "Размер строки - 100049\n",
      "Соотношение: 2084.3541666666665\n"
     ]
    }
   ],
   "source": [
    "\n",
    "ex_str = \"4\"* 100000\n",
    "# print(ex_str)\n",
    "print(f'Размер строки - {sys.getsizeof(ex_str)}')\n",
    "print(f'Соотношение: {sys.getsizeof(ex_str)/sys.getsizeof(ex_iterator)}')"
   ]
  },
  {
   "cell_type": "code",
   "execution_count": 12,
   "metadata": {},
   "outputs": [],
   "source": [
    "class Iter:\n",
    "    def __init__(self):\n",
    "        self.first = 'Первый элемент'\n",
    "        self.second = 'Второй элемент'\n",
    "        self.third = 'Третий элемент'\n",
    "        self.i = 0\n",
    "    \n",
    "    def __iter__(self):\n",
    "        self.i = 0\n",
    "        return self\n",
    "    \n",
    "    def __next__(self):\n",
    "        self.i += 1\n",
    "        match self.i: # if self.i ==\n",
    "            case 1: # == 1\n",
    "                return self.first\n",
    "            case 2: #elif self.i == 2\n",
    "                return self.second\n",
    "            case 3: #elif self.i == 3\n",
    "                return self.third\n",
    "            case 4: #elif self.i == 4\n",
    "                return \"Подсчёт заного\"\n",
    "            case _: # else\n",
    "                raise StopIteration()\n"
   ]
  },
  {
   "cell_type": "code",
   "execution_count": 18,
   "metadata": {},
   "outputs": [
    {
     "name": "stdout",
     "output_type": "stream",
     "text": [
      "<__main__.Iter object at 0x000002B85BBF0A10>\n",
      "['Первый элемент', 'Второй элемент', 'Третий элемент', 'Подсчёт заного']\n",
      "Первый элемент\n",
      "Второй элемент\n",
      "Третий элемент\n",
      "Подсчёт заного\n",
      "Первый элемент\n",
      "Второй элемент\n",
      "Третий элемент\n",
      "Подсчёт заного\n",
      "Первый элемент\n",
      "Второй элемент\n",
      "Третий элемент\n",
      "Подсчёт заного\n"
     ]
    }
   ],
   "source": [
    "\n",
    "it = Iter()\n",
    "\n",
    "print(it)\n",
    "print(list(it))\n",
    "\n",
    "for value in it:\n",
    "    print(value)\n",
    "\n",
    "for value in it:# Каждое использование вот такой конструкции запускает __iter__ тем самым сбрасывая счётчик(индекс) до 0 \n",
    "    print(value)\n",
    "\n",
    "for value in it:\n",
    "    print(value)"
   ]
  },
  {
   "cell_type": "code",
   "execution_count": 20,
   "metadata": {},
   "outputs": [
    {
     "name": "stdout",
     "output_type": "stream",
     "text": [
      "Первый элемент\n",
      "Второй элемент\n",
      "Третий элемент\n",
      "Подсчёт заного\n"
     ]
    },
    {
     "ename": "StopIteration",
     "evalue": "",
     "output_type": "error",
     "traceback": [
      "\u001b[1;31m---------------------------------------------------------------------------\u001b[0m",
      "\u001b[1;31mStopIteration\u001b[0m                             Traceback (most recent call last)",
      "Cell \u001b[1;32mIn[20], line 4\u001b[0m\n\u001b[0;32m      1\u001b[0m it \u001b[38;5;241m=\u001b[39m Iter()\n\u001b[0;32m      3\u001b[0m \u001b[38;5;28;01mwhile\u001b[39;00m \u001b[38;5;28;01mTrue\u001b[39;00m:\n\u001b[1;32m----> 4\u001b[0m         value \u001b[38;5;241m=\u001b[39m \u001b[43mit\u001b[49m\u001b[38;5;241;43m.\u001b[39;49m\u001b[38;5;21;43m__next__\u001b[39;49m\u001b[43m(\u001b[49m\u001b[43m)\u001b[49m\n\u001b[0;32m      5\u001b[0m         \u001b[38;5;28mprint\u001b[39m(value)\n\u001b[0;32m      8\u001b[0m \u001b[38;5;28;01mtry\u001b[39;00m:\n",
      "Cell \u001b[1;32mIn[12], line 24\u001b[0m, in \u001b[0;36mIter.__next__\u001b[1;34m(self)\u001b[0m\n\u001b[0;32m     22\u001b[0m     \u001b[38;5;28;01mreturn\u001b[39;00m \u001b[38;5;124m\"\u001b[39m\u001b[38;5;124mПодсчёт заного\u001b[39m\u001b[38;5;124m\"\u001b[39m\n\u001b[0;32m     23\u001b[0m \u001b[38;5;28;01mcase\u001b[39;00m\u001b[38;5;250m \u001b[39m\u001b[38;5;28;01m_\u001b[39;00m:\n\u001b[1;32m---> 24\u001b[0m     \u001b[38;5;28;01mraise\u001b[39;00m \u001b[38;5;167;01mStopIteration\u001b[39;00m()\n",
      "\u001b[1;31mStopIteration\u001b[0m: "
     ]
    }
   ],
   "source": [
    "it = Iter()\n",
    "\n",
    "# while True:\n",
    "#         value = it.__next__()\n",
    "#         print(value)\n",
    "\n",
    "\n",
    "try:\n",
    "    while True:\n",
    "        value = it.__next__()\n",
    "        print(value)\n",
    "except StopIteration:\n",
    "    print(\"Цикл завершен\")"
   ]
  },
  {
   "cell_type": "code",
   "execution_count": 25,
   "metadata": {},
   "outputs": [
    {
     "name": "stdout",
     "output_type": "stream",
     "text": [
      "800984\n"
     ]
    }
   ],
   "source": [
    "# 0 1 1 2 3 5 ... \n",
    "\n",
    "def fibonachi(n):\n",
    "    result = []\n",
    "    a, b = 0, 1\n",
    "    for _ in range(n):\n",
    "        result.append(a)\n",
    "        a, b = b, a + b\n",
    "    return result\n",
    "\n",
    "\n",
    "print(sys.getsizeof(fibonachi(n=100000)))"
   ]
  },
  {
   "cell_type": "code",
   "execution_count": 26,
   "metadata": {},
   "outputs": [
    {
     "name": "stdout",
     "output_type": "stream",
     "text": [
      "56\n"
     ]
    }
   ],
   "source": [
    "class Fibonachi:\n",
    "    def __init__(self, n):\n",
    "        self.i, self.a, self.b, self.n = 0, 0, 1, n\n",
    "    \n",
    "    def __iter__(self):\n",
    "        self.i, self.a, self.b = 0, 0, 1\n",
    "        return self\n",
    "    \n",
    "    def __next__(self):\n",
    "        self.i += 1\n",
    "        if self.i > 1:\n",
    "            if self.i > self.n:\n",
    "                raise StopIteration\n",
    "            self.a, self.b = self.b, self.b + self.a\n",
    "        return self.a\n",
    "\n",
    "fib_it = Fibonachi(100000)\n",
    "# for value in fib_it:\n",
    "#     print(value)\n",
    "print(sys.getsizeof(fib_it))\n"
   ]
  },
  {
   "cell_type": "code",
   "execution_count": null,
   "metadata": {},
   "outputs": [],
   "source": []
  }
 ],
 "metadata": {
  "kernelspec": {
   "display_name": "Python 3",
   "language": "python",
   "name": "python3"
  },
  "language_info": {
   "codemirror_mode": {
    "name": "ipython",
    "version": 3
   },
   "file_extension": ".py",
   "mimetype": "text/x-python",
   "name": "python",
   "nbconvert_exporter": "python",
   "pygments_lexer": "ipython3",
   "version": "3.11.9"
  }
 },
 "nbformat": 4,
 "nbformat_minor": 2
}
