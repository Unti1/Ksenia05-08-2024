{
 "cells": [
  {
   "cell_type": "markdown",
   "metadata": {},
   "source": [
    "# Наследование классов"
   ]
  },
  {
   "cell_type": "markdown",
   "metadata": {},
   "source": [
    "### Зачем нужно наследование"
   ]
  },
  {
   "cell_type": "code",
   "execution_count": null,
   "metadata": {},
   "outputs": [],
   "source": [
    "class Human:\n",
    "    head = True\n",
    "\n",
    "class Student:\n",
    "    def about(self):\n",
    "        print('Я студент')\n",
    "\n",
    "human = Human()\n",
    "student = Student()\n",
    "print(human.head)\n",
    "student.about\n",
    "print(student.head)"
   ]
  },
  {
   "cell_type": "markdown",
   "metadata": {},
   "source": [
    "Родительский класс определяется как и где угодно, его основной смысл в том чтобы передать другому классу свои свойства и атрибуты\n",
    "\n",
    "Наследование -- процесс передачи атрибутов и методов из <u>родительского класса</u> в дочерний класс(класс-потомок)"
   ]
  },
  {
   "cell_type": "code",
   "execution_count": null,
   "metadata": {},
   "outputs": [],
   "source": [
    "class Human:\n",
    "    head = True\n",
    "\n",
    "class Student(Human): # <= Само наследование\n",
    "    def about(self):\n",
    "        print('Я студент')\n",
    "\n",
    "human = Human()\n",
    "student = Student()\n",
    "print(human.head)\n",
    "student.about()\n",
    "print(student.head)\n",
    "\n",
    "human.about()"
   ]
  },
  {
   "cell_type": "code",
   "execution_count": null,
   "metadata": {},
   "outputs": [],
   "source": [
    "class Human:\n",
    "    head = True\n",
    "\n",
    "class Student(Human): # <= Само наследование\n",
    "    def about(self):\n",
    "        print('Я студент')\n",
    "    \n",
    "    def say_hello(self):\n",
    "        print('Здравствуйте')\n",
    "\n",
    "class Teacher(Human):\n",
    "    def say_hello(self):\n",
    "        print('Здравствуйте')\n"
   ]
  },
  {
   "cell_type": "markdown",
   "metadata": {},
   "source": [
    "После определения классов выше, мы можем заметить что некоторые классы имеют один и тот же метод, который вызывает одно и то же действие. В данном случае мы использовуем наследование чтобы избегать повторных методов(которые возвращают одно и то же или имеют один и тот же функционал) определяя этот метод в классе-родителе"
   ]
  },
  {
   "cell_type": "code",
   "execution_count": null,
   "metadata": {},
   "outputs": [],
   "source": [
    "class Human:\n",
    "    head = True\n",
    "\n",
    "    def say_hello(self):\n",
    "        print('Здравствуйте')\n",
    "\n",
    "class Student(Human): # <= Само наследование\n",
    "    def about(self):\n",
    "        print('Я студент')\n",
    "    \n",
    "class Teacher(Human):\n",
    "    pass\n",
    "\n",
    "student = Student()\n",
    "teacher = Teacher()\n",
    "teacher.say_hello()\n",
    "student.say_hello()\n",
    "print(teacher.head, student.head)"
   ]
  },
  {
   "cell_type": "code",
   "execution_count": null,
   "metadata": {},
   "outputs": [],
   "source": [
    "Teacher.mro()"
   ]
  },
  {
   "cell_type": "code",
   "execution_count": null,
   "metadata": {},
   "outputs": [],
   "source": [
    "st = 'string' # str\n",
    "digit = 3 # int\n",
    "int.mro()"
   ]
  },
  {
   "cell_type": "markdown",
   "metadata": {},
   "source": [
    "### Доступ к свойствам родителя или <u>*Инкапсуляция*</u>"
   ]
  },
  {
   "cell_type": "markdown",
   "metadata": {},
   "source": [
    "Инкапсуляция - возможность создавать в классе доступность для определенных методов и атрибутов.\n",
    "\n",
    "Как выставляется доступность:\n",
    "\n",
    "`*метод или атрибут*` - публичный доступ, общедоступный. Public\n",
    "\n",
    "`_*метод или атрибут*` - защищенный доступ. Protected\n",
    "\n",
    "`__*метод или атрибут*` - скрытый доступ. Hidden\n",
    "\n",
    "\n",
    "\n",
    "**Public** - Общий доступ к атрибуту или методу класса, такой доступ позволяет любому классу наследнику его забрать без каких либо проблем<br>\n",
    "**Protected** - Защищеный доступ, существует для того, чтобы при сохранении в процессор этот атрибут или метод был зашифрован, и его невозможно было бы достать<br>\n",
    "**Hidden** - Скрытый доступ. По логике отрезает доступ для класса потомка к атрибуту и методу. Такой метод может быть использован ТОЛЬКО классом-родителем<br>"
   ]
  },
  {
   "cell_type": "code",
   "execution_count": 27,
   "metadata": {},
   "outputs": [
    {
     "name": "stdout",
     "output_type": "stream",
     "text": [
      "------------------\n",
      "True\n",
      "True\n",
      "True\n",
      "------------------\n",
      "True\n",
      "False\n",
      "True\n",
      "False\n",
      "body =  True\n",
      "Protected функция\n",
      "Hidden функция\n"
     ]
    }
   ],
   "source": [
    "class Human:\n",
    "    head = True # передача не запрещена\n",
    "    _legs = True # передача не запрещена\n",
    "    __body = True # передача и исползование в других классах запрещена\n",
    "\n",
    "    def about(self):\n",
    "        print(self.head)\n",
    "        print(self._legs)\n",
    "        print(self.__body)\n",
    "\n",
    "    def say_hello(self):\n",
    "        print('Здравствуйте')\n",
    "\n",
    "    def _func(self):\n",
    "        print('Protected функция')\n",
    "        \n",
    "    def __func(self):\n",
    "        print('Hidden функция')\n",
    "\n",
    "\n",
    "class Student(Human):\n",
    "    pass\n",
    "\n",
    "class Teacher(Human):\n",
    "    def about(self):\n",
    "        print('------------------')\n",
    "        print(self.head)\n",
    "        print(self._legs)\n",
    "        # print(self.__body)\n",
    "        print(self._Human__body)\n",
    "        print('------------------')\n",
    "    \n",
    "    def call_hidden(self):\n",
    "        # super().__func()\n",
    "        # self.__func()\n",
    "        pass\n",
    "\n",
    "h= Human()\n",
    "s = Student()\n",
    "t = Teacher()\n",
    "\n",
    "t.about()\n",
    "\n",
    "print(t._legs)\n",
    "t._legs = False\n",
    "print(t._legs)\n",
    "print(t.head)\n",
    "t.head = False\n",
    "print(t.head)\n",
    "\n",
    "# Если очень хочется получить доступ к hidden атрибуту. Мы можем описать это так\n",
    "print(\"body = \", t._Human__body)\n",
    "\n",
    "\n",
    "t._func()\n",
    "# t.__func()\n",
    "t._Human__func()\n",
    "t.call_hidden()"
   ]
  },
  {
   "cell_type": "code",
   "execution_count": null,
   "metadata": {},
   "outputs": [],
   "source": [
    "class Human:\n",
    "    head = True # передача не запрещена\n",
    "    _legs = True # передача не запрещена\n",
    "    __body = True # передача и исползование в других классах запрещена\n",
    "\n",
    "    def about(self):\n",
    "        print(self.head)\n",
    "        print(self._legs)\n",
    "        print(self.__body)\n",
    "\n",
    "    def say_hello(self):\n",
    "        print('Здравствуйте')\n",
    "\n",
    "    def _func(self):\n",
    "        print('Protected функция')\n",
    "        \n",
    "    def __func(self):\n",
    "        print('Hidden функция')\n",
    "\n",
    "\n",
    "class Student(Human):\n",
    "    pass\n",
    "\n",
    "class Teacher(Human):\n",
    "    def about(self):\n",
    "        print('------------------')\n",
    "        print(self.head)\n",
    "        print(self._legs)\n",
    "        # print(self.__body)\n",
    "        print(self._Human__body)\n",
    "        print('------------------')\n",
    "    \n",
    "    def call_hidden(self):\n",
    "        # super().__func()\n",
    "        # self.__func()\n",
    "        print(self._Human__func())\n",
    "\n",
    "h = Human()\n",
    "s = Student()\n",
    "t = Teacher()\n",
    "\n",
    "t.about()\n",
    "\n",
    "print(t._legs)\n",
    "t._legs = False\n",
    "print(t._legs)\n",
    "print(t.head)\n",
    "t.head = False\n",
    "print(t.head)\n",
    "\n",
    "# Если очень хочется получить доступ к hidden атрибуту. Мы можем описать это так\n",
    "print(\"body = \", t._Human__body)\n",
    "\n",
    "\n",
    "t._func()\n",
    "# t.__func()\n",
    "t._Human__func()\n",
    "t.call_hidden()"
   ]
  },
  {
   "cell_type": "code",
   "execution_count": null,
   "metadata": {},
   "outputs": [],
   "source": [
    "class Human:\n",
    "    head = True\n",
    "\n",
    "class Student(Human): # <= Само наследование\n",
    "    def about(self):\n",
    "        print('Я студент')\n",
    "    \n",
    "    def say_hello(self):\n",
    "        print('Здравствуйте')\n",
    "\n",
    "class Teacher(Human):\n",
    "    def say_hello(self):\n",
    "        print('Здравствуйте')\n",
    "\n",
    "        \n"
   ]
  },
  {
   "cell_type": "markdown",
   "metadata": {},
   "source": [
    "### Множественное наследование и как использовать super() "
   ]
  },
  {
   "cell_type": "markdown",
   "metadata": {},
   "source": [
    "super() -- это функция которая рекурсивно вызывает методы классов-родителей в потомка, в том порядке к котором они записаны относительно `поток(класс1, класс2, ..., классN)` "
   ]
  },
  {
   "cell_type": "markdown",
   "metadata": {},
   "source": [
    "Множественное наследование - мы передаем все возможные методы из классов-родителей в классы-потомки. Притом если методы у родителей перекрываются(пересекаются, или совпадают) то в таком случае берется метод у того родителя который в списке стоял ранее чем родитель метод с которым совпадает"
   ]
  },
  {
   "cell_type": "markdown",
   "metadata": {},
   "source": [
    "**НЕЯВНОЕ МНОЖЕСТВЕННОЕ НАСЛЕДОВАНИЕ**"
   ]
  },
  {
   "cell_type": "code",
   "execution_count": 25,
   "metadata": {},
   "outputs": [
    {
     "name": "stdout",
     "output_type": "stream",
     "text": [
      "w.arms='normal'\n",
      "w.legs='strong'\n",
      "w.body='animal'\n",
      "10\n",
      "Too far fast running\n",
      "w.tail='wolf-tail'\n",
      "10\n"
     ]
    }
   ],
   "source": [
    "class Wolf:\n",
    "    def __init__(self):\n",
    "        self.head_type = 'wolf-head'\n",
    "        self.legs = 'strong'\n",
    "        self.body = 'animal'\n",
    "        self.tail = 'wolf-tail'\n",
    "    \n",
    "    def speak(self):\n",
    "        return 'Wooooooooooooooof'\n",
    "    \n",
    "    def animal_run(self):\n",
    "        print('Too far fast running')\n",
    "\n",
    "class Human:\n",
    "    def __init__(self):\n",
    "        self.head_type = 'human'\n",
    "        self.arms = 'normal'\n",
    "        self.legs = 'normal'\n",
    "        self.body = 'normal'\n",
    "        super().__init__()\n",
    "\n",
    "    def speak(self):\n",
    "        Wolf.speak(self)\n",
    "        return 10\n",
    "    \n",
    "\n",
    "class Wolfenrain(Human, Wolf):\n",
    "    def __init__(self):\n",
    "        super().__init__()\n",
    "    \n",
    "    def speak(self):\n",
    "        return super().speak()\n",
    "\n",
    "w = Wolfenrain()\n",
    "print(f'{w.arms=}')\n",
    "print(f'{w.legs=}')\n",
    "print(f'{w.body=}')\n",
    "print(w.speak())\n",
    "w.animal_run()\n",
    "print(f'{w.tail=}')\n",
    "h = Human()\n",
    "print(h.speak())"
   ]
  },
  {
   "cell_type": "markdown",
   "metadata": {},
   "source": [
    "super() -- cпособ получить атрибут или метод у ближайшего доступного родственника. Такой способ работы с множественным наследованием называется \"**НЕЯВНЫМ**\"\n",
    "\n",
    "**ЯВНЫМ** же методом называется случай когда мы исползуем названиие классов напрямую"
   ]
  },
  {
   "cell_type": "markdown",
   "metadata": {},
   "source": [
    "**ЯВНОЕ ПРЕДСТВАЛЕНИЕ МНОЖЕСТВЕННОГО НАСЛЕДОВАНИЯ**"
   ]
  },
  {
   "cell_type": "code",
   "execution_count": null,
   "metadata": {},
   "outputs": [
    {
     "name": "stdout",
     "output_type": "stream",
     "text": [
      "w.arms='normal'\n",
      "w.legs='normal'\n",
      "w.body='normal'\n",
      "Wooooooooooooooof\n",
      "Too far fast running\n"
     ]
    },
    {
     "ename": "AttributeError",
     "evalue": "'Wolfenrain' object has no attribute 'tail'",
     "output_type": "error",
     "traceback": [
      "\u001b[0;31m---------------------------------------------------------------------------\u001b[0m",
      "\u001b[0;31mAttributeError\u001b[0m                            Traceback (most recent call last)",
      "Cell \u001b[0;32mIn[29], line 38\u001b[0m\n\u001b[1;32m     36\u001b[0m \u001b[38;5;28mprint\u001b[39m(w\u001b[38;5;241m.\u001b[39mspeak())\n\u001b[1;32m     37\u001b[0m w\u001b[38;5;241m.\u001b[39manimal_run()\n\u001b[0;32m---> 38\u001b[0m \u001b[38;5;28mprint\u001b[39m(\u001b[38;5;124mf\u001b[39m\u001b[38;5;124m'\u001b[39m\u001b[38;5;132;01m{\u001b[39;00m\u001b[43mw\u001b[49m\u001b[38;5;241;43m.\u001b[39;49m\u001b[43mtail\u001b[49m\u001b[38;5;132;01m=}\u001b[39;00m\u001b[38;5;124m'\u001b[39m)\n",
      "\u001b[0;31mAttributeError\u001b[0m: 'Wolfenrain' object has no attribute 'tail'"
     ]
    }
   ],
   "source": [
    "class Wolf:\n",
    "    def __init__(self):\n",
    "        self.head_type = 'wolf-head'\n",
    "        self.legs = 'strong'\n",
    "        self.body = 'animal'\n",
    "        self.tail = 'wolf-tail'\n",
    "    \n",
    "    def speak(self):\n",
    "        return 'Wooooooooooooooof'\n",
    "    \n",
    "    def animal_run(self):\n",
    "        print('Too far fast running')\n",
    "\n",
    "class Human:\n",
    "    def __init__(self):\n",
    "        self.head_type = 'human'\n",
    "        self.arms = 'normal'\n",
    "        self.legs = 'normal'\n",
    "        self.body = 'normal'\n",
    "        \n",
    "\n",
    "    def speak(self):\n",
    "        return '*Simple human talk*'\n",
    "\n",
    "class Wolfenrain(Human, Wolf):\n",
    "    \n",
    "\n",
    "        \n",
    "    def speak(self):\n",
    "        return Wolf.speak(self)\n",
    "\n",
    "w = Wolfenrain()\n",
    "print(f'{w.arms=}')\n",
    "print(f'{w.legs=}')\n",
    "print(f'{w.body=}')\n",
    "print(w.speak())\n",
    "w.animal_run()\n",
    "print(f'{w.tail=}')"
   ]
  },
  {
   "cell_type": "markdown",
   "metadata": {},
   "source": []
  }
 ],
 "metadata": {
  "kernelspec": {
   "display_name": "Python 3",
   "language": "python",
   "name": "python3"
  },
  "language_info": {
   "codemirror_mode": {
    "name": "ipython",
    "version": 3
   },
   "file_extension": ".py",
   "mimetype": "text/x-python",
   "name": "python",
   "nbconvert_exporter": "python",
   "pygments_lexer": "ipython3",
   "version": "3.11.9"
  }
 },
 "nbformat": 4,
 "nbformat_minor": 2
}
