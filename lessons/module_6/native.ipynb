{
 "cells": [
  {
   "cell_type": "markdown",
   "metadata": {},
   "source": [
    "# Наследование классов"
   ]
  },
  {
   "cell_type": "markdown",
   "metadata": {},
   "source": [
    "### Зачем нужно наследование"
   ]
  },
  {
   "cell_type": "code",
   "execution_count": 1,
   "metadata": {},
   "outputs": [
    {
     "name": "stdout",
     "output_type": "stream",
     "text": [
      "True\n"
     ]
    },
    {
     "ename": "AttributeError",
     "evalue": "'Student' object has no attribute 'head'",
     "output_type": "error",
     "traceback": [
      "\u001b[1;31m---------------------------------------------------------------------------\u001b[0m",
      "\u001b[1;31mAttributeError\u001b[0m                            Traceback (most recent call last)",
      "Cell \u001b[1;32mIn[1], line 12\u001b[0m\n\u001b[0;32m     10\u001b[0m \u001b[38;5;28mprint\u001b[39m(human\u001b[38;5;241m.\u001b[39mhead)\n\u001b[0;32m     11\u001b[0m student\u001b[38;5;241m.\u001b[39mabout\n\u001b[1;32m---> 12\u001b[0m \u001b[38;5;28mprint\u001b[39m(\u001b[43mstudent\u001b[49m\u001b[38;5;241;43m.\u001b[39;49m\u001b[43mhead\u001b[49m)\n",
      "\u001b[1;31mAttributeError\u001b[0m: 'Student' object has no attribute 'head'"
     ]
    }
   ],
   "source": [
    "class Human:\n",
    "    head = True\n",
    "\n",
    "class Student:\n",
    "    def about(self):\n",
    "        print('Я студент')\n",
    "\n",
    "human = Human()\n",
    "student = Student()\n",
    "print(human.head)\n",
    "student.about\n",
    "print(student.head)"
   ]
  },
  {
   "cell_type": "markdown",
   "metadata": {},
   "source": [
    "Родительский класс определяется как и где угодно, его основной смысл в том чтобы передать другому классу свои свойства и атрибуты\n",
    "\n",
    "Наследование -- процесс передачи атрибутов и методов из <u>родительского класса</u> в дочерний класс(класс-потомок)"
   ]
  },
  {
   "cell_type": "code",
   "execution_count": 5,
   "metadata": {},
   "outputs": [
    {
     "name": "stdout",
     "output_type": "stream",
     "text": [
      "True\n",
      "Я студент\n",
      "True\n",
      "Я студент\n"
     ]
    }
   ],
   "source": [
    "class Human:\n",
    "    head = True\n",
    "\n",
    "class Student(Human): # <= Само наследование\n",
    "    def about(self):\n",
    "        print('Я студент')\n",
    "\n",
    "human = Human()\n",
    "student = Student()\n",
    "print(human.head)\n",
    "student.about()\n",
    "print(student.head)\n",
    "\n",
    "human.about()"
   ]
  },
  {
   "cell_type": "code",
   "execution_count": null,
   "metadata": {},
   "outputs": [],
   "source": [
    "class Human:\n",
    "    head = True\n",
    "\n",
    "class Student(Human): # <= Само наследование\n",
    "    def about(self):\n",
    "        print('Я студент')\n",
    "    \n",
    "    def say_hello(self):\n",
    "        print('Здравствуйте')\n",
    "\n",
    "class Teacher(Human):\n",
    "    def say_hello(self):\n",
    "        print('Здравствуйте')\n"
   ]
  },
  {
   "cell_type": "markdown",
   "metadata": {},
   "source": [
    "После определения классов выше, мы можем заметить что некоторые классы имеют один и тот же метод, который вызывает одно и то же действие. В данном случае мы использовуем наследование чтобы избегать повторных методов(которые возвращают одно и то же или имеют один и тот же функционал) определяя этот метод в классе-родителе"
   ]
  },
  {
   "cell_type": "code",
   "execution_count": 7,
   "metadata": {},
   "outputs": [
    {
     "name": "stdout",
     "output_type": "stream",
     "text": [
      "Здравствуйте\n",
      "Здравствуйте\n",
      "True True\n"
     ]
    }
   ],
   "source": [
    "class Human:\n",
    "    head = True\n",
    "\n",
    "    def say_hello(self):\n",
    "        print('Здравствуйте')\n",
    "\n",
    "class Student(Human): # <= Само наследование\n",
    "    def about(self):\n",
    "        print('Я студент')\n",
    "    \n",
    "class Teacher(Human):\n",
    "    pass\n",
    "\n",
    "student = Student()\n",
    "teacher = Teacher()\n",
    "teacher.say_hello()\n",
    "student.say_hello()\n",
    "print(teacher.head, student.head)"
   ]
  },
  {
   "cell_type": "code",
   "execution_count": 9,
   "metadata": {},
   "outputs": [
    {
     "data": {
      "text/plain": [
       "[__main__.Teacher, __main__.Human, object]"
      ]
     },
     "execution_count": 9,
     "metadata": {},
     "output_type": "execute_result"
    }
   ],
   "source": [
    "Teacher.mro()"
   ]
  },
  {
   "cell_type": "code",
   "execution_count": 8,
   "metadata": {},
   "outputs": [
    {
     "data": {
      "text/plain": [
       "[int, object]"
      ]
     },
     "execution_count": 8,
     "metadata": {},
     "output_type": "execute_result"
    }
   ],
   "source": [
    "st = 'string' # str\n",
    "digit = 3 # int\n",
    "int.mro()"
   ]
  },
  {
   "cell_type": "markdown",
   "metadata": {},
   "source": []
  }
 ],
 "metadata": {
  "kernelspec": {
   "display_name": "Python 3",
   "language": "python",
   "name": "python3"
  },
  "language_info": {
   "codemirror_mode": {
    "name": "ipython",
    "version": 3
   },
   "file_extension": ".py",
   "mimetype": "text/x-python",
   "name": "python",
   "nbconvert_exporter": "python",
   "pygments_lexer": "ipython3",
   "version": "3.11.9"
  }
 },
 "nbformat": 4,
 "nbformat_minor": 2
}
