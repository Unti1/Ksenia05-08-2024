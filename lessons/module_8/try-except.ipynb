{
 "cells": [
  {
   "cell_type": "markdown",
   "metadata": {},
   "source": [
    "# Обработка исключений"
   ]
  },
  {
   "cell_type": "markdown",
   "metadata": {},
   "source": [
    "## Try-Except\n",
    "- Специальная конструкция Python для отлова ошибок в процессе выполнения кода. Служит для того чтобы исправлять возникащую или возможно возникающую ошибку в коде."
   ]
  },
  {
   "cell_type": "code",
   "execution_count": 6,
   "metadata": {},
   "outputs": [
    {
     "name": "stdout",
     "output_type": "stream",
     "text": [
      "2.0\n"
     ]
    }
   ],
   "source": [
    "def divide_func(a,b):\n",
    "    return a/b\n",
    "\n",
    "print(divide_func(10,5))"
   ]
  },
  {
   "cell_type": "code",
   "execution_count": 7,
   "metadata": {},
   "outputs": [
    {
     "ename": "ZeroDivisionError",
     "evalue": "division by zero",
     "output_type": "error",
     "traceback": [
      "\u001b[1;31m---------------------------------------------------------------------------\u001b[0m",
      "\u001b[1;31mZeroDivisionError\u001b[0m                         Traceback (most recent call last)",
      "Cell \u001b[1;32mIn[7], line 1\u001b[0m\n\u001b[1;32m----> 1\u001b[0m \u001b[38;5;28mprint\u001b[39m(\u001b[43mdivide_func\u001b[49m\u001b[43m(\u001b[49m\u001b[38;5;241;43m10\u001b[39;49m\u001b[43m,\u001b[49m\u001b[38;5;241;43m0\u001b[39;49m\u001b[43m)\u001b[49m)\n",
      "Cell \u001b[1;32mIn[6], line 2\u001b[0m, in \u001b[0;36mdivide_func\u001b[1;34m(a, b)\u001b[0m\n\u001b[0;32m      1\u001b[0m \u001b[38;5;28;01mdef\u001b[39;00m \u001b[38;5;21mdivide_func\u001b[39m(a,b):\n\u001b[1;32m----> 2\u001b[0m     \u001b[38;5;28;01mreturn\u001b[39;00m \u001b[43ma\u001b[49m\u001b[38;5;241;43m/\u001b[39;49m\u001b[43mb\u001b[49m\n",
      "\u001b[1;31mZeroDivisionError\u001b[0m: division by zero"
     ]
    }
   ],
   "source": [
    "print(divide_func(10,0))\n"
   ]
  },
  {
   "cell_type": "markdown",
   "metadata": {},
   "source": [
    "Если в блоке except не указывать какую именно ошибку мы изолируем, то обрабатываться будут абсолютно все ошибки, применят на свой страх и риск, так как в дальнейшем может превести к непредвиденным последствиям. Лучшее применения такого способа исключительно для логирования ошибки."
   ]
  },
  {
   "cell_type": "code",
   "execution_count": 8,
   "metadata": {},
   "outputs": [
    {
     "name": "stdout",
     "output_type": "stream",
     "text": [
      "0\n"
     ]
    }
   ],
   "source": [
    "def divide_func(a,b):\n",
    "    try:\n",
    "        return a/b\n",
    "    except: # Принимает все возможные ошибки\n",
    "        return 0\n",
    "\n",
    "print(divide_func(10,0))"
   ]
  },
  {
   "cell_type": "markdown",
   "metadata": {},
   "source": [
    "Блоков Except у try может сколь-угодно много. Однако try в контексте определенной проверки может быть только один"
   ]
  },
  {
   "cell_type": "code",
   "execution_count": 18,
   "metadata": {},
   "outputs": [
    {
     "name": "stdout",
     "output_type": "stream",
     "text": [
      "Старт\n",
      "Ошибка. Неверно переданы параметры\n",
      "Конец\n"
     ]
    }
   ],
   "source": [
    "def divide_func(a,b):\n",
    "    try:\n",
    "        return a/b\n",
    "    except ZeroDivisionError:\n",
    "        return 0\n",
    "    except TypeError:\n",
    "        return 'Ошибка. Неверно переданы параметры'\n",
    "    \n",
    "print('Старт')\n",
    "print(divide_func('a', 0))\n",
    "print('Конец')"
   ]
  },
  {
   "cell_type": "markdown",
   "metadata": {},
   "source": [
    "Также есть возможность указывать для одного блока except несколько различных ошибок"
   ]
  },
  {
   "cell_type": "code",
   "execution_count": 25,
   "metadata": {},
   "outputs": [
    {
     "name": "stdout",
     "output_type": "stream",
     "text": [
      "Зафиксирована ошибка: division by zero\n",
      "0\n"
     ]
    }
   ],
   "source": [
    "def divide_func():\n",
    "    try:\n",
    "        a = int(input())\n",
    "        b = int(input())\n",
    "        return a/b\n",
    "    except ZeroDivisionError as e:\n",
    "        print(f'Зафиксирована ошибка: {e}')\n",
    "        return 0\n",
    "    except (TypeError, ValueError) as e:\n",
    "        return f'Ошибка. Неверно переданы параметры | {e}'\n",
    "\n",
    "\n",
    "print(divide_func())\n",
    "    "
   ]
  },
  {
   "cell_type": "markdown",
   "metadata": {},
   "source": [
    "raise - конструкция которая ВЫЗЫВАЕТ ошибку в месте где было записано(объявлено)\n",
    "\n",
    "Exception - Родитель всех ошибок. И при вызове будет исполняться первее\n",
    "\n",
    "Порядок обработки ошибки, должен быть всегда от частного(TypeError) к общему(Exception). Также есть внутренние группы ошибок такие как ArifmeticError (ZeroDivisonError его потомок), поэтому указать родителя ошибки, то это будет общий случай для этой группы ошибок"
   ]
  },
  {
   "cell_type": "code",
   "execution_count": 32,
   "metadata": {},
   "outputs": [
    {
     "name": "stdout",
     "output_type": "stream",
     "text": [
      "Ошибка division by zero\n"
     ]
    }
   ],
   "source": [
    "def divide_func():\n",
    "    try:\n",
    "        raise NameError('Какой то текст ошибки')\n",
    "        a = int(input())\n",
    "        b = int(input())\n",
    "        return a/b\n",
    "    except ZeroDivisionError as e:\n",
    "        print(f'Зафиксирована ошибка: {e}')\n",
    "        return 0\n",
    "    except ArithmeticError as e:\n",
    "        print(f'Зафиксирована ошибка верхнего порядка: {e}')\n",
    "        return None\n",
    "    except (TypeError, ValueError) as e:\n",
    "        return f'Ошибка. Неверно переданы параметры | {e}'\n",
    "    except Exception as e:\n",
    "        return f'Ошибка {e}'\n",
    "\n",
    "\n",
    "print(divide_func())\n",
    "    "
   ]
  },
  {
   "cell_type": "markdown",
   "metadata": {},
   "source": [
    "finally - это конструкция которая исполняется в любом случае после выполнения блока try-except и её основной смысл это сделать заключающие(завершающие)действия в отношении той структуры кода которая требует специального завершения(завершение эмулятора, конец работы с БД)"
   ]
  },
  {
   "cell_type": "code",
   "execution_count": 34,
   "metadata": {},
   "outputs": [
    {
     "name": "stdout",
     "output_type": "stream",
     "text": [
      "Работа функции завершена\n",
      "Ошибка Какой то текст ошибки\n"
     ]
    }
   ],
   "source": [
    "def divide_func():\n",
    "    try:\n",
    "        raise NameError('Какой то текст ошибки')\n",
    "        a = int(input())\n",
    "        b = int(input())\n",
    "        return a/b\n",
    "    except ZeroDivisionError as e:\n",
    "        print(f'Зафиксирована ошибка: {e}')\n",
    "        return 0\n",
    "    except ArithmeticError as e:\n",
    "        print(f'Зафиксирована ошибка верхнего порядка: {e}')\n",
    "        return None\n",
    "    except (TypeError, ValueError) as e:\n",
    "        return f'Ошибка. Неверно переданы параметры | {e}'\n",
    "    except Exception as e:\n",
    "        return f'Ошибка {e}'\n",
    "    finally:\n",
    "        print('Работа функции завершена')\n",
    "\n",
    "\n",
    "print(divide_func())"
   ]
  },
  {
   "cell_type": "code",
   "execution_count": 35,
   "metadata": {},
   "outputs": [
    {
     "name": "stdout",
     "output_type": "stream",
     "text": [
      "Отработано\n"
     ]
    }
   ],
   "source": [
    "try:\n",
    "    1\n",
    "finally:\n",
    "    print('Отработано')"
   ]
  },
  {
   "cell_type": "markdown",
   "metadata": {},
   "source": [
    "# Стек вызова исключения"
   ]
  },
  {
   "attachments": {
    "image.png": {
     "image/png": "[encoded data removed]"
    }
   },
   "cell_type": "markdown",
   "metadata": {},
   "source": [
    "При работе с вызовом исключений в последоавтельных функциях (которые вызываются внутри друг друга) если происходит ошибка, то ход функции завершатся выбрасыванием Exception до тех пор пока не будет отловлен теми функциями в последовательности которые в свою очередь участвуют в стеке вызова.\n",
    "\n",
    "![image.png](attachment:image.png)\n",
    "\n"
   ]
  },
  {
   "cell_type": "code",
   "execution_count": 2,
   "metadata": {},
   "outputs": [
    {
     "name": "stdout",
     "output_type": "stream",
     "text": [
      "Запуск основной функции\n",
      "Запуск функции 2\n",
      "Запуст 3ей функции\n",
      "Произошла ошибка \n",
      "Завершение основной функции\n"
     ]
    }
   ],
   "source": [
    "def func1():\n",
    "    print('Запуск основной функции')\n",
    "    try:\n",
    "        func2() # Однако при отлове ошибок, код продолжится в той функции которая успела отловить и обработать ошибку\n",
    "    except ValueError as e:\n",
    "        print(f'Произошла ошибка {e}')\n",
    "    print('Завершение основной функции')\n",
    "\n",
    "def func2():\n",
    "    print('Запуск функции 2')\n",
    "    func3() # все что указано ниже не запустится\n",
    "    print('Конец работы второй функции')\n",
    "\n",
    "def func3():\n",
    "    print('Запуст 3ей функции')\n",
    "    raise ValueError\n",
    "\n",
    "func1()"
   ]
  },
  {
   "cell_type": "markdown",
   "metadata": {},
   "source": [
    "# Создание собственных исключений"
   ]
  },
  {
   "cell_type": "markdown",
   "metadata": {},
   "source": [
    "Собственные исключения создаются на основе класса Exception, и должно содержать параметр message который будет передаваться первым аргументом в init метод Exception `(super().__init__(...))`."
   ]
  },
  {
   "cell_type": "code",
   "execution_count": 1,
   "metadata": {},
   "outputs": [
    {
     "name": "stdout",
     "output_type": "stream",
     "text": [
      "Запуск основной функции\n",
      "Произошла ошибка в коде: Какая то причина...\n",
      "Завершение основной функции\n"
     ]
    }
   ],
   "source": [
    "class MyException(Exception):\n",
    "    def __init__(self,reason , message='Произошла ошибка в коде: %s',*args):\n",
    "        self.reason = reason\n",
    "        self.message = message % reason\n",
    "        super().__init__(self.message,*args)\n",
    "\n",
    "def func1():\n",
    "    print('Запуск основной функции')\n",
    "    try:\n",
    "        func2() \n",
    "    except MyException as e:\n",
    "        print(e.message)\n",
    "    print('Завершение основной функции')\n",
    "\n",
    "def func2():\n",
    "    raise MyException('Какая то причина...')\n",
    "\n",
    "func1()"
   ]
  },
  {
   "cell_type": "code",
   "execution_count": 25,
   "metadata": {},
   "outputs": [
    {
     "name": "stdout",
     "output_type": "stream",
     "text": [
      "Ошибка: Возраст не может быть отрицательным. Введённый возраст: -24.\n",
      "Завершение программы...\n"
     ]
    }
   ],
   "source": [
    "class NegativeAgeError(Exception):\n",
    "    def __init__(self, age, message=\"Возраст не может быть отрицательным.\"):\n",
    "        self.age = age\n",
    "        self.message = message\n",
    "        super().__init__(self.message)\n",
    "    \n",
    "\n",
    "def check_age(age):\n",
    "    if age < 0:\n",
    "        raise NegativeAgeError(age)\n",
    "\n",
    "def get_user_age():\n",
    "    try:\n",
    "        age = int(input(\"Введите ваш возраст: \"))\n",
    "        check_age(age)\n",
    "    except ValueError:\n",
    "        print(\"Ошибка: введено не число. Пожалуйста, введите корректный возраст.\")\n",
    "    except NegativeAgeError as e:\n",
    "        print(f\"Ошибка: {e} Введённый возраст: {e.age}.\")\n",
    "    else:\n",
    "        print(f\"Ваш возраст: {age} лет\")\n",
    "    finally:\n",
    "        print('Завершение программы...')\n",
    "\n",
    "get_user_age()\n"
   ]
  },
  {
   "cell_type": "markdown",
   "metadata": {},
   "source": []
  }
 ],
 "metadata": {
  "kernelspec": {
   "display_name": "Python 3",
   "language": "python",
   "name": "python3"
  },
  "language_info": {
   "codemirror_mode": {
    "name": "ipython",
    "version": 3
   },
   "file_extension": ".py",
   "mimetype": "text/x-python",
   "name": "python",
   "nbconvert_exporter": "python",
   "pygments_lexer": "ipython3",
   "version": "3.11.9"
  }
 },
 "nbformat": 4,
 "nbformat_minor": 2
}
