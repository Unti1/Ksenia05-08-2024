{
 "cells": [
  {
   "cell_type": "markdown",
   "metadata": {},
   "source": [
    "# Обработка исключений"
   ]
  },
  {
   "cell_type": "markdown",
   "metadata": {},
   "source": [
    "## Try-Except\n",
    "- Специальная конструкция Python для отлова ошибок в процессе выполнения кода. Служит для того чтобы исправлять возникащую или возможно возникающую ошибку в коде."
   ]
  },
  {
   "cell_type": "code",
   "execution_count": 6,
   "metadata": {},
   "outputs": [
    {
     "name": "stdout",
     "output_type": "stream",
     "text": [
      "2.0\n"
     ]
    }
   ],
   "source": [
    "def divide_func(a,b):\n",
    "    return a/b\n",
    "\n",
    "print(divide_func(10,5))"
   ]
  },
  {
   "cell_type": "code",
   "execution_count": 7,
   "metadata": {},
   "outputs": [
    {
     "ename": "ZeroDivisionError",
     "evalue": "division by zero",
     "output_type": "error",
     "traceback": [
      "\u001b[1;31m---------------------------------------------------------------------------\u001b[0m",
      "\u001b[1;31mZeroDivisionError\u001b[0m                         Traceback (most recent call last)",
      "Cell \u001b[1;32mIn[7], line 1\u001b[0m\n\u001b[1;32m----> 1\u001b[0m \u001b[38;5;28mprint\u001b[39m(\u001b[43mdivide_func\u001b[49m\u001b[43m(\u001b[49m\u001b[38;5;241;43m10\u001b[39;49m\u001b[43m,\u001b[49m\u001b[38;5;241;43m0\u001b[39;49m\u001b[43m)\u001b[49m)\n",
      "Cell \u001b[1;32mIn[6], line 2\u001b[0m, in \u001b[0;36mdivide_func\u001b[1;34m(a, b)\u001b[0m\n\u001b[0;32m      1\u001b[0m \u001b[38;5;28;01mdef\u001b[39;00m \u001b[38;5;21mdivide_func\u001b[39m(a,b):\n\u001b[1;32m----> 2\u001b[0m     \u001b[38;5;28;01mreturn\u001b[39;00m \u001b[43ma\u001b[49m\u001b[38;5;241;43m/\u001b[39;49m\u001b[43mb\u001b[49m\n",
      "\u001b[1;31mZeroDivisionError\u001b[0m: division by zero"
     ]
    }
   ],
   "source": [
    "print(divide_func(10,0))\n"
   ]
  },
  {
   "cell_type": "markdown",
   "metadata": {},
   "source": [
    "Если в блоке except не указывать какую именно ошибку мы изолируем, то обрабатываться будут абсолютно все ошибки, применят на свой страх и риск, так как в дальнейшем может превести к непредвиденным последствиям. Лучшее применения такого способа исключительно для логирования ошибки."
   ]
  },
  {
   "cell_type": "code",
   "execution_count": 8,
   "metadata": {},
   "outputs": [
    {
     "name": "stdout",
     "output_type": "stream",
     "text": [
      "0\n"
     ]
    }
   ],
   "source": [
    "def divide_func(a,b):\n",
    "    try:\n",
    "        return a/b\n",
    "    except: # Принимает все возможные ошибки\n",
    "        return 0\n",
    "\n",
    "print(divide_func(10,0))"
   ]
  },
  {
   "cell_type": "markdown",
   "metadata": {},
   "source": [
    "Блоков Except у try может сколь-угодно много. Однако try в контексте определенной проверки может быть только один"
   ]
  },
  {
   "cell_type": "code",
   "execution_count": 18,
   "metadata": {},
   "outputs": [
    {
     "name": "stdout",
     "output_type": "stream",
     "text": [
      "Старт\n",
      "Ошибка. Неверно переданы параметры\n",
      "Конец\n"
     ]
    }
   ],
   "source": [
    "def divide_func(a,b):\n",
    "    try:\n",
    "        return a/b\n",
    "    except ZeroDivisionError:\n",
    "        return 0\n",
    "    except TypeError:\n",
    "        return 'Ошибка. Неверно переданы параметры'\n",
    "    \n",
    "print('Старт')\n",
    "print(divide_func('a', 0))\n",
    "print('Конец')"
   ]
  },
  {
   "cell_type": "markdown",
   "metadata": {},
   "source": [
    "Также есть возможность указывать для одного блока except несколько различных ошибок"
   ]
  },
  {
   "cell_type": "code",
   "execution_count": 25,
   "metadata": {},
   "outputs": [
    {
     "name": "stdout",
     "output_type": "stream",
     "text": [
      "Зафиксирована ошибка: division by zero\n",
      "0\n"
     ]
    }
   ],
   "source": [
    "def divide_func():\n",
    "    try:\n",
    "        a = int(input())\n",
    "        b = int(input())\n",
    "        return a/b\n",
    "    except ZeroDivisionError as e:\n",
    "        print(f'Зафиксирована ошибка: {e}')\n",
    "        return 0\n",
    "    except (TypeError, ValueError) as e:\n",
    "        return f'Ошибка. Неверно переданы параметры | {e}'\n",
    "\n",
    "\n",
    "print(divide_func())\n",
    "    "
   ]
  },
  {
   "cell_type": "markdown",
   "metadata": {},
   "source": [
    "raise - конструкция которая ВЫЗЫВАЕТ ошибку в месте где было записано(объявлено)\n",
    "\n",
    "Exception - Родитель всех ошибок. И при вызове будет исполняться первее\n",
    "\n",
    "Порядок обработки ошибки, должен быть всегда от частного(TypeError) к общему(Exception). Также есть внутренние группы ошибок такие как ArifmeticError (ZeroDivisonError его потомок), поэтому указать родителя ошибки, то это будет общий случай для этой группы ошибок"
   ]
  },
  {
   "cell_type": "code",
   "execution_count": 32,
   "metadata": {},
   "outputs": [
    {
     "name": "stdout",
     "output_type": "stream",
     "text": [
      "Ошибка division by zero\n"
     ]
    }
   ],
   "source": [
    "def divide_func():\n",
    "    try:\n",
    "        raise NameError('Какой то текст ошибки')\n",
    "        a = int(input())\n",
    "        b = int(input())\n",
    "        return a/b\n",
    "    except ZeroDivisionError as e:\n",
    "        print(f'Зафиксирована ошибка: {e}')\n",
    "        return 0\n",
    "    except ArithmeticError as e:\n",
    "        print(f'Зафиксирована ошибка верхнего порядка: {e}')\n",
    "        return None\n",
    "    except (TypeError, ValueError) as e:\n",
    "        return f'Ошибка. Неверно переданы параметры | {e}'\n",
    "    except Exception as e:\n",
    "        return f'Ошибка {e}'\n",
    "\n",
    "\n",
    "print(divide_func())\n",
    "    "
   ]
  },
  {
   "cell_type": "markdown",
   "metadata": {},
   "source": [
    "finally - это конструкция которая исполняется в любом случае после выполнения блока try-except и её основной смысл это сделать заключающие(завершающие)действия в отношении той структуры кода которая требует специального завершения(завершение эмулятора, конец работы с БД)"
   ]
  },
  {
   "cell_type": "code",
   "execution_count": 34,
   "metadata": {},
   "outputs": [
    {
     "name": "stdout",
     "output_type": "stream",
     "text": [
      "Работа функции завершена\n",
      "Ошибка Какой то текст ошибки\n"
     ]
    }
   ],
   "source": [
    "def divide_func():\n",
    "    try:\n",
    "        raise NameError('Какой то текст ошибки')\n",
    "        a = int(input())\n",
    "        b = int(input())\n",
    "        return a/b\n",
    "    except ZeroDivisionError as e:\n",
    "        print(f'Зафиксирована ошибка: {e}')\n",
    "        return 0\n",
    "    except ArithmeticError as e:\n",
    "        print(f'Зафиксирована ошибка верхнего порядка: {e}')\n",
    "        return None\n",
    "    except (TypeError, ValueError) as e:\n",
    "        return f'Ошибка. Неверно переданы параметры | {e}'\n",
    "    except Exception as e:\n",
    "        return f'Ошибка {e}'\n",
    "    finally:\n",
    "        print('Работа функции завершена')\n",
    "\n",
    "\n",
    "print(divide_func())"
   ]
  },
  {
   "cell_type": "code",
   "execution_count": 35,
   "metadata": {},
   "outputs": [
    {
     "name": "stdout",
     "output_type": "stream",
     "text": [
      "Отработано\n"
     ]
    }
   ],
   "source": [
    "try:\n",
    "    1\n",
    "finally:\n",
    "    print('Отработано')"
   ]
  },
  {
   "cell_type": "markdown",
   "metadata": {},
   "source": [
    "# Создание собственных исключений"
   ]
  },
  {
   "cell_type": "markdown",
   "metadata": {},
   "source": []
  }
 ],
 "metadata": {
  "kernelspec": {
   "display_name": "Python 3",
   "language": "python",
   "name": "python3"
  },
  "language_info": {
   "codemirror_mode": {
    "name": "ipython",
    "version": 3
   },
   "file_extension": ".py",
   "mimetype": "text/x-python",
   "name": "python",
   "nbconvert_exporter": "python",
   "pygments_lexer": "ipython3",
   "version": "3.11.9"
  }
 },
 "nbformat": 4,
 "nbformat_minor": 2
}
