{
 "cells": [
  {
   "cell_type": "markdown",
   "metadata": {},
   "source": [
    "# Классы и объекты"
   ]
  },
  {
   "cell_type": "markdown",
   "metadata": {},
   "source": [
    "### Классы - определенная сущность описывающая какие-либо свойства и методы определенного представления\n",
    "### Объект - это конретный предмет который характерезует описаную сущность с которым мы можем взаимодействовать"
   ]
  },
  {
   "cell_type": "markdown",
   "metadata": {},
   "source": [
    "Синтаксис описания класса\n",
    "\n",
    "```python\n",
    "class <NameOfClass>:\n",
    "    def __init__(self):\n",
    "        self.<attribute>\n",
    "\n",
    "```"
   ]
  },
  {
   "cell_type": "markdown",
   "metadata": {},
   "source": [
    "Свойство - или Атрибут класса, это определенная еденица характеристики объекта."
   ]
  },
  {
   "cell_type": "code",
   "execution_count": 3,
   "metadata": {},
   "outputs": [
    {
     "name": "stdout",
     "output_type": "stream",
     "text": [
      "[<class '__main__.Apple'>, <class 'object'>]\n",
      "[<class 'int'>, <class 'object'>]\n"
     ]
    }
   ],
   "source": [
    "class Apple: # описние сущности объекта\n",
    "    def __init__(self):\n",
    "        pass\n",
    "\n",
    "apple1 = Apple() # создание объекта\n",
    "\n",
    "\n",
    "# print(Apple.mro()) # object - оснопологающая ЛЮБОГО КЛАССА В Python\n",
    "# print(int.mro())"
   ]
  },
  {
   "cell_type": "markdown",
   "metadata": {},
   "source": [
    "self - это парамер который используется в методах класса ПО УМОЛЧАНИЮ и является УКАЗАТЕЛЕМ на собственный класс. Self- переводится \"на себя\\ себе\\ мне\". То есть это конструкт который указывает сам на себя"
   ]
  },
  {
   "cell_type": "code",
   "execution_count": 4,
   "metadata": {},
   "outputs": [
    {
     "name": "stdout",
     "output_type": "stream",
     "text": [
      "2466414999184\n",
      "2466414985488\n",
      "False\n"
     ]
    }
   ],
   "source": [
    "class Apple: # описние сущности объекта\n",
    "    def __init__(self):\n",
    "        self.size = 'normal'\n",
    "        self.color = 'red'\n",
    "        self.taste = 'sweet'\n",
    "        self.grew = True \n",
    "        \n",
    "\n",
    "apple1 = Apple() \n",
    "apple2 = Apple()\n",
    "\n",
    "print(id(apple1))\n",
    "print(id(apple2))\n",
    "print(apple1 is apple2) # Являются ли объекты одним объектом ?\n"
   ]
  },
  {
   "cell_type": "markdown",
   "metadata": {},
   "source": [
    "Метод - это определенное действие, которое привязано к объекту и не может выполненно вне его участия "
   ]
  },
  {
   "cell_type": "markdown",
   "metadata": {},
   "source": [
    "`__init__` -- это dunder(double underline) метод, который НАДЕЛЯЕТ создаваемый объект определенными свойствами"
   ]
  },
  {
   "cell_type": "code",
   "execution_count": 8,
   "metadata": {},
   "outputs": [
    {
     "name": "stdout",
     "output_type": "stream",
     "text": [
      "Cat \"Barsik\" speak: Meeeoooow\n",
      "Cat \"Barsik\" is running\n",
      "Cat \"Barsik\" eat meat\n",
      "Cat didnt ate this food\n",
      "Cat \"Barsik\" is jumping on 0.56 m. distance\n"
     ]
    }
   ],
   "source": [
    "class Cat: \n",
    "    def __init__(self):\n",
    "        self.size = 'normal'\n",
    "        self.color = 'red'\n",
    "        self.name = 'Barsik'      \n",
    "\n",
    "    def speak(self):\n",
    "        print(f'Cat \"{self.name}\" speak: Meeeoooow')\n",
    "    \n",
    "    def eat(self, food):\n",
    "        if food.lower() in ['fish', 'meat', 'corm']:\n",
    "            print(f'Cat \"{self.name}\" eat {food.lower()}')\n",
    "        else:\n",
    "            print(f'Cat didnt ate this food')\n",
    "    def run(self):\n",
    "        print(f'Cat \"{self.name}\" is running')\n",
    "        \n",
    "    def jump(self, distance):\n",
    "        print(f'Cat \"{self.name}\" is jumping on {distance} m. distance')\n",
    "\n",
    "cat = Cat()\n",
    "# eat()\n",
    "cat.speak()\n",
    "cat.run()\n",
    "cat.eat('meat')\n",
    "cat.eat('milk')\n",
    "cat.jump(0.56)"
   ]
  },
  {
   "cell_type": "code",
   "execution_count": null,
   "metadata": {},
   "outputs": [],
   "source": []
  }
 ],
 "metadata": {
  "kernelspec": {
   "display_name": "Python 3",
   "language": "python",
   "name": "python3"
  },
  "language_info": {
   "codemirror_mode": {
    "name": "ipython",
    "version": 3
   },
   "file_extension": ".py",
   "mimetype": "text/x-python",
   "name": "python",
   "nbconvert_exporter": "python",
   "pygments_lexer": "ipython3",
   "version": "3.11.9"
  }
 },
 "nbformat": 4,
 "nbformat_minor": 2
}
