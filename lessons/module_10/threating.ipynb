{
 "cells": [
  {
   "cell_type": "markdown",
   "metadata": {},
   "source": [
    "# Многоточность"
   ]
  },
  {
   "cell_type": "markdown",
   "metadata": {},
   "source": [
    "Современные операционные системы (ОС) и приложения часто работают с многозадачностью. Многозадачность позволяет выполнять несколько задач одновременно, что повышает производительность систем и программ. Одним из ключевых понятий в этой области являются потоки (threads). Поток можно рассматривать как минимальную единицу выполнения работы в операционной системе"
   ]
  },
  {
   "cell_type": "markdown",
   "metadata": {},
   "source": [
    "# Что такое поток\n",
    "\n"
   ]
  },
  {
   "cell_type": "markdown",
   "metadata": {},
   "source": [
    "Поток представляет собой минимальную единицу работы, которую операционная система (ОС) должна выполнить. Для того чтобы лучше понять, что это такое, нужно знать, что потоки существуют **внутри процессов**.\n",
    "\n",
    "**Процесс** — это экземпляр программы, который запущен и выполняется операционной системой. Каждый процесс может иметь один или несколько потоков, которые работают параллельно."
   ]
  },
  {
   "cell_type": "code",
   "execution_count": 15,
   "metadata": {},
   "outputs": [
    {
     "name": "stdout",
     "output_type": "stream",
     "text": [
      "<_MainThread(MainThread, started 15120)>\n"
     ]
    }
   ],
   "source": [
    "import threading\n",
    "\n",
    "print(threading.current_thread()) # Показывает текущий рабочий поток"
   ]
  },
  {
   "cell_type": "markdown",
   "metadata": {},
   "source": [
    "MainThread - главный поток который отвечает за создание и управление всеми другими потоками в программе"
   ]
  },
  {
   "cell_type": "code",
   "execution_count": 16,
   "metadata": {},
   "outputs": [
    {
     "name": "stdout",
     "output_type": "stream",
     "text": [
      "[<_MainThread(MainThread, started 15120)>, <Thread(IOPub, started daemon 29088)>, <Heartbeat(Heartbeat, started daemon 24340)>, <ControlThread(Control, started daemon 30848)>, <HistorySavingThread(IPythonHistorySavingThread, started 24196)>, <ParentPollerWindows(Thread-1, started daemon 21596)>]\n"
     ]
    }
   ],
   "source": [
    "print(threading.enumerate())"
   ]
  },
  {
   "cell_type": "markdown",
   "metadata": {},
   "source": [
    "Пример: 2 функции которые работают в одном потоке и многопоточности."
   ]
  },
  {
   "cell_type": "code",
   "execution_count": 1,
   "metadata": {},
   "outputs": [
    {
     "name": "stdout",
     "output_type": "stream",
     "text": [
      "[<_MainThread(MainThread, started 140704404162496)>, <Thread(IOPub, started daemon 123145491615744)>, <Heartbeat(Heartbeat, started daemon 123145508405248)>, <Thread(Thread-1 (_watch_pipe_fd), started daemon 123145526267904)>, <Thread(Thread-2 (_watch_pipe_fd), started daemon 123145543057408)>, <ControlThread(Control, started daemon 123145559846912)>, <HistorySavingThread(IPythonHistorySavingThread, started 123145576636416)>]\n",
      "<_MainThread(MainThread, started 140704404162496)>\n",
      "Func1: 0 <_MainThread(MainThread, started 140704404162496)>\n",
      "Func1: 1 <_MainThread(MainThread, started 140704404162496)>\n",
      "Func1: 2 <_MainThread(MainThread, started 140704404162496)>\n",
      "Func1: 3 <_MainThread(MainThread, started 140704404162496)>\n",
      "Func1: 4 <_MainThread(MainThread, started 140704404162496)>\n",
      "Func2: 0 <_MainThread(MainThread, started 140704404162496)>\n",
      "Func2: 1 <_MainThread(MainThread, started 140704404162496)>\n",
      "Func2: 2 <_MainThread(MainThread, started 140704404162496)>\n",
      "Func2: 3 <_MainThread(MainThread, started 140704404162496)>\n",
      "Func2: 4 <_MainThread(MainThread, started 140704404162496)>\n",
      "Func2: 5 <_MainThread(MainThread, started 140704404162496)>\n",
      "Func2: 6 <_MainThread(MainThread, started 140704404162496)>\n",
      "Func2: 7 <_MainThread(MainThread, started 140704404162496)>\n",
      "Func2: 8 <_MainThread(MainThread, started 140704404162496)>\n",
      "Func2: 9 <_MainThread(MainThread, started 140704404162496)>\n"
     ]
    }
   ],
   "source": [
    "import threading\n",
    "import time\n",
    "\n",
    "def func1():\n",
    "    for i in range(5):\n",
    "        time.sleep(1)\n",
    "        print(f\"Func1: {i}\", threading.current_thread())\n",
    "\n",
    "def func2():\n",
    "    for i in range(10):\n",
    "        time.sleep(1)\n",
    "        print(f\"Func2: {i}\", threading.current_thread())\n",
    "\n",
    "print(threading.enumerate())\n",
    "print(threading.current_thread())\n",
    "\n",
    "func1()\n",
    "func2()"
   ]
  },
  {
   "cell_type": "markdown",
   "metadata": {},
   "source": [
    "Для создания потока существует два способа:\n",
    "1) Создание потока с использованием класса Thread и функции: это самый простой и часто используемый способ. Здесь для создания потока используется класс Thread из модуля threading, и в качестве задачи потока передается функция, которую нужно выполнить.\n",
    "\n",
    "2) Создание потока через наследование класса Thread: в этом случае создается собственный класс, наследующий от Thread, и переопределяется метод ‘run()’, который будет выполняться в потоке."
   ]
  },
  {
   "cell_type": "code",
   "execution_count": 18,
   "metadata": {},
   "outputs": [
    {
     "name": "stdout",
     "output_type": "stream",
     "text": [
      "Func1: 0 <_MainThread(MainThread, started 15120)>\n",
      "Func1: 1 <_MainThread(MainThread, started 15120)>\n",
      "Func1: 2 <_MainThread(MainThread, started 15120)>\n",
      "Func1: 3 <_MainThread(MainThread, started 15120)>\n",
      "Func1: 4 <_MainThread(MainThread, started 15120)>\n"
     ]
    }
   ],
   "source": [
    "thread = threading.Thread(target=func2)\n",
    "func1()"
   ]
  },
  {
   "cell_type": "markdown",
   "metadata": {},
   "source": [
    "# Метод \"start\"\n",
    "\n",
    "Когда поток создается, он изначально находится в состоянии \"ожидания\", и для его запуска необходимо вызвать метод ‘start()’. Этот метод активирует поток, позволяя ему начать выполнение задачи."
   ]
  },
  {
   "cell_type": "code",
   "execution_count": 19,
   "metadata": {},
   "outputs": [
    {
     "name": "stdout",
     "output_type": "stream",
     "text": [
      "Func2: 0Func1: 0 <_MainThread(MainThread, started 15120)>\n",
      " <Thread(Thread-44 (func2), started 27716)>\n",
      "Func1: 1 <_MainThread(MainThread, started 15120)>\n",
      "Func2: 1 <Thread(Thread-44 (func2), started 27716)>\n",
      "Func1: 2 <_MainThread(MainThread, started 15120)>\n",
      "Func2: 2 <Thread(Thread-44 (func2), started 27716)>\n",
      "Func1: 3 <_MainThread(MainThread, started 15120)>\n",
      "Func2: 3 <Thread(Thread-44 (func2), started 27716)>\n",
      "Func2: 4Func1: 4 <_MainThread(MainThread, started 15120)>\n",
      "Завершение программы\n",
      "[<_MainThread(MainThread, started 15120)>, <Thread(IOPub, started daemon 29088)>, <Heartbeat(Heartbeat, started daemon 24340)>, <ControlThread(Control, started daemon 30848)>, <HistorySavingThread(IPythonHistorySavingThread, started 24196)>, <ParentPollerWindows(Thread-1, started daemon 21596)>, <Thread(Thread-44 (func2), started 27716)>]\n",
      "<_MainThread(MainThread, started 15120)>\n",
      " <Thread(Thread-44 (func2), started 27716)>\n"
     ]
    }
   ],
   "source": [
    "thread = threading.Thread(target=func2)\n",
    "thread.start()\n",
    "func1()\n",
    "print('Завершение программы')\n",
    "\n",
    "print(threading.enumerate())\n",
    "print(threading.current_thread())\n"
   ]
  },
  {
   "cell_type": "markdown",
   "metadata": {},
   "source": [
    "# Метод is_alive()\n",
    "\n",
    "Метод ‘is_alive()’ позволяет проверить, активен ли поток. Он возвращает True, если поток активен, и False, если он неактивен.\n",
    "\n"
   ]
  },
  {
   "cell_type": "code",
   "execution_count": 20,
   "metadata": {},
   "outputs": [
    {
     "name": "stdout",
     "output_type": "stream",
     "text": [
      "Func2: 5 <Thread(Thread-44 (func2), started 27716)>\n",
      "Func2: 6 <Thread(Thread-44 (func2), started 27716)>\n",
      "Func2: 7 <Thread(Thread-44 (func2), started 27716)>\n",
      "Func2: 8 <Thread(Thread-44 (func2), started 27716)>\n",
      "Func2: 9 <Thread(Thread-44 (func2), started 27716)>\n"
     ]
    },
    {
     "name": "stdout",
     "output_type": "stream",
     "text": [
      "Func2: 0 <Thread(Thread-45 (func2), started 6656)>\n",
      "Func1: 0 <_MainThread(MainThread, started 15120)>\n",
      "Func2: 1 <Thread(Thread-45 (func2), started 6656)>\n",
      "Func1: 1 <_MainThread(MainThread, started 15120)>\n",
      "Func2: 2 <Thread(Thread-45 (func2), started 6656)>\n",
      "Func1: 2 <_MainThread(MainThread, started 15120)>\n",
      "Func2: 3 <Thread(Thread-45 (func2), started 6656)>\n",
      "Func1: 3 <_MainThread(MainThread, started 15120)>\n",
      "Func2: 4 <Thread(Thread-45 (func2), started 6656)>\n",
      "Func1: 4 <_MainThread(MainThread, started 15120)>\n",
      "Func2: 5 <Thread(Thread-45 (func2), started 6656)>\n",
      "Func2: 6 <Thread(Thread-45 (func2), started 6656)>\n",
      "Func2: 7 <Thread(Thread-45 (func2), started 6656)>\n",
      "Func2: 8 <Thread(Thread-45 (func2), started 6656)>\n",
      "Func2: 9 <Thread(Thread-45 (func2), started 6656)>\n",
      "Завершение программы\n",
      "[<_MainThread(MainThread, started 15120)>, <Thread(IOPub, started daemon 29088)>, <Heartbeat(Heartbeat, started daemon 24340)>, <ControlThread(Control, started daemon 30848)>, <HistorySavingThread(IPythonHistorySavingThread, started 24196)>, <ParentPollerWindows(Thread-1, started daemon 21596)>]\n",
      "<_MainThread(MainThread, started 15120)>\n"
     ]
    }
   ],
   "source": [
    "thread = threading.Thread(target=func2)\n",
    "thread.start()\n",
    "func1()\n",
    "while thread.is_alive():\n",
    "    pass\n",
    "print('Завершение программы')\n",
    "\n",
    "print(threading.enumerate())\n",
    "print(threading.current_thread())\n"
   ]
  },
  {
   "cell_type": "code",
   "execution_count": 21,
   "metadata": {},
   "outputs": [],
   "source": [
    "def func2(x):\n",
    "    for i in range(x):\n",
    "        time.sleep(0.5)\n",
    "        print(f\"Func2: {i}\", threading.current_thread().is_alive())\n"
   ]
  },
  {
   "cell_type": "code",
   "execution_count": 22,
   "metadata": {},
   "outputs": [
    {
     "name": "stdout",
     "output_type": "stream",
     "text": [
      "Func2: 0 True\n",
      "Func1: 0 <_MainThread(MainThread, started 15120)>\n",
      "Func2: 1 True\n",
      "Func2: 2 True\n",
      "Func1: 1 <_MainThread(MainThread, started 15120)>\n",
      "Func2: 3 True\n",
      "Func1: 2 <_MainThread(MainThread, started 15120)>\n",
      "Func1: 3 <_MainThread(MainThread, started 15120)>\n",
      "Func1: 4 <_MainThread(MainThread, started 15120)>\n",
      "Завершение программы\n"
     ]
    }
   ],
   "source": [
    "thread = threading.Thread(target=func2, args=(4,))\n",
    "thread.start()\n",
    "func1()\n",
    "while thread.is_alive():\n",
    "    pass\n",
    "print('Завершение программы')\n"
   ]
  },
  {
   "cell_type": "markdown",
   "metadata": {},
   "source": [
    "# Метод join()\n",
    "\n",
    "Метод ‘join()’ позволяет ожидать завершения потока. Он принимает один аргумент: поток, который нужно ожидать. Если поток не завершился, программа будет ждать его до тех пор, пока он не завершится.\n",
    "\n"
   ]
  },
  {
   "cell_type": "code",
   "execution_count": 23,
   "metadata": {},
   "outputs": [
    {
     "name": "stdout",
     "output_type": "stream",
     "text": [
      "Func2: 0 True\n",
      "Func1: 0 <_MainThread(MainThread, started 15120)>\n",
      "Func2: 1 True\n",
      "Func2: 2 True\n",
      "Func1: 1 <_MainThread(MainThread, started 15120)>\n",
      "Func2: 3 True\n",
      "Func1: 2 <_MainThread(MainThread, started 15120)>\n",
      "Func1: 3 <_MainThread(MainThread, started 15120)>\n",
      "Func1: 4 <_MainThread(MainThread, started 15120)>\n",
      "thread.is_alive()=False\n",
      "Завершение программы\n"
     ]
    }
   ],
   "source": [
    "thread = threading.Thread(target=func2, args=(4,))\n",
    "thread.start()\n",
    "func1()\n",
    "thread.join()\n",
    "print(f'{thread.is_alive()=}')\n",
    "print('Завершение программы')\n"
   ]
  },
  {
   "cell_type": "markdown",
   "metadata": {},
   "source": [
    "# Потоки-демоны\n",
    "\n",
    "Чтобы превратить обычный поток в поток-демон, необходимо установить для него параметр ‘daemon’ в значение True при создании (Рис.15). По умолчанию этот параметр имеет значение False, и такие потоки должны завершить свою работу до завершения программы. Однако потоки-демоны не блокируют завершение программы: если все основные потоки завершились, программа завершится, даже если у потоков-демонов остались невыполненные задачи."
   ]
  },
  {
   "cell_type": "code",
   "execution_count": 26,
   "metadata": {},
   "outputs": [],
   "source": [
    "def func2(x):\n",
    "    for i in range(x):\n",
    "        time.sleep(0.5)\n",
    "        print(f\"Func2: {i}\", threading.current_thread())"
   ]
  },
  {
   "cell_type": "code",
   "execution_count": 29,
   "metadata": {},
   "outputs": [
    {
     "name": "stdout",
     "output_type": "stream",
     "text": [
      "Func2: 0 <Thread(Thread-58 (func2), started daemon 14960)>\n",
      "Func2: 1 <Thread(Thread-58 (func2), started daemon 14960)>\n",
      "Func2: 2 <Thread(Thread-58 (func2), started daemon 14960)>\n",
      "Func2: 3 <Thread(Thread-58 (func2), started daemon 14960)>\n",
      "thread.is_alive()=False\n",
      "Func1: 0 <_MainThread(MainThread, started 15120)>\n",
      "Func1: 1 <_MainThread(MainThread, started 15120)>\n",
      "Func1: 2 <_MainThread(MainThread, started 15120)>\n",
      "Func1: 3 <_MainThread(MainThread, started 15120)>\n",
      "Func1: 4 <_MainThread(MainThread, started 15120)>\n",
      "Завершение программы\n",
      "[<_MainThread(MainThread, started 15120)>, <Thread(IOPub, started daemon 29088)>, <Heartbeat(Heartbeat, started daemon 24340)>, <ControlThread(Control, started daemon 30848)>, <HistorySavingThread(IPythonHistorySavingThread, started 24196)>, <ParentPollerWindows(Thread-1, started daemon 21596)>]\n",
      "<_MainThread(MainThread, started 15120)>\n"
     ]
    }
   ],
   "source": [
    "thread = threading.Thread(target=func2, args=(4,), daemon=True)\n",
    "thread.start()\n",
    "thread.join()\n",
    "print(f'{thread.is_alive()=}')\n",
    "func1()\n",
    "print('Завершение программы')\n",
    "print(threading.enumerate())\n",
    "print(threading.current_thread())\n"
   ]
  },
  {
   "cell_type": "code",
   "execution_count": null,
   "metadata": {},
   "outputs": [],
   "source": []
  }
 ],
 "metadata": {
  "kernelspec": {
   "display_name": "Python 3",
   "language": "python",
   "name": "python3"
  },
  "language_info": {
   "codemirror_mode": {
    "name": "ipython",
    "version": 3
   },
   "file_extension": ".py",
   "mimetype": "text/x-python",
   "name": "python",
   "nbconvert_exporter": "python",
   "pygments_lexer": "ipython3",
   "version": "3.11.9"
  }
 },
 "nbformat": 4,
 "nbformat_minor": 2
}
