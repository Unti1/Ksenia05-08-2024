{
 "cells": [
  {
   "cell_type": "markdown",
   "metadata": {},
   "source": [
    "# Многопроцессорность"
   ]
  },
  {
   "cell_type": "markdown",
   "metadata": {},
   "source": [
    "Потоки существуют внутри одного процесса и работают с общими ресурсами этого процесса. Однако у процессов, по сути, своя область памяти и свой внутренний GIL (Global Interpreter Lock). То есть, когда мы говорим о потоках, мы говорим о конкурентном выполнении кода. Когда мы говорим о процессах, мы говорим о параллельном выполнении на разных ядрах вашего процессора. Однако из-за этого программа становится тяжелее для компьютера. И так как у каждого процесса своя область памяти, соответственно, сложнее становится их координировать между собой."
   ]
  },
  {
   "cell_type": "code",
   "execution_count": 1,
   "metadata": {},
   "outputs": [
    {
     "name": "stdout",
     "output_type": "stream",
     "text": [
      "Первый рабочий изменил значение счетчика на 11\n",
      "Второй рабочий изменил значение счетчика на 15\n"
     ]
    }
   ],
   "source": [
    "import threading\n",
    "import multiprocessing\n",
    "import time\n",
    "\n",
    "counter = 0\n",
    "\n",
    "def first_worker(n):\n",
    "    global counter\n",
    "    for i in range(n):\n",
    "        counter += 1\n",
    "        time.sleep(1)\n",
    "    print('Первый рабочий изменил значение счетчика на', counter)\n",
    "\n",
    "def second_worker(n):\n",
    "    global counter\n",
    "    for i in range(n):\n",
    "        counter += 1\n",
    "        time.sleep(1)\n",
    "    print('Второй рабочий изменил значение счетчика на', counter)\n",
    "\n",
    "t1 = threading.Thread(target=first_worker, args=(15,))\n",
    "t2 = threading.Thread(target=second_worker, args=(10,))\n",
    "\n",
    "t1.start()\n",
    "t2.start()\n",
    "t1.join()\n",
    "t2.join()\n",
    "\n",
    "\n",
    "\n",
    "\n"
   ]
  },
  {
   "cell_type": "markdown",
   "metadata": {},
   "source": [
    "Но что, если мы поменяем «thread» на «process». В плане написания процессы ничем не отличаются от потоков, мы можем применять все те же самые методы. Мы можем использовать два способа для создания процессов: либо использовать уже готовый класс «Process» и передавать туда в «target» нужную функцию и в «args» параметры нашей функции, либо создать класс и переопределить в нём, например, метод «run», если нам нужна какая-то особая логика поведения. Также мы можем проверять, живы ли процессы, и принудительно останавливать их. В этом они очень схожи с потоками.\n",
    "\n",
    "Однако, если мы здесь напишем «process1» и обратимся к нашему модулю «multiprocessing», создадим объект класса «Process», где в качестве «target» укажем нашу первую функцию и передадим «args» со значением 10. Для второго процесса укажем в качестве «target» вторую функцию и передадим, например, 15. Запустим оба процесса, и при таком написании мы получим ошибку"
   ]
  },
  {
   "cell_type": "code",
   "execution_count": 3,
   "metadata": {},
   "outputs": [],
   "source": [
    "t1 = multiprocessing.Process(target=first_worker, args=(15,))\n",
    "t2 = multiprocessing.Process(target=second_worker, args=(10,))\n",
    "\n",
    "t1.start()\n",
    "t2.start()"
   ]
  },
  {
   "cell_type": "markdown",
   "metadata": {},
   "source": [
    "Чтобы избавиться от этой ошибки, нам нужно использовать конструкцию «if __name__ == '__main__':». При таком раскладе у нас всё отлично отрабатывает "
   ]
  },
  {
   "cell_type": "code",
   "execution_count": 4,
   "metadata": {},
   "outputs": [],
   "source": [
    "if __name__ == '__main__':\n",
    "    t1 = multiprocessing.Process(target=first_worker, args=(15,))\n",
    "    t2 = multiprocessing.Process(target=second_worker, args=(10,))\n",
    "\n",
    "    t1.start()\n",
    "    t2.start()"
   ]
  },
  {
   "cell_type": "markdown",
   "metadata": {},
   "source": [
    "Однако сейчас мы ожидаем получить результат для первого рабочего 10, для второго рабочего 15. То есть у каждого рабочего своя область памяти.\n",
    "\n",
    "По сути мы создали несколько экземпляров нашей программы, которые выполняют определённую функция, и они выполняются параллельно. В этом мы можем убедиться, если будем выводить значение нашей переменной «counter». В результате запуска мы видим, что нет никаких наслоений, «print» и значения идентичные, что в случае работы одного процесса, что в случае работы второго процесса"
   ]
  },
  {
   "cell_type": "markdown",
   "metadata": {},
   "source": [
    "# Составление связи между процессами"
   ]
  },
  {
   "cell_type": "markdown",
   "metadata": {},
   "source": [
    "# Очереди(Queue)\n",
    "\n",
    "Очереди являются одним из самых простых и безопасных способов обмена данными между процессами. Они позволяют передавать данные от одного процесса к другому."
   ]
  },
  {
   "cell_type": "code",
   "execution_count": null,
   "metadata": {},
   "outputs": [],
   "source": []
  },
  {
   "cell_type": "code",
   "execution_count": null,
   "metadata": {},
   "outputs": [],
   "source": [
    "from multiprocessing import Process, Queue\n",
    "\n",
    "def worker(q):\n",
    "    data = q.get()  # Получаем данные из очереди\n",
    "    print(f\"Process1 received: {data}\")\n",
    "\n",
    "def worker2(q):\n",
    "    data = q.get()  # Получаем данные из очереди\n",
    "    print(f\"Process2 received: {data}\")\n",
    "\n",
    "\n",
    "if __name__ == \"__main__\":\n",
    "    q = Queue()\n",
    "    p = Process(target=worker, args=(q,))\n",
    "    p2 = Process(target=worker2, args=(q,))\n",
    "    p.start()\n",
    "    p2.start()\n",
    "    \n",
    "    q.put(\"Hello from main process\")  # Отправляем данные в очередь\n",
    "    q.put(\"Hello\")  # Отправляем данные в очередь\n",
    "    p.join()\n",
    "    p2.join()"
   ]
  },
  {
   "cell_type": "markdown",
   "metadata": {},
   "source": [
    "# Каналы(Pipe)\n",
    "\n",
    "Каналы предоставляют двустороннюю связь между процессами. Они полезны, когда нужно организовать обмен данными в обоих направлениях."
   ]
  },
  {
   "cell_type": "code",
   "execution_count": null,
   "metadata": {},
   "outputs": [],
   "source": [
    "from multiprocessing import Process, Pipe\n",
    "\n",
    "def worker(conn):\n",
    "    data = conn.recv()  # Получаем данные из канала\n",
    "    print(f\"Process received: {data}\")\n",
    "    conn.send(\"Hello from worker\")  # Отправляем данные обратно\n",
    "\n",
    "if __name__ == \"__main__\":\n",
    "    parent_conn, child_conn = Pipe()\n",
    "    p = Process(target=worker, args=(child_conn,))\n",
    "    p.start()\n",
    "    \n",
    "    parent_conn.send(\"Hello from main process\")  # Отправляем данные в канал\n",
    "    print(parent_conn.recv())  # Получаем данные из канала\n",
    "    p.join()"
   ]
  },
  {
   "cell_type": "markdown",
   "metadata": {},
   "source": []
  },
  {
   "cell_type": "code",
   "execution_count": 6,
   "metadata": {},
   "outputs": [
    {
     "name": "stdout",
     "output_type": "stream",
     "text": [
      "a=1 | b=2\n"
     ]
    }
   ],
   "source": [
    "def pipe():\n",
    "    return 1, 2\n",
    "\n",
    "a,b = pipe()\n",
    "print(f'{a=} | {b=}')"
   ]
  },
  {
   "cell_type": "code",
   "execution_count": null,
   "metadata": {},
   "outputs": [],
   "source": []
  }
 ],
 "metadata": {
  "kernelspec": {
   "display_name": "Python 3",
   "language": "python",
   "name": "python3"
  },
  "language_info": {
   "codemirror_mode": {
    "name": "ipython",
    "version": 3
   },
   "file_extension": ".py",
   "mimetype": "text/x-python",
   "name": "python",
   "nbconvert_exporter": "python",
   "pygments_lexer": "ipython3",
   "version": "3.11.9"
  }
 },
 "nbformat": 4,
 "nbformat_minor": 2
}
