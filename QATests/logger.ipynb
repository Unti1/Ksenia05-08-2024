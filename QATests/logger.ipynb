{
 "cells": [
  {
   "attachments": {
    "image-2.png": {
     "image/png": "[encoded data removed]"
    }
   },
   "cell_type": "markdown",
   "metadata": {},
   "source": [
    "# Логирование\n",
    "\n",
    "- это процесс отслеживания событий в программе.\n",
    "- В Python есть несколько модулей для работы с логированием, таких как `logging` и `syslog`.\n",
    "\n",
    "Мы будем рассмотривать модуль `logging`. Он предоставляет простой интерфейс для создания и управления логами.\n",
    "### 1. Создание логгера\n",
    "Для начала я рекомендую соствлять следующую структуру\n",
    "\n",
    "![image-2.png](attachment:image-2.png)\n",
    "\n",
    "Т.е. мы создаем папку settings, в которой будем хранить настройки всего нашего приложения, включая логеры и переменные константы(это могут быть какие либо токены, ключи для доступа к API, и т.д.).\n",
    "\n",
    "\n",
    "\n"
   ]
  },
  {
   "cell_type": "markdown",
   "metadata": {},
   "source": [
    "**Что такое логгирование** -- это процесс отслеживания событий в программе. Это позволяет нам увидеть, что происходит в программе и какие события происходят или произошли в определенное время. Логирование помогает быстро находить ошибки и проблемы в программе."
   ]
  },
  {
   "cell_type": "markdown",
   "metadata": {},
   "source": [
    "Как определять логер в проекте:"
   ]
  },
  {
   "cell_type": "markdown",
   "metadata": {},
   "source": [
    "- **1 способ**: создание общего файла логов (нерекомендуется в больших проекта)\n",
    "\n",
    "`root` это объект корневого логер который связан с logging бибилиотекой. Именно к root мы обращаемся когда отправляем сигнал через info, warning, error и т.д."
   ]
  },
  {
   "cell_type": "code",
   "execution_count": 2,
   "metadata": {},
   "outputs": [],
   "source": [
    "import logging\n",
    "\n",
    "\n",
    "logging.root.setLevel(logging.INFO) # Выставляем область отлова \"сообщений\"\n",
    "file_handler = logging.FileHandler('logs.log') # Выставлем файл для записи логов\n",
    "# Использование стандартного форматера (UTC время)\n",
    "file_handler.setFormatter(logging.Formatter(\"%(asctime)s - %(module)s\\n[%(levelname)s] %(funcName)s:\\n %(lineno)d - %(message)s\"))\n",
    "logging.root.addHandler(file_handler) # Добавляем файловый обработчик для записи логов через logging библиотекуэ\n",
    "\n",
    "logging.info(\"Starting the application\") # Выводим сообщение в консоль и записываем его в файл logs.log\n"
   ]
  },
  {
   "cell_type": "markdown",
   "metadata": {},
   "source": [
    "**Форматирование в логере**\n",
    "- asctime - переменная отвечающая за вермя в формате времени выствленного на устройстве\n",
    "- module - переменная отвечающая за имя модуля (модуль в котором вызывается функция)\n",
    "- levelname - переменная отвечающая за уровень важности сообщения (INFO, ERROR, WARNING и т.д.)\n",
    "- funcName - переменная отвечающая за имя функции\n",
    "- lineno - переменная отвечающая за номер строки в коде\n",
    "- message - сообщение которое передано в сигнале к логеру\n",
    "\n"
   ]
  },
  {
   "cell_type": "markdown",
   "metadata": {},
   "source": [
    "- **2 способ**: создание отдельных логер обработчиков (лучший вариант использования логеров) в этом случае лучше создавать под все логеры общую папку например `logs`"
   ]
  },
  {
   "cell_type": "code",
   "execution_count": 4,
   "metadata": {},
   "outputs": [],
   "source": [
    "database_logger = logging.getLogger(\"database\") # Создаем логгер для базы данных \"database\" просто название\n",
    "database_logger.setLevel(logging.ERROR)\n",
    "database_file_logger = logging.FileHandler('logs/database.log') # Создаем файловый обработчик для базы данных \"database\"\n",
    "database_file_logger.setFormatter(logging.Formatter(\"%(asctime)s - %(module)s\\n[%(levelname)s] %(funcName)s:\\n %(lineno)d - %(message)s\"))\n",
    "database_logger.addHandler(database_file_logger) # Добавляем файловый обработчик для базы данных \"database\" в логгер \"database\"\n",
    "# С этого момента, мы можем обращаться не к logging а к конкретному объекту\n"
   ]
  },
  {
   "cell_type": "code",
   "execution_count": 10,
   "metadata": {},
   "outputs": [],
   "source": [
    "# Допустим мы в другом файле, и мы работаем в файле с базой данных\n",
    "from settings.loggers import database_logger\n",
    "database_logger.error('Какое то действие в базе данных')"
   ]
  },
  {
   "cell_type": "markdown",
   "metadata": {},
   "source": [
    "<u>**ВАЖНО:** Не использовать 2 подхода одновременно. Иначе при использовании первого способа со вторым, всё что записывается в отдельные файлы будут и записывать в общий файл определенный 1 способом</u>"
   ]
  },
  {
   "cell_type": "markdown",
   "metadata": {},
   "source": [
    "Если использовать стандартный логер, то все время которое там используется будет записывать в формате UTC. Соответственно в отличии от МСК на 3 часа позже. При разборе логов, это может мешать. Чтобы это исправить мы создадим класс-форматер для того чтобы он форматировал время так как нам нужно. \n"
   ]
  },
  {
   "cell_type": "code",
   "execution_count": 12,
   "metadata": {},
   "outputs": [],
   "source": [
    "import datetime\n",
    "from pytz import timezone # Для работы нужно установить библиотеку pytz\n",
    "\n",
    "class MoscowTimeFormatter(logging.Formatter): # Наследуемся от стандартного форматера логгера\n",
    "    \n",
    "    def formatTime(self, record, datefmt=None): # Далее мы ПЕРЕОПРЕДЕЛЯЕМ метод formatTime, который будет форматировать время в соответствии с нашим МСК временем. \n",
    "        record_time = datetime.datetime.fromtimestamp(record.created, tz=timezone('Europe/Moscow')) # Переводим время из timestamp в datetime объект с учетом МСК временной зоны.\n",
    "        if datefmt: # Нужни ли как то форматировать время по особенному?\n",
    "            return record_time.strftime(datefmt) #Вывод в формате, который задали.\n",
    "        return record_time.isoformat() # Вывод в стандартном формате"
   ]
  },
  {
   "cell_type": "code",
   "execution_count": 13,
   "metadata": {},
   "outputs": [],
   "source": [
    "database_2_logger = logging.getLogger(\"database2\") # Создаем логгер для базы данных \"database\" просто название\n",
    "database_2_logger.setLevel(logging.ERROR)\n",
    "database_2_file_logger = logging.FileHandler('logs/database.log') # Создаем файловый обработчик для базы данных \"database\"\n",
    "database_2_file_logger.setFormatter(\n",
    "    MoscowTimeFormatter(\n",
    "            fmt=\"%(asctime)s - %(module)s\\n[%(levelname)s] %(funcName)s:\\n %(lineno)d - %(message)s\",\n",
    "            datefmt='%m.%d %H:%M:%S'\n",
    "        )\n",
    "    )\n",
    "database_2_logger.addHandler(database_file_logger) # Добавляем файловый обработчик для базы данных \"database\" в логгер \"database\"\n",
    "# С этого момента, мы можем обращаться не к logging а к конкретному объекту\n"
   ]
  },
  {
   "cell_type": "code",
   "execution_count": 1,
   "metadata": {},
   "outputs": [],
   "source": [
    "from settings.loggers import database_2_logger\n",
    "\n",
    "database_2_logger.warning('Предупреждение из программы')\n",
    "database_2_logger.error(\"Ошибка\")"
   ]
  },
  {
   "cell_type": "markdown",
   "metadata": {},
   "source": [
    "Для распознования кириллицы нужно выставлять кодирвку, для файла записи, также как мы это делали при работе с файлами.\n",
    "\n",
    "`database_2_file_logger = logging.FileHandler('logs/database.log', encoding='utf-8')`"
   ]
  },
  {
   "cell_type": "markdown",
   "metadata": {},
   "source": [
    "Для полноты произошедшей ошибке, в логере рекомендуется использовать модуль traceback для полного вывода traceback ошибки произошедшей во время работы программы"
   ]
  },
  {
   "cell_type": "code",
   "execution_count": 3,
   "metadata": {},
   "outputs": [
    {
     "name": "stdout",
     "output_type": "stream",
     "text": [
      "Код дошел до конца\n"
     ]
    }
   ],
   "source": [
    "import traceback\n",
    "from settings.loggers import database_logger\n",
    "\n",
    "try:\n",
    "    10 / 0\n",
    "except:\n",
    "    database_logger.error(traceback.format_exc())\n",
    "\n",
    "print('Код дошел до конца')"
   ]
  },
  {
   "cell_type": "markdown",
   "metadata": {},
   "source": []
  }
 ],
 "metadata": {
  "kernelspec": {
   "display_name": "qatests-b4kNs0Zg-py3.11",
   "language": "python",
   "name": "python3"
  },
  "language_info": {
   "codemirror_mode": {
    "name": "ipython",
    "version": 3
   },
   "file_extension": ".py",
   "mimetype": "text/x-python",
   "name": "python",
   "nbconvert_exporter": "python",
   "pygments_lexer": "ipython3",
   "version": "3.11.9"
  }
 },
 "nbformat": 4,
 "nbformat_minor": 2
}
