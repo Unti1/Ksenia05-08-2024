{
 "cells": [
  {
   "cell_type": "markdown",
   "metadata": {},
   "source": [
    "# Тесты\n",
    "- это процесс отладки описанного кода, передавая различные параметры с целью выявления слабых мест в программе\n",
    "\n",
    "\n",
    "Для тестов мы будем использовать библиотеку `pytest`"
   ]
  },
  {
   "cell_type": "markdown",
   "metadata": {},
   "source": [
    "Запуск самих тестов происходит с использованием команды в терминале\n",
    "```\n",
    "pytest\n",
    "```"
   ]
  },
  {
   "cell_type": "code",
   "execution_count": 4,
   "metadata": {},
   "outputs": [
    {
     "name": "stdout",
     "output_type": "stream",
     "text": [
      "\u001b[1m============================= test session starts =============================\u001b[0m\n",
      "platform win32 -- Python 3.11.9, pytest-8.3.4, pluggy-1.5.0\n",
      "rootdir: c:\\Projects\\Lessons\\Ksenia05-08-2024\\QATests\n",
      "configfile: pyproject.toml\n",
      "collected 5 items\n",
      "\n",
      "tests\\test_1.py \u001b[32m.\u001b[0m\u001b[32m                                                        [ 20%]\u001b[0m\n",
      "tests\\test_n1.py \u001b[32m.\u001b[0m\u001b[32m.\u001b[0m\u001b[31mF\u001b[0m\u001b[32m.\u001b[0m\u001b[31m                                                    [100%]\u001b[0m\n",
      "\n",
      "================================== FAILURES ===================================\n",
      "\u001b[31m\u001b[1m_____________________ test_apply_discount_invalid[100-0] ______________________\u001b[0m\n",
      "\n",
      "price = 100, discount = 0\n",
      "\n",
      "    \u001b[0m\u001b[37m@pytest\u001b[39;49;00m.mark.parametrize(\u001b[33m\"\u001b[39;49;00m\u001b[33mprice, discount\u001b[39;49;00m\u001b[33m\"\u001b[39;49;00m,\u001b[90m\u001b[39;49;00m\n",
      "                             [\u001b[90m\u001b[39;49;00m\n",
      "                                (\u001b[94m100\u001b[39;49;00m, \u001b[94m110\u001b[39;49;00m),\u001b[90m\u001b[39;49;00m\n",
      "                                (\u001b[94m100\u001b[39;49;00m, -\u001b[94m100\u001b[39;49;00m),\u001b[90m\u001b[39;49;00m\n",
      "                                (\u001b[94m100\u001b[39;49;00m, \u001b[94m0\u001b[39;49;00m),\u001b[90m\u001b[39;49;00m\n",
      "                                (\u001b[94m100\u001b[39;49;00m, \u001b[94m200\u001b[39;49;00m),\u001b[90m\u001b[39;49;00m\n",
      "                                 ])\u001b[90m\u001b[39;49;00m\n",
      "    \u001b[90m# Тест на случай, когда скидка превышает допустимый диапазон\u001b[39;49;00m\u001b[90m\u001b[39;49;00m\n",
      "    \u001b[94mdef\u001b[39;49;00m\u001b[90m \u001b[39;49;00m\u001b[92mtest_apply_discount_invalid\u001b[39;49;00m(price, discount):\u001b[90m\u001b[39;49;00m\n",
      ">       \u001b[94mwith\u001b[39;49;00m pytest.raises(\u001b[96mValueError\u001b[39;49;00m):\u001b[90m\u001b[39;49;00m\n",
      "\u001b[1m\u001b[31mE       Failed: DID NOT RAISE <class 'ValueError'>\u001b[0m\n",
      "\n",
      "\u001b[1m\u001b[31mtests\\test_n1.py\u001b[0m:30: Failed\n",
      "\u001b[36m\u001b[1m=========================== short test summary info ===========================\u001b[0m\n",
      "\u001b[31mFAILED\u001b[0m tests/test_n1.py::\u001b[1mtest_apply_discount_invalid[100-0]\u001b[0m - Failed: DID NOT RAISE <class 'ValueError'>\n",
      "\u001b[31m========================= \u001b[31m\u001b[1m1 failed\u001b[0m, \u001b[32m4 passed\u001b[0m\u001b[31m in 0.15s\u001b[0m\u001b[31m =========================\u001b[0m\n"
     ]
    }
   ],
   "source": [
    "!pytest"
   ]
  },
  {
   "cell_type": "markdown",
   "metadata": {},
   "source": [
    "Для более подробынх данных из теста, используется влаг -v"
   ]
  },
  {
   "cell_type": "code",
   "execution_count": 5,
   "metadata": {},
   "outputs": [
    {
     "name": "stdout",
     "output_type": "stream",
     "text": [
      "\u001b[1m============================= test session starts =============================\u001b[0m\n",
      "platform win32 -- Python 3.11.9, pytest-8.3.4, pluggy-1.5.0 -- C:\\Users\\NatalkaNerealka\\AppData\\Local\\pypoetry\\Cache\\virtualenvs\\qatests-b4kNs0Zg-py3.11\\Scripts\\python.exe\n",
      "cachedir: .pytest_cache\n",
      "rootdir: c:\\Projects\\Lessons\\Ksenia05-08-2024\\QATests\n",
      "configfile: pyproject.toml\n",
      "\u001b[1mcollecting ... \u001b[0mcollected 5 items\n",
      "\n",
      "tests/test_1.py::test_multiply \u001b[32mPASSED\u001b[0m\u001b[32m                                    [ 20%]\u001b[0m\n",
      "tests/test_n1.py::test_apply_discount_invalid[100-110] \u001b[32mPASSED\u001b[0m\u001b[32m            [ 40%]\u001b[0m\n",
      "tests/test_n1.py::test_apply_discount_invalid[100--100] \u001b[32mPASSED\u001b[0m\u001b[32m           [ 60%]\u001b[0m\n",
      "tests/test_n1.py::test_apply_discount_invalid[100-0] \u001b[31mFAILED\u001b[0m\u001b[31m              [ 80%]\u001b[0m\n",
      "tests/test_n1.py::test_apply_discount_invalid[100-200] \u001b[32mPASSED\u001b[0m\u001b[31m            [100%]\u001b[0m\n",
      "\n",
      "================================== FAILURES ===================================\n",
      "\u001b[31m\u001b[1m_____________________ test_apply_discount_invalid[100-0] ______________________\u001b[0m\n",
      "\n",
      "price = 100, discount = 0\n",
      "\n",
      "    \u001b[0m\u001b[37m@pytest\u001b[39;49;00m.mark.parametrize(\u001b[33m\"\u001b[39;49;00m\u001b[33mprice, discount\u001b[39;49;00m\u001b[33m\"\u001b[39;49;00m,\u001b[90m\u001b[39;49;00m\n",
      "                             [\u001b[90m\u001b[39;49;00m\n",
      "                                (\u001b[94m100\u001b[39;49;00m, \u001b[94m110\u001b[39;49;00m),\u001b[90m\u001b[39;49;00m\n",
      "                                (\u001b[94m100\u001b[39;49;00m, -\u001b[94m100\u001b[39;49;00m),\u001b[90m\u001b[39;49;00m\n",
      "                                (\u001b[94m100\u001b[39;49;00m, \u001b[94m0\u001b[39;49;00m),\u001b[90m\u001b[39;49;00m\n",
      "                                (\u001b[94m100\u001b[39;49;00m, \u001b[94m200\u001b[39;49;00m),\u001b[90m\u001b[39;49;00m\n",
      "                                 ])\u001b[90m\u001b[39;49;00m\n",
      "    \u001b[90m# Тест на случай, когда скидка превышает допустимый диапазон\u001b[39;49;00m\u001b[90m\u001b[39;49;00m\n",
      "    \u001b[94mdef\u001b[39;49;00m\u001b[90m \u001b[39;49;00m\u001b[92mtest_apply_discount_invalid\u001b[39;49;00m(price, discount):\u001b[90m\u001b[39;49;00m\n",
      ">       \u001b[94mwith\u001b[39;49;00m pytest.raises(\u001b[96mValueError\u001b[39;49;00m):\u001b[90m\u001b[39;49;00m\n",
      "\u001b[1m\u001b[31mE       Failed: DID NOT RAISE <class 'ValueError'>\u001b[0m\n",
      "\n",
      "\u001b[1m\u001b[31mtests\\test_n1.py\u001b[0m:30: Failed\n",
      "\u001b[36m\u001b[1m=========================== short test summary info ===========================\u001b[0m\n",
      "\u001b[31mFAILED\u001b[0m tests/test_n1.py::\u001b[1mtest_apply_discount_invalid[100-0]\u001b[0m - Failed: DID NOT RAISE <class 'ValueError'>\n",
      "\u001b[31m========================= \u001b[31m\u001b[1m1 failed\u001b[0m, \u001b[32m4 passed\u001b[0m\u001b[31m in 0.12s\u001b[0m\u001b[31m =========================\u001b[0m\n"
     ]
    }
   ],
   "source": [
    "!pytest -v"
   ]
  },
  {
   "cell_type": "markdown",
   "metadata": {},
   "source": [
    "Вообще, когда мы работаем с pytest, он сам находит те файлы которые нужно протестироватвать и выполняет их. Это называется автоматизацией тестирования кода(авто-тесты). Файлы которые он находит, это файлы с ПРЕФИКСОМ или ПОСТФИКСОМ `test`.\n",
    "\n",
    "Например: \n",
    "- `test_sum.py` - test -- ПРЕфикс\n",
    "- `test_mul.py`\n",
    "- `test1.py`\n",
    "- `1_test.py` - test -- ПОСТфикс\n",
    "и т.д."
   ]
  },
  {
   "cell_type": "markdown",
   "metadata": {},
   "source": [
    "Также для проверок лучше создавать конкретную папку с названием tests и проводить тесты непосредственно в ней, так как pytest будет искать файлы именно в этой папке. Это называется структурирование проекта. \n",
    "\n",
    "Для запуска проверки относительно какого либо пути, вы передаете их напрямую в запрос проверки pytest"
   ]
  },
  {
   "cell_type": "code",
   "execution_count": 6,
   "metadata": {},
   "outputs": [
    {
     "name": "stdout",
     "output_type": "stream",
     "text": [
      "\u001b[1m============================= test session starts =============================\u001b[0m\n",
      "platform win32 -- Python 3.11.9, pytest-8.3.4, pluggy-1.5.0 -- C:\\Users\\NatalkaNerealka\\AppData\\Local\\pypoetry\\Cache\\virtualenvs\\qatests-b4kNs0Zg-py3.11\\Scripts\\python.exe\n",
      "cachedir: .pytest_cache\n",
      "rootdir: c:\\Projects\\Lessons\\Ksenia05-08-2024\\QATests\n",
      "configfile: pyproject.toml\n",
      "\u001b[1mcollecting ... \u001b[0mcollected 5 items\n",
      "\n",
      "tests/test_1.py::test_multiply \u001b[32mPASSED\u001b[0m\u001b[32m                                    [ 20%]\u001b[0m\n",
      "tests/test_n1.py::test_apply_discount_invalid[100-110] \u001b[32mPASSED\u001b[0m\u001b[32m            [ 40%]\u001b[0m\n",
      "tests/test_n1.py::test_apply_discount_invalid[100--100] \u001b[32mPASSED\u001b[0m\u001b[32m           [ 60%]\u001b[0m\n",
      "tests/test_n1.py::test_apply_discount_invalid[100-0] \u001b[31mFAILED\u001b[0m\u001b[31m              [ 80%]\u001b[0m\n",
      "tests/test_n1.py::test_apply_discount_invalid[100-200] \u001b[32mPASSED\u001b[0m\u001b[31m            [100%]\u001b[0m\n",
      "\n",
      "================================== FAILURES ===================================\n",
      "\u001b[31m\u001b[1m_____________________ test_apply_discount_invalid[100-0] ______________________\u001b[0m\n",
      "\n",
      "price = 100, discount = 0\n",
      "\n",
      "    \u001b[0m\u001b[37m@pytest\u001b[39;49;00m.mark.parametrize(\u001b[33m\"\u001b[39;49;00m\u001b[33mprice, discount\u001b[39;49;00m\u001b[33m\"\u001b[39;49;00m,\u001b[90m\u001b[39;49;00m\n",
      "                             [\u001b[90m\u001b[39;49;00m\n",
      "                                (\u001b[94m100\u001b[39;49;00m, \u001b[94m110\u001b[39;49;00m),\u001b[90m\u001b[39;49;00m\n",
      "                                (\u001b[94m100\u001b[39;49;00m, -\u001b[94m100\u001b[39;49;00m),\u001b[90m\u001b[39;49;00m\n",
      "                                (\u001b[94m100\u001b[39;49;00m, \u001b[94m0\u001b[39;49;00m),\u001b[90m\u001b[39;49;00m\n",
      "                                (\u001b[94m100\u001b[39;49;00m, \u001b[94m200\u001b[39;49;00m),\u001b[90m\u001b[39;49;00m\n",
      "                                 ])\u001b[90m\u001b[39;49;00m\n",
      "    \u001b[90m# Тест на случай, когда скидка превышает допустимый диапазон\u001b[39;49;00m\u001b[90m\u001b[39;49;00m\n",
      "    \u001b[94mdef\u001b[39;49;00m\u001b[90m \u001b[39;49;00m\u001b[92mtest_apply_discount_invalid\u001b[39;49;00m(price, discount):\u001b[90m\u001b[39;49;00m\n",
      ">       \u001b[94mwith\u001b[39;49;00m pytest.raises(\u001b[96mValueError\u001b[39;49;00m):\u001b[90m\u001b[39;49;00m\n",
      "\u001b[1m\u001b[31mE       Failed: DID NOT RAISE <class 'ValueError'>\u001b[0m\n",
      "\n",
      "\u001b[1m\u001b[31mtests\\test_n1.py\u001b[0m:30: Failed\n",
      "\u001b[36m\u001b[1m=========================== short test summary info ===========================\u001b[0m\n",
      "\u001b[31mFAILED\u001b[0m tests/test_n1.py::\u001b[1mtest_apply_discount_invalid[100-0]\u001b[0m - Failed: DID NOT RAISE <class 'ValueError'>\n",
      "\u001b[31m========================= \u001b[31m\u001b[1m1 failed\u001b[0m, \u001b[32m4 passed\u001b[0m\u001b[31m in 0.10s\u001b[0m\u001b[31m =========================\u001b[0m\n",
      "\u001b[1m============================= test session starts =============================\u001b[0m\n",
      "platform win32 -- Python 3.11.9, pytest-8.3.4, pluggy-1.5.0 -- C:\\Users\\NatalkaNerealka\\AppData\\Local\\pypoetry\\Cache\\virtualenvs\\qatests-b4kNs0Zg-py3.11\\Scripts\\python.exe\n",
      "cachedir: .pytest_cache\n",
      "rootdir: c:\\Projects\\Lessons\\Ksenia05-08-2024\\QATests\n",
      "configfile: pyproject.toml\n",
      "\u001b[1mcollecting ... \u001b[0mcollected 4 items\n",
      "\n",
      "tests/test_n1.py::test_apply_discount_invalid[100-110] \u001b[32mPASSED\u001b[0m\u001b[32m            [ 25%]\u001b[0m\n",
      "tests/test_n1.py::test_apply_discount_invalid[100--100] \u001b[32mPASSED\u001b[0m\u001b[32m           [ 50%]\u001b[0m\n",
      "tests/test_n1.py::test_apply_discount_invalid[100-0] \u001b[31mFAILED\u001b[0m\u001b[31m              [ 75%]\u001b[0m\n",
      "tests/test_n1.py::test_apply_discount_invalid[100-200] \u001b[32mPASSED\u001b[0m\u001b[31m            [100%]\u001b[0m\n",
      "\n",
      "================================== FAILURES ===================================\n",
      "\u001b[31m\u001b[1m_____________________ test_apply_discount_invalid[100-0] ______________________\u001b[0m\n",
      "\n",
      "price = 100, discount = 0\n",
      "\n",
      "    \u001b[0m\u001b[37m@pytest\u001b[39;49;00m.mark.parametrize(\u001b[33m\"\u001b[39;49;00m\u001b[33mprice, discount\u001b[39;49;00m\u001b[33m\"\u001b[39;49;00m,\u001b[90m\u001b[39;49;00m\n",
      "                             [\u001b[90m\u001b[39;49;00m\n",
      "                                (\u001b[94m100\u001b[39;49;00m, \u001b[94m110\u001b[39;49;00m),\u001b[90m\u001b[39;49;00m\n",
      "                                (\u001b[94m100\u001b[39;49;00m, -\u001b[94m100\u001b[39;49;00m),\u001b[90m\u001b[39;49;00m\n",
      "                                (\u001b[94m100\u001b[39;49;00m, \u001b[94m0\u001b[39;49;00m),\u001b[90m\u001b[39;49;00m\n",
      "                                (\u001b[94m100\u001b[39;49;00m, \u001b[94m200\u001b[39;49;00m),\u001b[90m\u001b[39;49;00m\n",
      "                                 ])\u001b[90m\u001b[39;49;00m\n",
      "    \u001b[90m# Тест на случай, когда скидка превышает допустимый диапазон\u001b[39;49;00m\u001b[90m\u001b[39;49;00m\n",
      "    \u001b[94mdef\u001b[39;49;00m\u001b[90m \u001b[39;49;00m\u001b[92mtest_apply_discount_invalid\u001b[39;49;00m(price, discount):\u001b[90m\u001b[39;49;00m\n",
      ">       \u001b[94mwith\u001b[39;49;00m pytest.raises(\u001b[96mValueError\u001b[39;49;00m):\u001b[90m\u001b[39;49;00m\n",
      "\u001b[1m\u001b[31mE       Failed: DID NOT RAISE <class 'ValueError'>\u001b[0m\n",
      "\n",
      "\u001b[1m\u001b[31mtests\\test_n1.py\u001b[0m:30: Failed\n",
      "\u001b[36m\u001b[1m=========================== short test summary info ===========================\u001b[0m\n",
      "\u001b[31mFAILED\u001b[0m tests/test_n1.py::\u001b[1mtest_apply_discount_invalid[100-0]\u001b[0m - Failed: DID NOT RAISE <class 'ValueError'>\n",
      "\u001b[31m========================= \u001b[31m\u001b[1m1 failed\u001b[0m, \u001b[32m3 passed\u001b[0m\u001b[31m in 0.12s\u001b[0m\u001b[31m =========================\u001b[0m\n"
     ]
    }
   ],
   "source": [
    "# Если нужно проверить все тесты в папке\n",
    "!pytest -v tests\n",
    "# Если нужно проверить конкретный файл\n",
    "!pytest -v tests/test_n1.py\n"
   ]
  },
  {
   "cell_type": "markdown",
   "metadata": {},
   "source": [
    "Все тесты которые мы проводим, должны содержать в теле функции конструкцию `assert *условие*`\n",
    "\n",
    "`assert` - это конструкция для проверки того, что условие истинно, если это не так то будет выброшено исключение(ошибка) AssertionError\n",
    "\n"
   ]
  },
  {
   "cell_type": "code",
   "execution_count": null,
   "metadata": {},
   "outputs": [],
   "source": [
    "# -- данные из tests/test_1.py\n",
    "\n",
    "def div(a,b):\n",
    "    return a / b\n",
    "\n",
    "def test_multiply():\n",
    "    assert div(4,2) == 2\n",
    "    # assert div(4,3) == 2\n",
    "    # assert div(4,0)"
   ]
  },
  {
   "cell_type": "code",
   "execution_count": 7,
   "metadata": {},
   "outputs": [
    {
     "name": "stdout",
     "output_type": "stream",
     "text": [
      "\u001b[1m============================= test session starts =============================\u001b[0m\n",
      "platform win32 -- Python 3.11.9, pytest-8.3.4, pluggy-1.5.0 -- C:\\Users\\NatalkaNerealka\\AppData\\Local\\pypoetry\\Cache\\virtualenvs\\qatests-b4kNs0Zg-py3.11\\Scripts\\python.exe\n",
      "cachedir: .pytest_cache\n",
      "rootdir: c:\\Projects\\Lessons\\Ksenia05-08-2024\\QATests\n",
      "configfile: pyproject.toml\n",
      "\u001b[1mcollecting ... \u001b[0mcollected 1 item\n",
      "\n",
      "tests/test_1.py::test_multiply \u001b[32mPASSED\u001b[0m\u001b[32m                                    [100%]\u001b[0m\n",
      "\n",
      "\u001b[32m============================== \u001b[32m\u001b[1m1 passed\u001b[0m\u001b[32m in 0.01s\u001b[0m\u001b[32m ==============================\u001b[0m\n"
     ]
    }
   ],
   "source": [
    "!pytest -v tests/test_1.py"
   ]
  },
  {
   "cell_type": "markdown",
   "metadata": {},
   "source": [
    "# Тесты на параметрах (paramatrize)"
   ]
  },
  {
   "cell_type": "markdown",
   "metadata": {},
   "source": [
    "parametrize - это функция которая принимает список параметров и возвращает список кортежей. Каждый кортеж представляет собой набор параметров для теста функции.\n",
    "\n",
    "Сама функция находтися внутри функции пакета pytest.mark\n",
    "\n",
    "Пример записи:\n"
   ]
  },
  {
   "cell_type": "code",
   "execution_count": null,
   "metadata": {},
   "outputs": [],
   "source": [
    "import pytest\n",
    "\n",
    "@pytest.mark.parametrize('param1, param2', [(1, 2), (3, 4)])\n",
    "def test_parametrize(param1, param2):\n",
    "    assert param1 + param2 == 5\n"
   ]
  },
  {
   "cell_type": "markdown",
   "metadata": {},
   "source": [
    "## Проверка на ошибку\n",
    "\n",
    "Есть специальная конструкция внутри pytest которая позволяет нам проверять код на ожидаемое исключение.\n",
    "Эта конструкция использует контекстный менеджер и специальную из pytest - `raises` "
   ]
  },
  {
   "cell_type": "code",
   "execution_count": null,
   "metadata": {},
   "outputs": [],
   "source": [
    "def func(x):\n",
    "    if x < 0:\n",
    "        raise ValueError(\"x must be non-negative\")\n",
    "    return x**2\n",
    "\n",
    "@pytest.mark.parametrize('x', [1, -1])\n",
    "def test_func(x):\n",
    "    with pytest.raises(ValueError) as excinfo:# также мы можем передать информацию об исключении в контекстную переменную (та что идет после as)\n",
    "        func(x)\n",
    "    assert str(excinfo.value) == \"x must be non-negative\""
   ]
  },
  {
   "cell_type": "markdown",
   "metadata": {},
   "source": [
    "У нас уже есть готовая функция для проверки, и находится она в test_n1.py. Давайте попробуем запустить его.\n"
   ]
  },
  {
   "cell_type": "code",
   "execution_count": 8,
   "metadata": {},
   "outputs": [
    {
     "name": "stdout",
     "output_type": "stream",
     "text": [
      "\u001b[1m============================= test session starts =============================\u001b[0m\n",
      "platform win32 -- Python 3.11.9, pytest-8.3.4, pluggy-1.5.0\n",
      "rootdir: c:\\Projects\\Lessons\\Ksenia05-08-2024\\QATests\n",
      "configfile: pyproject.toml\n",
      "collected 4 items\n",
      "\n",
      "tests\\test_n1.py \u001b[32m.\u001b[0m\u001b[32m.\u001b[0m\u001b[31mF\u001b[0m\u001b[32m.\u001b[0m\u001b[31m                                                    [100%]\u001b[0m\n",
      "\n",
      "================================== FAILURES ===================================\n",
      "\u001b[31m\u001b[1m_____________________ test_apply_discount_invalid[100-0] ______________________\u001b[0m\n",
      "\n",
      "price = 100, discount = 0\n",
      "\n",
      "    \u001b[0m\u001b[37m@pytest\u001b[39;49;00m.mark.parametrize(\u001b[33m\"\u001b[39;49;00m\u001b[33mprice, discount\u001b[39;49;00m\u001b[33m\"\u001b[39;49;00m,\u001b[90m\u001b[39;49;00m\n",
      "                             [\u001b[90m\u001b[39;49;00m\n",
      "                                (\u001b[94m100\u001b[39;49;00m, \u001b[94m110\u001b[39;49;00m),\u001b[90m\u001b[39;49;00m\n",
      "                                (\u001b[94m100\u001b[39;49;00m, -\u001b[94m100\u001b[39;49;00m),\u001b[90m\u001b[39;49;00m\n",
      "                                (\u001b[94m100\u001b[39;49;00m, \u001b[94m0\u001b[39;49;00m),\u001b[90m\u001b[39;49;00m\n",
      "                                (\u001b[94m100\u001b[39;49;00m, \u001b[94m200\u001b[39;49;00m),\u001b[90m\u001b[39;49;00m\n",
      "                                 ])\u001b[90m\u001b[39;49;00m\n",
      "    \u001b[90m# Тест на случай, когда скидка превышает допустимый диапазон\u001b[39;49;00m\u001b[90m\u001b[39;49;00m\n",
      "    \u001b[94mdef\u001b[39;49;00m\u001b[90m \u001b[39;49;00m\u001b[92mtest_apply_discount_invalid\u001b[39;49;00m(price, discount):\u001b[90m\u001b[39;49;00m\n",
      ">       \u001b[94mwith\u001b[39;49;00m pytest.raises(\u001b[96mValueError\u001b[39;49;00m):\u001b[90m\u001b[39;49;00m\n",
      "\u001b[1m\u001b[31mE       Failed: DID NOT RAISE <class 'ValueError'>\u001b[0m\n",
      "\n",
      "\u001b[1m\u001b[31mtests\\test_n1.py\u001b[0m:30: Failed\n",
      "\u001b[36m\u001b[1m=========================== short test summary info ===========================\u001b[0m\n",
      "\u001b[31mFAILED\u001b[0m tests/test_n1.py::\u001b[1mtest_apply_discount_invalid[100-0]\u001b[0m - Failed: DID NOT RAISE <class 'ValueError'>\n",
      "\u001b[31m========================= \u001b[31m\u001b[1m1 failed\u001b[0m, \u001b[32m3 passed\u001b[0m\u001b[31m in 0.10s\u001b[0m\u001b[31m =========================\u001b[0m\n"
     ]
    }
   ],
   "source": [
    "!pytest tests/test_n1.py"
   ]
  },
  {
   "cell_type": "markdown",
   "metadata": {},
   "source": []
  }
 ],
 "metadata": {
  "kernelspec": {
   "display_name": "qatests-b4kNs0Zg-py3.11",
   "language": "python",
   "name": "python3"
  },
  "language_info": {
   "codemirror_mode": {
    "name": "ipython",
    "version": 3
   },
   "file_extension": ".py",
   "mimetype": "text/x-python",
   "name": "python",
   "nbconvert_exporter": "python",
   "pygments_lexer": "ipython3",
   "version": "3.11.9"
  }
 },
 "nbformat": 4,
 "nbformat_minor": 2
}
