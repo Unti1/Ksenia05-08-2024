{
 "cells": [
  {
   "cell_type": "markdown",
   "metadata": {},
   "source": [
    "# Тесты\n",
    "- это процесс отладки описанного кода, передавая различные параметры с целью выявления слабых мест в программе\n",
    "\n",
    "\n",
    "Для тестов мы будем использовать библиотеку `pytest`"
   ]
  },
  {
   "cell_type": "markdown",
   "metadata": {},
   "source": [
    "Запуск самих тестов происходит с использованием команды в терминале\n",
    "```\n",
    "pytest\n",
    "```"
   ]
  },
  {
   "cell_type": "code",
   "execution_count": 4,
   "metadata": {},
   "outputs": [
    {
     "name": "stdout",
     "output_type": "stream",
     "text": [
      "\u001b[1m============================= test session starts =============================\u001b[0m\n",
      "platform win32 -- Python 3.11.9, pytest-8.3.4, pluggy-1.5.0\n",
      "rootdir: c:\\Projects\\Lessons\\Ksenia05-08-2024\\QATests\n",
      "configfile: pyproject.toml\n",
      "collected 5 items\n",
      "\n",
      "tests\\test_1.py \u001b[32m.\u001b[0m\u001b[32m                                                        [ 20%]\u001b[0m\n",
      "tests\\test_n1.py \u001b[32m.\u001b[0m\u001b[32m.\u001b[0m\u001b[31mF\u001b[0m\u001b[32m.\u001b[0m\u001b[31m                                                    [100%]\u001b[0m\n",
      "\n",
      "================================== FAILURES ===================================\n",
      "\u001b[31m\u001b[1m_____________________ test_apply_discount_invalid[100-0] ______________________\u001b[0m\n",
      "\n",
      "price = 100, discount = 0\n",
      "\n",
      "    \u001b[0m\u001b[37m@pytest\u001b[39;49;00m.mark.parametrize(\u001b[33m\"\u001b[39;49;00m\u001b[33mprice, discount\u001b[39;49;00m\u001b[33m\"\u001b[39;49;00m,\u001b[90m\u001b[39;49;00m\n",
      "                             [\u001b[90m\u001b[39;49;00m\n",
      "                                (\u001b[94m100\u001b[39;49;00m, \u001b[94m110\u001b[39;49;00m),\u001b[90m\u001b[39;49;00m\n",
      "                                (\u001b[94m100\u001b[39;49;00m, -\u001b[94m100\u001b[39;49;00m),\u001b[90m\u001b[39;49;00m\n",
      "                                (\u001b[94m100\u001b[39;49;00m, \u001b[94m0\u001b[39;49;00m),\u001b[90m\u001b[39;49;00m\n",
      "                                (\u001b[94m100\u001b[39;49;00m, \u001b[94m200\u001b[39;49;00m),\u001b[90m\u001b[39;49;00m\n",
      "                                 ])\u001b[90m\u001b[39;49;00m\n",
      "    \u001b[90m# Тест на случай, когда скидка превышает допустимый диапазон\u001b[39;49;00m\u001b[90m\u001b[39;49;00m\n",
      "    \u001b[94mdef\u001b[39;49;00m\u001b[90m \u001b[39;49;00m\u001b[92mtest_apply_discount_invalid\u001b[39;49;00m(price, discount):\u001b[90m\u001b[39;49;00m\n",
      ">       \u001b[94mwith\u001b[39;49;00m pytest.raises(\u001b[96mValueError\u001b[39;49;00m):\u001b[90m\u001b[39;49;00m\n",
      "\u001b[1m\u001b[31mE       Failed: DID NOT RAISE <class 'ValueError'>\u001b[0m\n",
      "\n",
      "\u001b[1m\u001b[31mtests\\test_n1.py\u001b[0m:30: Failed\n",
      "\u001b[36m\u001b[1m=========================== short test summary info ===========================\u001b[0m\n",
      "\u001b[31mFAILED\u001b[0m tests/test_n1.py::\u001b[1mtest_apply_discount_invalid[100-0]\u001b[0m - Failed: DID NOT RAISE <class 'ValueError'>\n",
      "\u001b[31m========================= \u001b[31m\u001b[1m1 failed\u001b[0m, \u001b[32m4 passed\u001b[0m\u001b[31m in 0.15s\u001b[0m\u001b[31m =========================\u001b[0m\n"
     ]
    }
   ],
   "source": [
    "!pytest"
   ]
  },
  {
   "cell_type": "markdown",
   "metadata": {},
   "source": [
    "Для более подробынх данных из теста, используется влаг -v"
   ]
  },
  {
   "cell_type": "code",
   "execution_count": 5,
   "metadata": {},
   "outputs": [
    {
     "name": "stdout",
     "output_type": "stream",
     "text": [
      "\u001b[1m============================= test session starts =============================\u001b[0m\n",
      "platform win32 -- Python 3.11.9, pytest-8.3.4, pluggy-1.5.0 -- C:\\Users\\NatalkaNerealka\\AppData\\Local\\pypoetry\\Cache\\virtualenvs\\qatests-b4kNs0Zg-py3.11\\Scripts\\python.exe\n",
      "cachedir: .pytest_cache\n",
      "rootdir: c:\\Projects\\Lessons\\Ksenia05-08-2024\\QATests\n",
      "configfile: pyproject.toml\n",
      "\u001b[1mcollecting ... \u001b[0mcollected 5 items\n",
      "\n",
      "tests/test_1.py::test_multiply \u001b[32mPASSED\u001b[0m\u001b[32m                                    [ 20%]\u001b[0m\n",
      "tests/test_n1.py::test_apply_discount_invalid[100-110] \u001b[32mPASSED\u001b[0m\u001b[32m            [ 40%]\u001b[0m\n",
      "tests/test_n1.py::test_apply_discount_invalid[100--100] \u001b[32mPASSED\u001b[0m\u001b[32m           [ 60%]\u001b[0m\n",
      "tests/test_n1.py::test_apply_discount_invalid[100-0] \u001b[31mFAILED\u001b[0m\u001b[31m              [ 80%]\u001b[0m\n",
      "tests/test_n1.py::test_apply_discount_invalid[100-200] \u001b[32mPASSED\u001b[0m\u001b[31m            [100%]\u001b[0m\n",
      "\n",
      "================================== FAILURES ===================================\n",
      "\u001b[31m\u001b[1m_____________________ test_apply_discount_invalid[100-0] ______________________\u001b[0m\n",
      "\n",
      "price = 100, discount = 0\n",
      "\n",
      "    \u001b[0m\u001b[37m@pytest\u001b[39;49;00m.mark.parametrize(\u001b[33m\"\u001b[39;49;00m\u001b[33mprice, discount\u001b[39;49;00m\u001b[33m\"\u001b[39;49;00m,\u001b[90m\u001b[39;49;00m\n",
      "                             [\u001b[90m\u001b[39;49;00m\n",
      "                                (\u001b[94m100\u001b[39;49;00m, \u001b[94m110\u001b[39;49;00m),\u001b[90m\u001b[39;49;00m\n",
      "                                (\u001b[94m100\u001b[39;49;00m, -\u001b[94m100\u001b[39;49;00m),\u001b[90m\u001b[39;49;00m\n",
      "                                (\u001b[94m100\u001b[39;49;00m, \u001b[94m0\u001b[39;49;00m),\u001b[90m\u001b[39;49;00m\n",
      "                                (\u001b[94m100\u001b[39;49;00m, \u001b[94m200\u001b[39;49;00m),\u001b[90m\u001b[39;49;00m\n",
      "                                 ])\u001b[90m\u001b[39;49;00m\n",
      "    \u001b[90m# Тест на случай, когда скидка превышает допустимый диапазон\u001b[39;49;00m\u001b[90m\u001b[39;49;00m\n",
      "    \u001b[94mdef\u001b[39;49;00m\u001b[90m \u001b[39;49;00m\u001b[92mtest_apply_discount_invalid\u001b[39;49;00m(price, discount):\u001b[90m\u001b[39;49;00m\n",
      ">       \u001b[94mwith\u001b[39;49;00m pytest.raises(\u001b[96mValueError\u001b[39;49;00m):\u001b[90m\u001b[39;49;00m\n",
      "\u001b[1m\u001b[31mE       Failed: DID NOT RAISE <class 'ValueError'>\u001b[0m\n",
      "\n",
      "\u001b[1m\u001b[31mtests\\test_n1.py\u001b[0m:30: Failed\n",
      "\u001b[36m\u001b[1m=========================== short test summary info ===========================\u001b[0m\n",
      "\u001b[31mFAILED\u001b[0m tests/test_n1.py::\u001b[1mtest_apply_discount_invalid[100-0]\u001b[0m - Failed: DID NOT RAISE <class 'ValueError'>\n",
      "\u001b[31m========================= \u001b[31m\u001b[1m1 failed\u001b[0m, \u001b[32m4 passed\u001b[0m\u001b[31m in 0.12s\u001b[0m\u001b[31m =========================\u001b[0m\n"
     ]
    }
   ],
   "source": [
    "!pytest -v"
   ]
  },
  {
   "cell_type": "markdown",
   "metadata": {},
   "source": [
    "Вообще, когда мы работаем с pytest, он сам находит те файлы которые нужно протестироватвать и выполняет их. Это называется автоматизацией тестирования кода(авто-тесты). Файлы которые он находит, это файлы с ПРЕФИКСОМ или ПОСТФИКСОМ `test`.\n",
    "\n",
    "Например: \n",
    "- `test_sum.py` - test -- ПРЕфикс\n",
    "- `test_mul.py`\n",
    "- `test1.py`\n",
    "- `1_test.py` - test -- ПОСТфикс\n",
    "и т.д."
   ]
  },
  {
   "cell_type": "markdown",
   "metadata": {},
   "source": [
    "Также для проверок лучше создавать конкретную папку с названием tests и проводить тесты непосредственно в ней, так как pytest будет искать файлы именно в этой папке. Это называется структурирование проекта. \n",
    "\n",
    "Для запуска проверки относительно какого либо пути, вы передаете их напрямую в запрос проверки pytest"
   ]
  },
  {
   "cell_type": "code",
   "execution_count": 6,
   "metadata": {},
   "outputs": [
    {
     "name": "stdout",
     "output_type": "stream",
     "text": [
      "\u001b[1m============================= test session starts =============================\u001b[0m\n",
      "platform win32 -- Python 3.11.9, pytest-8.3.4, pluggy-1.5.0 -- C:\\Users\\NatalkaNerealka\\AppData\\Local\\pypoetry\\Cache\\virtualenvs\\qatests-b4kNs0Zg-py3.11\\Scripts\\python.exe\n",
      "cachedir: .pytest_cache\n",
      "rootdir: c:\\Projects\\Lessons\\Ksenia05-08-2024\\QATests\n",
      "configfile: pyproject.toml\n",
      "\u001b[1mcollecting ... \u001b[0mcollected 5 items\n",
      "\n",
      "tests/test_1.py::test_multiply \u001b[32mPASSED\u001b[0m\u001b[32m                                    [ 20%]\u001b[0m\n",
      "tests/test_n1.py::test_apply_discount_invalid[100-110] \u001b[32mPASSED\u001b[0m\u001b[32m            [ 40%]\u001b[0m\n",
      "tests/test_n1.py::test_apply_discount_invalid[100--100] \u001b[32mPASSED\u001b[0m\u001b[32m           [ 60%]\u001b[0m\n",
      "tests/test_n1.py::test_apply_discount_invalid[100-0] \u001b[31mFAILED\u001b[0m\u001b[31m              [ 80%]\u001b[0m\n",
      "tests/test_n1.py::test_apply_discount_invalid[100-200] \u001b[32mPASSED\u001b[0m\u001b[31m            [100%]\u001b[0m\n",
      "\n",
      "================================== FAILURES ===================================\n",
      "\u001b[31m\u001b[1m_____________________ test_apply_discount_invalid[100-0] ______________________\u001b[0m\n",
      "\n",
      "price = 100, discount = 0\n",
      "\n",
      "    \u001b[0m\u001b[37m@pytest\u001b[39;49;00m.mark.parametrize(\u001b[33m\"\u001b[39;49;00m\u001b[33mprice, discount\u001b[39;49;00m\u001b[33m\"\u001b[39;49;00m,\u001b[90m\u001b[39;49;00m\n",
      "                             [\u001b[90m\u001b[39;49;00m\n",
      "                                (\u001b[94m100\u001b[39;49;00m, \u001b[94m110\u001b[39;49;00m),\u001b[90m\u001b[39;49;00m\n",
      "                                (\u001b[94m100\u001b[39;49;00m, -\u001b[94m100\u001b[39;49;00m),\u001b[90m\u001b[39;49;00m\n",
      "                                (\u001b[94m100\u001b[39;49;00m, \u001b[94m0\u001b[39;49;00m),\u001b[90m\u001b[39;49;00m\n",
      "                                (\u001b[94m100\u001b[39;49;00m, \u001b[94m200\u001b[39;49;00m),\u001b[90m\u001b[39;49;00m\n",
      "                                 ])\u001b[90m\u001b[39;49;00m\n",
      "    \u001b[90m# Тест на случай, когда скидка превышает допустимый диапазон\u001b[39;49;00m\u001b[90m\u001b[39;49;00m\n",
      "    \u001b[94mdef\u001b[39;49;00m\u001b[90m \u001b[39;49;00m\u001b[92mtest_apply_discount_invalid\u001b[39;49;00m(price, discount):\u001b[90m\u001b[39;49;00m\n",
      ">       \u001b[94mwith\u001b[39;49;00m pytest.raises(\u001b[96mValueError\u001b[39;49;00m):\u001b[90m\u001b[39;49;00m\n",
      "\u001b[1m\u001b[31mE       Failed: DID NOT RAISE <class 'ValueError'>\u001b[0m\n",
      "\n",
      "\u001b[1m\u001b[31mtests\\test_n1.py\u001b[0m:30: Failed\n",
      "\u001b[36m\u001b[1m=========================== short test summary info ===========================\u001b[0m\n",
      "\u001b[31mFAILED\u001b[0m tests/test_n1.py::\u001b[1mtest_apply_discount_invalid[100-0]\u001b[0m - Failed: DID NOT RAISE <class 'ValueError'>\n",
      "\u001b[31m========================= \u001b[31m\u001b[1m1 failed\u001b[0m, \u001b[32m4 passed\u001b[0m\u001b[31m in 0.10s\u001b[0m\u001b[31m =========================\u001b[0m\n",
      "\u001b[1m============================= test session starts =============================\u001b[0m\n",
      "platform win32 -- Python 3.11.9, pytest-8.3.4, pluggy-1.5.0 -- C:\\Users\\NatalkaNerealka\\AppData\\Local\\pypoetry\\Cache\\virtualenvs\\qatests-b4kNs0Zg-py3.11\\Scripts\\python.exe\n",
      "cachedir: .pytest_cache\n",
      "rootdir: c:\\Projects\\Lessons\\Ksenia05-08-2024\\QATests\n",
      "configfile: pyproject.toml\n",
      "\u001b[1mcollecting ... \u001b[0mcollected 4 items\n",
      "\n",
      "tests/test_n1.py::test_apply_discount_invalid[100-110] \u001b[32mPASSED\u001b[0m\u001b[32m            [ 25%]\u001b[0m\n",
      "tests/test_n1.py::test_apply_discount_invalid[100--100] \u001b[32mPASSED\u001b[0m\u001b[32m           [ 50%]\u001b[0m\n",
      "tests/test_n1.py::test_apply_discount_invalid[100-0] \u001b[31mFAILED\u001b[0m\u001b[31m              [ 75%]\u001b[0m\n",
      "tests/test_n1.py::test_apply_discount_invalid[100-200] \u001b[32mPASSED\u001b[0m\u001b[31m            [100%]\u001b[0m\n",
      "\n",
      "================================== FAILURES ===================================\n",
      "\u001b[31m\u001b[1m_____________________ test_apply_discount_invalid[100-0] ______________________\u001b[0m\n",
      "\n",
      "price = 100, discount = 0\n",
      "\n",
      "    \u001b[0m\u001b[37m@pytest\u001b[39;49;00m.mark.parametrize(\u001b[33m\"\u001b[39;49;00m\u001b[33mprice, discount\u001b[39;49;00m\u001b[33m\"\u001b[39;49;00m,\u001b[90m\u001b[39;49;00m\n",
      "                             [\u001b[90m\u001b[39;49;00m\n",
      "                                (\u001b[94m100\u001b[39;49;00m, \u001b[94m110\u001b[39;49;00m),\u001b[90m\u001b[39;49;00m\n",
      "                                (\u001b[94m100\u001b[39;49;00m, -\u001b[94m100\u001b[39;49;00m),\u001b[90m\u001b[39;49;00m\n",
      "                                (\u001b[94m100\u001b[39;49;00m, \u001b[94m0\u001b[39;49;00m),\u001b[90m\u001b[39;49;00m\n",
      "                                (\u001b[94m100\u001b[39;49;00m, \u001b[94m200\u001b[39;49;00m),\u001b[90m\u001b[39;49;00m\n",
      "                                 ])\u001b[90m\u001b[39;49;00m\n",
      "    \u001b[90m# Тест на случай, когда скидка превышает допустимый диапазон\u001b[39;49;00m\u001b[90m\u001b[39;49;00m\n",
      "    \u001b[94mdef\u001b[39;49;00m\u001b[90m \u001b[39;49;00m\u001b[92mtest_apply_discount_invalid\u001b[39;49;00m(price, discount):\u001b[90m\u001b[39;49;00m\n",
      ">       \u001b[94mwith\u001b[39;49;00m pytest.raises(\u001b[96mValueError\u001b[39;49;00m):\u001b[90m\u001b[39;49;00m\n",
      "\u001b[1m\u001b[31mE       Failed: DID NOT RAISE <class 'ValueError'>\u001b[0m\n",
      "\n",
      "\u001b[1m\u001b[31mtests\\test_n1.py\u001b[0m:30: Failed\n",
      "\u001b[36m\u001b[1m=========================== short test summary info ===========================\u001b[0m\n",
      "\u001b[31mFAILED\u001b[0m tests/test_n1.py::\u001b[1mtest_apply_discount_invalid[100-0]\u001b[0m - Failed: DID NOT RAISE <class 'ValueError'>\n",
      "\u001b[31m========================= \u001b[31m\u001b[1m1 failed\u001b[0m, \u001b[32m3 passed\u001b[0m\u001b[31m in 0.12s\u001b[0m\u001b[31m =========================\u001b[0m\n"
     ]
    }
   ],
   "source": [
    "# Если нужно проверить все тесты в папке\n",
    "!pytest -v tests\n",
    "# Если нужно проверить конкретный файл\n",
    "!pytest -v tests/test_n1.py\n"
   ]
  },
  {
   "cell_type": "markdown",
   "metadata": {},
   "source": [
    "Все тесты которые мы проводим, должны содержать в теле функции конструкцию `assert *условие*`\n",
    "\n",
    "`assert` - это конструкция для проверки того, что условие истинно, если это не так то будет выброшено исключение(ошибка) AssertionError\n",
    "\n"
   ]
  },
  {
   "cell_type": "code",
   "execution_count": null,
   "metadata": {},
   "outputs": [],
   "source": [
    "# -- данные из tests/test_1.py\n",
    "\n",
    "def div(a,b):\n",
    "    return a / b\n",
    "\n",
    "def test_multiply():\n",
    "    assert div(4,2) == 2\n",
    "    # assert div(4,3) == 2\n",
    "    # assert div(4,0)"
   ]
  },
  {
   "cell_type": "code",
   "execution_count": 7,
   "metadata": {},
   "outputs": [
    {
     "name": "stdout",
     "output_type": "stream",
     "text": [
      "\u001b[1m============================= test session starts =============================\u001b[0m\n",
      "platform win32 -- Python 3.11.9, pytest-8.3.4, pluggy-1.5.0 -- C:\\Users\\NatalkaNerealka\\AppData\\Local\\pypoetry\\Cache\\virtualenvs\\qatests-b4kNs0Zg-py3.11\\Scripts\\python.exe\n",
      "cachedir: .pytest_cache\n",
      "rootdir: c:\\Projects\\Lessons\\Ksenia05-08-2024\\QATests\n",
      "configfile: pyproject.toml\n",
      "\u001b[1mcollecting ... \u001b[0mcollected 1 item\n",
      "\n",
      "tests/test_1.py::test_multiply \u001b[32mPASSED\u001b[0m\u001b[32m                                    [100%]\u001b[0m\n",
      "\n",
      "\u001b[32m============================== \u001b[32m\u001b[1m1 passed\u001b[0m\u001b[32m in 0.01s\u001b[0m\u001b[32m ==============================\u001b[0m\n"
     ]
    }
   ],
   "source": [
    "!pytest -v tests/test_1.py"
   ]
  },
  {
   "cell_type": "markdown",
   "metadata": {},
   "source": [
    "# Тесты на параметрах (paramatrize)"
   ]
  },
  {
   "cell_type": "markdown",
   "metadata": {},
   "source": [
    "parametrize - это функция которая принимает список параметров и возвращает список кортежей. Каждый кортеж представляет собой набор параметров для теста функции.\n",
    "\n",
    "Сама функция находтися внутри функции пакета pytest.mark\n",
    "\n",
    "Пример записи:\n"
   ]
  },
  {
   "cell_type": "code",
   "execution_count": null,
   "metadata": {},
   "outputs": [],
   "source": [
    "import pytest\n",
    "\n",
    "@pytest.mark.parametrize('param1, param2', [(1, 2), (3, 4)])\n",
    "def test_parametrize(param1, param2):\n",
    "    assert param1 + param2 == 5\n"
   ]
  },
  {
   "cell_type": "markdown",
   "metadata": {},
   "source": [
    "## Проверка на ошибку\n",
    "\n",
    "Есть специальная конструкция внутри pytest которая позволяет нам проверять код на ожидаемое исключение.\n",
    "Эта конструкция использует контекстный менеджер и специальную из pytest - `raises` "
   ]
  },
  {
   "cell_type": "code",
   "execution_count": null,
   "metadata": {},
   "outputs": [],
   "source": [
    "def func(x):\n",
    "    if x < 0:\n",
    "        raise ValueError(\"x must be non-negative\")\n",
    "    return x**2\n",
    "\n",
    "@pytest.mark.parametrize('x', [1, -1])\n",
    "def test_func(x):\n",
    "    with pytest.raises(ValueError) as excinfo:# также мы можем передать информацию об исключении в контекстную переменную (та что идет после as)\n",
    "        func(x)\n",
    "    assert str(excinfo.value) == \"x must be non-negative\""
   ]
  },
  {
   "cell_type": "markdown",
   "metadata": {},
   "source": [
    "У нас уже есть готовая функция для проверки, и находится она в test_n1.py. Давайте попробуем запустить его.\n"
   ]
  },
  {
   "cell_type": "code",
   "execution_count": 8,
   "metadata": {},
   "outputs": [
    {
     "name": "stdout",
     "output_type": "stream",
     "text": [
      "\u001b[1m============================= test session starts =============================\u001b[0m\n",
      "platform win32 -- Python 3.11.9, pytest-8.3.4, pluggy-1.5.0\n",
      "rootdir: c:\\Projects\\Lessons\\Ksenia05-08-2024\\QATests\n",
      "configfile: pyproject.toml\n",
      "collected 4 items\n",
      "\n",
      "tests\\test_n1.py \u001b[32m.\u001b[0m\u001b[32m.\u001b[0m\u001b[31mF\u001b[0m\u001b[32m.\u001b[0m\u001b[31m                                                    [100%]\u001b[0m\n",
      "\n",
      "================================== FAILURES ===================================\n",
      "\u001b[31m\u001b[1m_____________________ test_apply_discount_invalid[100-0] ______________________\u001b[0m\n",
      "\n",
      "price = 100, discount = 0\n",
      "\n",
      "    \u001b[0m\u001b[37m@pytest\u001b[39;49;00m.mark.parametrize(\u001b[33m\"\u001b[39;49;00m\u001b[33mprice, discount\u001b[39;49;00m\u001b[33m\"\u001b[39;49;00m,\u001b[90m\u001b[39;49;00m\n",
      "                             [\u001b[90m\u001b[39;49;00m\n",
      "                                (\u001b[94m100\u001b[39;49;00m, \u001b[94m110\u001b[39;49;00m),\u001b[90m\u001b[39;49;00m\n",
      "                                (\u001b[94m100\u001b[39;49;00m, -\u001b[94m100\u001b[39;49;00m),\u001b[90m\u001b[39;49;00m\n",
      "                                (\u001b[94m100\u001b[39;49;00m, \u001b[94m0\u001b[39;49;00m),\u001b[90m\u001b[39;49;00m\n",
      "                                (\u001b[94m100\u001b[39;49;00m, \u001b[94m200\u001b[39;49;00m),\u001b[90m\u001b[39;49;00m\n",
      "                                 ])\u001b[90m\u001b[39;49;00m\n",
      "    \u001b[90m# Тест на случай, когда скидка превышает допустимый диапазон\u001b[39;49;00m\u001b[90m\u001b[39;49;00m\n",
      "    \u001b[94mdef\u001b[39;49;00m\u001b[90m \u001b[39;49;00m\u001b[92mtest_apply_discount_invalid\u001b[39;49;00m(price, discount):\u001b[90m\u001b[39;49;00m\n",
      ">       \u001b[94mwith\u001b[39;49;00m pytest.raises(\u001b[96mValueError\u001b[39;49;00m):\u001b[90m\u001b[39;49;00m\n",
      "\u001b[1m\u001b[31mE       Failed: DID NOT RAISE <class 'ValueError'>\u001b[0m\n",
      "\n",
      "\u001b[1m\u001b[31mtests\\test_n1.py\u001b[0m:30: Failed\n",
      "\u001b[36m\u001b[1m=========================== short test summary info ===========================\u001b[0m\n",
      "\u001b[31mFAILED\u001b[0m tests/test_n1.py::\u001b[1mtest_apply_discount_invalid[100-0]\u001b[0m - Failed: DID NOT RAISE <class 'ValueError'>\n",
      "\u001b[31m========================= \u001b[31m\u001b[1m1 failed\u001b[0m, \u001b[32m3 passed\u001b[0m\u001b[31m in 0.10s\u001b[0m\u001b[31m =========================\u001b[0m\n"
     ]
    }
   ],
   "source": [
    "!pytest tests/test_n1.py"
   ]
  },
  {
   "cell_type": "markdown",
   "metadata": {},
   "source": [
    "# Фикстуры\n",
    "\n",
    "Что такое фикстуры и зачем они нужны ?\n",
    "\n",
    "Фикстура это конструкция внутри pytest которая позволяет задавать какую либо постоянную переменную в отношении всего текстового кейса"
   ]
  },
  {
   "cell_type": "markdown",
   "metadata": {},
   "source": [
    "Каждая фикстура которая создается, по умолчанию, работает локально под каждый блок теста(функцию-тест). То есть, для функции test_user_creation например, фикстура будет создана только отнсительно этой функции, и для каждой последующей это правило работает одинакого.\n",
    "\n",
    "\n",
    "Связано это с тем что у фикстуры по умолчанию выставлено свойство scope которое отвечает за область в которой она будет действовать. По умолчанию scope имеет значение function, что означает что фикстура будет действовать только для текущего тестового блока\n"
   ]
  },
  {
   "cell_type": "code",
   "execution_count": null,
   "metadata": {},
   "outputs": [],
   "source": [
    "import pytest\n",
    "\n",
    "class User:\n",
    "    def __init__(self, username, password):\n",
    "        self.username = username\n",
    "        self.password = password\n",
    "\n",
    "@pytest.fixture\n",
    "def user():\n",
    "    \"\"\"Фикстура для создания пользователя.\"\"\"\n",
    "    return User(\n",
    "        username=\"testuser\", \n",
    "        password=\"password123\"\n",
    "        )\n",
    "\n",
    "def test_user_creation(user):\n",
    "    assert user.username == \"testuser\"\n",
    "    assert user.password == \"password123\"\n",
    "\n",
    "def test_user_password_change(user): # тут фикстура user создается по новой т.е. username=\"testuser\" и password=\"password123\"\n",
    "    user.password = 'newpassword456'\n",
    "    assert user.password == 'newpassword456'\n",
    "\n",
    "def test_user_after_change_pass(user): # и тут фикстура user создается по новой т.е. username=\"testuser\" и password=\"password123\". Поэтому изменения прошлого блока не работают\n",
    "    assert user.password == \"newpassword456\"\n"
   ]
  },
  {
   "cell_type": "markdown",
   "metadata": {},
   "source": [
    "Но если, мы для нашей fixture указываем конкретную \"область существования\"-`scope` то наша фикстура будет создана единожды отнсительно той области которую мы укажем.\n",
    "\n",
    "Какие они бывают.\n",
    "- 'function' - фикстура создается для каждого блока тестов, что означает что она будет пересоздаваться каждый раз при запуске функции-теста.\n",
    "- 'class' - фикстура создается для каждого класса тестов, и будет работать только относительно класса в котором она была создана.\n",
    "- 'module' - фикстура создается для всего модуля-теста(тестового файла), что означает что она будет создана только один раз при запуске теста.\n",
    "- 'package' - фикстура создается для всего пакета тестов(например папке с тестами `/tests`). Например если мы указываем `pytest -v tests` то когда мы доходим до конкретного файла в котором создается эта фикстура, эта фикстура будет работать для каждого файла тестов, поэтому лучше создавать в самом начале тестовой папки файл с фикстурами который будет проигран первым.\n",
    "- 'session' - фикстура создается для всей сесси теста. То есть для всей pytest проверки с момента чтения того файла в котором эта фикстура находитя \n"
   ]
  },
  {
   "cell_type": "code",
   "execution_count": null,
   "metadata": {},
   "outputs": [],
   "source": [
    "@pytest.fixture(scope='module') # настройка фикстуры отнсительно модуля\n",
    "def user():\n",
    "    \"\"\"Фикстура для создания пользователя.\"\"\"\n",
    "    return User(\n",
    "        username=\"testuser\", \n",
    "        password=\"password123\"\n",
    "        )\n"
   ]
  },
  {
   "cell_type": "markdown",
   "metadata": {},
   "source": [
    "# Пропускаем тесты которые нам не понадобятся\n",
    "\n",
    "Если существуют такие тесты которые на разных системах, работают по разному, в силу особенностей допустим операционных систем, то такие кейсы мы можем пропускать. Это можно сделать с помощью декоратора @pytest.mark.skipif при определенных условиях"
   ]
  },
  {
   "cell_type": "code",
   "execution_count": null,
   "metadata": {},
   "outputs": [],
   "source": [
    "import platform\n",
    "import pytest\n",
    "import sys\n",
    "\n",
    "def some_cross_platform_function():\n",
    "    return \"Success\"\n",
    "\n",
    "def some_linux_function():\n",
    "    if 'linux' in platform.architecture()[1].lower():\n",
    "        return \"Linux\"\n",
    "    else:\n",
    "        return \"Windows\"\n",
    "\n",
    "@pytest.mark.skipif('linux' not in platform.architecture()[1].lower(), \n",
    "                    reason=\"Тест не поддерживается на Windows\")\n",
    "def test_linux_only_functionality():\n",
    "    assert some_linux_function() == \"Linux\"\n",
    "\n",
    "@pytest.mark.skip(reason='Пока не хочу выполнять')\n",
    "def test_cross_platform_functionality():\n",
    "    assert some_cross_platform_function() == \"Success\"\n",
    "\n",
    "print(platform.architecture())\n",
    "print(some_linux_function())\n"
   ]
  },
  {
   "cell_type": "markdown",
   "metadata": {},
   "source": [
    "Если у нас есть тест, который мы хотим пропускать, без какой либо причины, то мы можем испольовать @pytest.mark.skip. В этом случае указывать причину пропуска не обязательно. В отличии от skipif, т.к. если мы пропускаем какой то блок теста, по какой то причине(условие) мы должны её не только указать но и описать причину"
   ]
  },
  {
   "cell_type": "code",
   "execution_count": 1,
   "metadata": {},
   "outputs": [
    {
     "ename": "NameError",
     "evalue": "name 'pytest' is not defined",
     "output_type": "error",
     "traceback": [
      "\u001b[1;31m---------------------------------------------------------------------------\u001b[0m",
      "\u001b[1;31mNameError\u001b[0m                                 Traceback (most recent call last)",
      "Cell \u001b[1;32mIn[1], line 1\u001b[0m\n\u001b[1;32m----> 1\u001b[0m \u001b[38;5;129m@pytest\u001b[39m\u001b[38;5;241m.\u001b[39mmark\u001b[38;5;241m.\u001b[39mskip(reason\u001b[38;5;241m=\u001b[39m\u001b[38;5;124m'\u001b[39m\u001b[38;5;124mПока не хочу выполнять\u001b[39m\u001b[38;5;124m'\u001b[39m)\n\u001b[0;32m      2\u001b[0m \u001b[38;5;28;01mdef\u001b[39;00m\u001b[38;5;250m \u001b[39m\u001b[38;5;21mtest_cross_platform_functionality\u001b[39m():\n\u001b[0;32m      3\u001b[0m     \u001b[38;5;28;01massert\u001b[39;00m some_cross_platform_function() \u001b[38;5;241m==\u001b[39m \u001b[38;5;124m\"\u001b[39m\u001b[38;5;124mSuccess\u001b[39m\u001b[38;5;124m\"\u001b[39m\n",
      "\u001b[1;31mNameError\u001b[0m: name 'pytest' is not defined"
     ]
    }
   ],
   "source": [
    "\n",
    "@pytest.mark.skip(reason='Пока не хочу выполнять')\n",
    "def test_cross_platform_functionality():\n",
    "    assert some_cross_platform_function() == \"Success\""
   ]
  },
  {
   "cell_type": "markdown",
   "metadata": {},
   "source": []
  }
 ],
 "metadata": {
  "kernelspec": {
   "display_name": "qatests-b4kNs0Zg-py3.11",
   "language": "python",
   "name": "python3"
  },
  "language_info": {
   "codemirror_mode": {
    "name": "ipython",
    "version": 3
   },
   "file_extension": ".py",
   "mimetype": "text/x-python",
   "name": "python",
   "nbconvert_exporter": "python",
   "pygments_lexer": "ipython3",
   "version": "3.11.9"
  }
 },
 "nbformat": 4,
 "nbformat_minor": 2
}
