{
 "cells": [
  {
   "cell_type": "markdown",
   "metadata": {},
   "source": [
    "# Работа с базой данных"
   ]
  },
  {
   "cell_type": "markdown",
   "metadata": {},
   "source": [
    "- Сессии и фабрики сессий: как управлять сессиями для взаимодействия с базой данных и как применять их через декораторы.\n",
    "\n",
    "- Добавление данных в таблицы: разберём безопасные методы добавления записей с использованием ORM. Также обсудим метод flush и разницу между ним и commit.\n",
    "\n",
    "- Извлечение данных из таблиц: большой блок, в котором научимся извлекать данные через select, используя фильтры (например, where, filter, filter_by). Также обсудим работу с «грязными» данными и преобразование объектов SQLAlchemy в удобные словари Python с помощью Pydantic. В этом блоке разберём и методы SQLAlchemy, такие как scalar, scalars, scalar_one_or_none, all и другие."
   ]
  },
  {
   "cell_type": "markdown",
   "metadata": {},
   "source": [
    "# Что такое сессия?\n",
    "Сессия в SQLAlchemy — это основной инструмент для взаимодействия с базой данных. Представьте её как рабочую область, где происходят все операции: добавление, удаление, извлечение, обновление данных. Все запросы к базе данных выполняются через сессию, без неё никакие операции невозможны.\n",
    "\n",
    "Сессия управляет транзакциями и следит за состоянием объектов, с которыми вы работаете. Она не устанавливает прямого соединения с базой, а абстрагирует этот процесс. Все изменения отправляются в базу данных через метод commit(). В случае ошибки их можно отменить с помощью rollback()."
   ]
  },
  {
   "cell_type": "markdown",
   "metadata": {},
   "source": [
    "# Фабрика сессий\n",
    "Фабрика сессий — это специальная функция для создания новых сессий по мере необходимости. В SQLAlchemy это реализуется с помощью sessionmaker(). Этот объект создаёт сессии, которые можно использовать для работы с базой данных."
   ]
  },
  {
   "cell_type": "markdown",
   "metadata": {},
   "source": [
    "async"
   ]
  },
  {
   "cell_type": "code",
   "execution_count": null,
   "metadata": {},
   "outputs": [],
   "source": [
    "from sqlalchemy.ext.asyncio import AsyncAttrs, async_sessionmaker, create_async_engine\n",
    "from sqlalchemy.orm import DeclarativeBase\n",
    "from settings.database import DATABASE_URL\n",
    "\n",
    "\n",
    "\n",
    "DATABASE_URL = settings.get_async_db_url() # тут выбрать свой способ связки с БД\n",
    "\n",
    "engine = create_async_engine(url = DATABASE_URL)\n",
    "session_maker = async_sessionmaker(engine, expire_on_commit=False)\n",
    "\n",
    "class Base(AsyncAttrs, DeclarativeBase):\n",
    "    __abstract__ = True # Чтобы не создавалась отдельная таблица для этого класса"
   ]
  },
  {
   "cell_type": "markdown",
   "metadata": {},
   "source": [
    "sync"
   ]
  },
  {
   "cell_type": "code",
   "execution_count": 2,
   "metadata": {},
   "outputs": [
    {
     "ename": "ModuleNotFoundError",
     "evalue": "No module named 'settings'",
     "output_type": "error",
     "traceback": [
      "\u001b[31m---------------------------------------------------------------------------\u001b[39m",
      "\u001b[31mModuleNotFoundError\u001b[39m                       Traceback (most recent call last)",
      "\u001b[36mCell\u001b[39m\u001b[36m \u001b[39m\u001b[32mIn[2]\u001b[39m\u001b[32m, line 3\u001b[39m\n\u001b[32m      1\u001b[39m \u001b[38;5;28;01mfrom\u001b[39;00m\u001b[38;5;250m \u001b[39m\u001b[34;01msqlalchemy\u001b[39;00m\u001b[38;5;250m \u001b[39m\u001b[38;5;28;01mimport\u001b[39;00m create_engine\n\u001b[32m      2\u001b[39m \u001b[38;5;28;01mfrom\u001b[39;00m\u001b[38;5;250m \u001b[39m\u001b[34;01msqlalchemy\u001b[39;00m\u001b[34;01m.\u001b[39;00m\u001b[34;01morm\u001b[39;00m\u001b[38;5;250m \u001b[39m\u001b[38;5;28;01mimport\u001b[39;00m DeclarativeBase, sessionmaker\n\u001b[32m----> \u001b[39m\u001b[32m3\u001b[39m \u001b[38;5;28;01mfrom\u001b[39;00m\u001b[38;5;250m \u001b[39m\u001b[34;01msettings\u001b[39;00m\u001b[34;01m.\u001b[39;00m\u001b[34;01mdatabase\u001b[39;00m\u001b[38;5;250m \u001b[39m\u001b[38;5;28;01mimport\u001b[39;00m DATABASE_URL\n\u001b[32m      6\u001b[39m engine = create_engine(url = DATABASE_URL)\n\u001b[32m      7\u001b[39m session_maker = sessionmaker(engine, expire_on_commit=\u001b[38;5;28;01mFalse\u001b[39;00m)\n",
      "\u001b[31mModuleNotFoundError\u001b[39m: No module named 'settings'"
     ]
    }
   ],
   "source": [
    "from sqlalchemy import create_engine\n",
    "from sqlalchemy.orm import DeclarativeBase, sessionmaker\n",
    "from settings.database import DATABASE_URL\n",
    "\n",
    "\n",
    "engine = create_engine(url = DATABASE_URL)\n",
    "session_maker = sessionmaker(engine, expire_on_commit=False)\n",
    "\n",
    "class Base(DeclarativeBase):\n",
    "    __abstract__ = True # Чтобы не создавалась отдельная таблица для этого класса"
   ]
  },
  {
   "cell_type": "markdown",
   "metadata": {},
   "source": [
    "# Создание декоратора\n",
    "для работы с сессией по мере необходимости"
   ]
  },
  {
   "cell_type": "markdown",
   "metadata": {},
   "source": [
    "То есть, для того чтоб начать взаимодействовать с базой данных (например для получения или добавления туда информации) нам всегда необходимо быть в рамках сессии. Вопрос только в том какое количество операций вы будете выполнять в рамках одной такой сессии, до ее закрытия.\n",
    "\n",
    "Основные подходы к управлению сессиями:\n",
    "Открытие сессии на каждое действие: для каждого действия с базой данных создаётся новая сессия. Этот подход эффективен для небольших проектов, но на крупных проектах он может привести к дополнительным накладным расходам.\n",
    "\n",
    "Открытие сессии на весь блок операций: сессия создаётся один раз перед серией операций и закрывается по завершению всех действий. Это позволяет объединить несколько запросов в одну сессию, что экономит ресурсы и повышает производительность."
   ]
  },
  {
   "cell_type": "code",
   "execution_count": null,
   "metadata": {},
   "outputs": [],
   "source": [
    "# sync\n",
    "session_maker = sessionmaker(bind=engine)\n",
    "\n",
    "def connection(method):\n",
    "    def wrapper(*args, **kwargs):\n",
    "        with session_maker() as session:\n",
    "            try:\n",
    "                return method(*args, session = session, **kwargs)\n",
    "            except Exception as e:\n",
    "                session.rollback()\n",
    "                raise e\n",
    "            finally:\n",
    "                session.close()\n",
    "    return wrapper\n",
    "    \n"
   ]
  },
  {
   "cell_type": "code",
   "execution_count": null,
   "metadata": {},
   "outputs": [],
   "source": [
    "# async\n",
    "session_maker = async_sessionmaker(engine)\n",
    "\n",
    "# ...\n",
    "\n",
    "def connection(method):\n",
    "    async def wrapper(*args, **kwargs):\n",
    "        async with session_maker() as session:\n",
    "            try:\n",
    "                return await method(*args, session = session, **kwargs)\n",
    "            except Exception as e:\n",
    "                await session.rollback()\n",
    "                raise e\n",
    "            finally:\n",
    "                await session.close()\n",
    "    return wrapper\n"
   ]
  },
  {
   "cell_type": "markdown",
   "metadata": {},
   "source": [
    "Как работает этот декоратор:\n",
    "\n",
    "connection принимает исходную функцию для обёртки.\n",
    "\n",
    "wrapper — это функция-обёртка, которая принимает все аргументы исходной функции.\n",
    "\n",
    "async with async_session_maker() автоматически создаёт и закрывает сессию в асинхронном режиме, освобождая вас от необходимости управлять сессией вручную.\n",
    "\n",
    "Сессия передаётся в исходную функцию через аргумент session.\n",
    "\n",
    "В случае ошибки выполняется откат транзакции через rollback(), а затем сессия закрывается."
   ]
  },
  {
   "cell_type": "markdown",
   "metadata": {},
   "source": [
    "Исравим функцию добавления пользователя в базу, так чтобы при его создании у нас создавался сразу профиль этого пользователя."
   ]
  },
  {
   "cell_type": "code",
   "execution_count": null,
   "metadata": {},
   "outputs": [],
   "source": [
    "class User(Base):\n",
    "    \n",
    "    ...\n",
    "    \n",
    "    @classmethod\n",
    "    @connection\n",
    "    def create_user(cls, \n",
    "                    username: str, \n",
    "                    email: str, \n",
    "                    password: str,\n",
    "                    gender: GenderEnum,\n",
    "                    name: str = None,\n",
    "                    surname: str = None,\n",
    "                    age: int = None,\n",
    "                    profession: ProfessionEnum = ProfessionEnum.UNEMPLOYED,\n",
    "                    interests: list[str] = [],\n",
    "                    contacts: dict = {},\n",
    "                    session: Session = None) -> dict[str, int]:\n",
    "        \"\"\"Этот метод создает нового пользователя в базе данных.\n",
    "\n",
    "        Args:\n",
    "            username (str): имя пользователя\n",
    "            email (str): электронная почта пользователя\n",
    "            password (str): пароль пользователя\n",
    "            session (Session, optional): db session. Defaults to None.\n",
    "\n",
    "        Returns:\n",
    "            User: новый созданный пользователь\n",
    "\n",
    "        \"\"\"\n",
    "        \n",
    "        hash_pw = bcrypt.hashpw(password.encode('utf-8'), bcrypt.gensalt())\n",
    "        new_user = User(username=username, email=email, password=str(hash_pw)[2:-1])\n",
    "        session.add(new_user)\n",
    "        session.commit()\n",
    "        # Продолжится работа но со смежными таблицами Profile\n",
    "        \n",
    "        profile = Profile(\n",
    "            user_id = new_user.id,\n",
    "            name=name if name else username,\n",
    "            surname=surname,\n",
    "            age=age,\n",
    "            gender=gender,\n",
    "            profession=profession,\n",
    "            interests=interests,\n",
    "            contacts=contacts,\n",
    "        )\n",
    "        session.add(profile)\n",
    "        session.commit()\n",
    "        print(f'Создан пользователь с ID {new_user.id}и ему присвоен профиль с ID {profile.id}')\n",
    "\n",
    "        return {'user_id': new_user.id, 'profile_id': profile.id}\n",
    "\n",
    "\n",
    "        "
   ]
  },
  {
   "cell_type": "markdown",
   "metadata": {},
   "source": [
    "Чуть оптимизируем его"
   ]
  },
  {
   "cell_type": "code",
   "execution_count": null,
   "metadata": {},
   "outputs": [],
   "source": [
    "\n",
    "    @classmethod\n",
    "    @connection\n",
    "    def create_user(cls, \n",
    "                    username: str, \n",
    "                    email: str, \n",
    "                    password: str,\n",
    "                    gender: GenderEnum,\n",
    "                    name: str = None,\n",
    "                    surname: str = None,\n",
    "                    age: int = None,\n",
    "                    profession: ProfessionEnum = ProfessionEnum.UNEMPLOYED,\n",
    "                    interests: list[str] = [],\n",
    "                    contacts: dict = {},\n",
    "                    session: Session = None) -> dict[str, int]:\n",
    "        \"\"\"Этот метод создает нового пользователя в базе данных.\n",
    "\n",
    "        Args:\n",
    "            username (str): имя пользователя\n",
    "            email (str): электронная почта пользователя\n",
    "            password (str): пароль пользователя\n",
    "            session (Session, optional): db session. Defaults to None.\n",
    "\n",
    "        Returns:\n",
    "            User: новый созданный пользователь\n",
    "\n",
    "        \"\"\"\n",
    "        \n",
    "        hash_pw = bcrypt.hashpw(password.encode('utf-8'), bcrypt.gensalt())\n",
    "        new_user = User(username=username, email=email, password=str(hash_pw)[2:-1])\n",
    "    \n",
    "        session.add(new_user)\n",
    "        session.flush() # Промежуточный шаг для получения user.id без коммита\n",
    "    \n",
    "        profile = Profile(\n",
    "            user_id = new_user.id,\n",
    "            name=name if name else username,\n",
    "            surname=surname,\n",
    "            age=age,\n",
    "            gender=gender,\n",
    "            profession=profession,\n",
    "            interests=interests,\n",
    "            contacts=contacts,\n",
    "        )\n",
    "    \n",
    "        session.add(profile)\n",
    "        session.commit()\n",
    "        print(f'Создан пользователь с ID {new_user.id}и ему присвоен профиль с ID {profile.id}')\n",
    "\n",
    "        return {'user_id': new_user.id, 'profile_id': profile.id}\n",
    "\n",
    "\n",
    "        "
   ]
  },
  {
   "cell_type": "markdown",
   "metadata": {},
   "source": [
    "- flush в SQLAlchemy отправляет изменения в базу данных без их окончательной фиксации, то есть без выполнения коммита. Это полезно, когда нужно сгенерировать данные, такие как идентификаторы (например, user.id), чтобы использовать их до фактического сохранения данных в базе. При этом сама транзакция остаётся открытой, и окончательное сохранение происходит позже, при вызове commit."
   ]
  },
  {
   "cell_type": "markdown",
   "metadata": {},
   "source": [
    "Почему это более оптимально:\n",
    "- Работа с промежуточными данными: flush позволяет работать с данными, которые ещё не записаны в базу окончательно, но уже доступны для использования. Например, после создания пользователя вы можете получить его user.id и использовать его для добавления профиля, не выполняя коммит между этими операциями.\n",
    "\n",
    "- Сокращение количества транзакций: Используя flush, мы избегаем нескольких коммитов. Это снижает нагрузку на базу данных, так как все изменения будут зафиксированы одним коммитом в конце транзакции. Таким образом, база данных фиксирует изменения только один раз, что ускоряет выполнение операций."
   ]
  },
  {
   "cell_type": "markdown",
   "metadata": {},
   "source": [
    "Кодом ниже можно сделать довавление сразу нескольких новых пользователей"
   ]
  },
  {
   "cell_type": "code",
   "execution_count": null,
   "metadata": {},
   "outputs": [],
   "source": [
    "users_list = [\n",
    "        User(\n",
    "            username=user_data['username'],\n",
    "            email=user_data['email'],\n",
    "            password=user_data['password']\n",
    "        )\n",
    "    for user_data in users_data\n",
    "]\n",
    "session.add_all(users_list)\n",
    "session.commit()"
   ]
  },
  {
   "cell_type": "markdown",
   "metadata": {},
   "source": [
    "Расширим основной класс Base и пропишем туда методы add и add_many как шаблонных запрос для любой модели"
   ]
  },
  {
   "cell_type": "code",
   "execution_count": null,
   "metadata": {},
   "outputs": [],
   "source": [
    "from typing import Any, Dict, List, Self\n",
    "from sqlalchemy.orm import Session\n",
    "\n",
    "\n",
    "class Base(DeclarativeBase):\n",
    "        \n",
    "    ... #(прошлый код)\n",
    "    \n",
    "    @classmethod\n",
    "    @connection\n",
    "    def add(cls,\n",
    "            session: Session = None,\n",
    "            **values) -> Self:\n",
    "        new_instance = cls(**values)\n",
    "        session.add(new_instance)\n",
    "        try:\n",
    "            session.commit()\n",
    "        except Exception as e:\n",
    "            session.rollback()\n",
    "            raise e\n",
    "        return new_instance\n",
    "\n",
    "    \n",
    "    @classmethod\n",
    "    @connection\n",
    "    def add_many(cls,\n",
    "                 instances: List[Dict[str, Any]], \n",
    "                 session: Session = None) -> List[Self]:\n",
    "        new_instances = [cls(**values) for values in instances]\n",
    "        session.add_all(new_instances)\n",
    "        try:\n",
    "            session.commit()\n",
    "        except Exception as e:\n",
    "            session.rollback()\n",
    "            raise e\n",
    "        return new_instances      "
   ]
  },
  {
   "cell_type": "markdown",
   "metadata": {},
   "source": [
    "Основные моменты:\n",
    "\n",
    "\n",
    "\n",
    "1. Метод add: Этот метод позволяет добавить одну запись (например, одного пользователя) в базу данных.\n",
    "\n",
    "   - Он принимает сессию базы данных и значения для полей записи в виде именованных аргументов (**values).\n",
    "\n",
    "   - Создаётся новый экземпляр модели с переданными данными, затем он добавляется в сессию.\n",
    "\n",
    "   - После этого вызывается commit, чтобы зафиксировать изменения в базе данных.\n",
    "\n",
    "   - В случае ошибки, происходит откат (rollback), и ошибка выбрасывается.\n",
    "\n",
    "2. Метод add_many: Этот метод используется для добавления сразу нескольких записей в базу данных за один раз.\n",
    "\n",
    "    - Он принимает список словарей, где каждый словарь содержит данные для одной записи.\n",
    "\n",
    "    - Из этих словарей создаются экземпляры модели и добавляются в сессию с помощью add_all.\n",
    "\n",
    "    - После добавления всех экземпляров вызывается коммит для сохранения изменений.\n",
    "\n",
    "    - Если возникает ошибка, как и в первом методе, вызывается откат транзакции и ошибка поднимается дальше."
   ]
  },
  {
   "cell_type": "markdown",
   "metadata": {},
   "source": []
  }
 ],
 "metadata": {
  "kernelspec": {
   "display_name": "databaseworks-PuP-frqj-py3.11",
   "language": "python",
   "name": "python3"
  },
  "language_info": {
   "codemirror_mode": {
    "name": "ipython",
    "version": 3
   },
   "file_extension": ".py",
   "mimetype": "text/x-python",
   "name": "python",
   "nbconvert_exporter": "python",
   "pygments_lexer": "ipython3",
   "version": "3.11.9"
  }
 },
 "nbformat": 4,
 "nbformat_minor": 2
}
