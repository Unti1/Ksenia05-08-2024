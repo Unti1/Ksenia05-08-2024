{
 "cells": [
  {
   "cell_type": "markdown",
   "metadata": {},
   "source": [
    "Источник: https://habr.com/ru/companies/amvera/articles/849836/"
   ]
  },
  {
   "cell_type": "markdown",
   "metadata": {},
   "source": [
    "# Что такое фреймворк\n",
    "\n",
    "Фреймворк — это набор инструментов и классов, которые помогают разработчикам создавать приложения. Он обычно содержит функции, классы и другие элементы, которые позволяют быстро и эффективно реализовать <u>**конкретный продукт**</u>. Всвою очередь он является куда выше чем пакет и модуль\n",
    "\n"
   ]
  },
  {
   "cell_type": "markdown",
   "metadata": {},
   "source": [
    "# Что такое PostgreSQL\n",
    "В кратце это программа для мониторинга и работы с реляционными базами данных. Это программное обеспечение позволяет создавать, удалять и обновлять таблицы, выполнять запросы к данным и многое другое.\n",
    "\n",
    "Реляционные = табличные\n"
   ]
  },
  {
   "cell_type": "markdown",
   "metadata": {},
   "source": [
    "pgAdmin 4 - это программа, а точнее дополнение из пакетов PostgreSQL который добавляет графический интерфейс для работы с базами данных"
   ]
  },
  {
   "cell_type": "markdown",
   "metadata": {},
   "source": [
    "# Также можно использовать и обычный SQLite\n",
    "\n",
    "SQLite - пакет, он не имеет графического интерфейса, но позволяет работать с базами данных в командной строке\n"
   ]
  },
  {
   "cell_type": "markdown",
   "metadata": {},
   "source": [
    "# Что такое SQLAlchemy"
   ]
  },
  {
   "cell_type": "markdown",
   "metadata": {},
   "source": [
    "SQLAlchemy, важно понимать, что это не просто фреймворк, а полноценный инструмент для работы с реляционными (табличными) базами данных. Он поддерживает два стиля: core и ORM.\n",
    "\n",
    "- Core — это низкоуровневый подход, который позволяет выполнять запросы с использованием SQL-выражений, обеспечивая полный контроль над процессом. Этот стиль подходит тем, кто хочет максимально приблизиться к стандартному SQL или имеет особые требования к производительности.\n",
    "\n",
    "- ORM (Object-Relational Mapping) - это стиль, в котором фреймворк отображает таблицы базы данных на Python-классы. С ORM вы работаете с объектами, а не со строками SQL. Именно на этот стиль мы будем ориентироваться, так как он более удобен, универсален и популярен среди разработчиков."
   ]
  },
  {
   "cell_type": "markdown",
   "metadata": {},
   "source": [
    "# Основные компоненты ORM\n",
    "Работа с SQLAlchemy в стиле ORM включает в себя несколько ключевых понятий:\n",
    "\n",
    "1. **Модели таблиц** — это Python-классы, представляющие таблицы базы данных. Эти классы содержат информацию о структуре таблиц, таких как колонки, типы данных и связи между таблицами.\n",
    "2. **Сессии** — объекты, через которые осуществляется взаимодействие с базой данных. Они позволяют выполнять запросы и фиксировать изменения. Сессия открывается в начале работы с базой и закрывается в конце, обеспечивая связь с базой данных на протяжении одного «сеанса».\n",
    "3. Фабрика сессий — это шаблон для создания сессий. Он используется для управления подключением к базе данных и создания новых сессий по мере необходимости."
   ]
  },
  {
   "cell_type": "markdown",
   "metadata": {},
   "source": [
    "# Почему каждый Python-разработчик должен знать SQLAlchemy?\n",
    "\n",
    "SQLAlchemy упрощает работу с базами данных, превращая их в интуитивно понятные объекты Python. Это делает ваш код более чистым и читаемым, поскольку вы пишете на Python, а не на SQL. Кроме того, он позволяет вам работать с разными базами данных практически без изменения кода — отличная возможность для тех, кто работает в командах, где требуются разные типы БД. SQLAlchemy также предлагает мощные инструменты для управления связями и миграциями, что делает его универсальным выбором для разработки крупных проектов."
   ]
  },
  {
   "cell_type": "markdown",
   "metadata": {},
   "source": [
    "# Связи между таблицами\n",
    "Как упоминалось ранее, SQLAlchemy позволяет устанавливать связи между таблицами через внешние ключи. Рассмотрим основные типы связей:\n",
    "- \"Один к одному\" (1:1) — используется, когда каждая запись в одной таблице должна соответствовать только одной записи в другой таблице. Например, профиль пользователя может быть связан с аккаунтом пользователя в соотношении один к одному.\n",
    "\n",
    "- \"Один ко многим\" (1:N) — при такой связи одна запись в одной таблице может соответствовать нескольким записям в другой таблице. Например, один пользователь может иметь несколько постов в блоге.\n",
    "\n",
    "- \"Многие к одному\" (N:1) — обратная связь \"один ко многим\". В этом случае несколько записей из одной таблицы могут ссылаться на одну запись в другой таблице, например, несколько комментариев могут быть привязаны к одному посту."
   ]
  },
  {
   "cell_type": "code",
   "execution_count": null,
   "metadata": {},
   "outputs": [],
   "source": [
    "# /settings/database.py\n",
    "\n",
    "from sqlalchemy import create_engine\n",
    "from sqlalchemy.orm import DeclarativeBase, sessionmaker\n",
    "from settings.config import settings\n",
    "\n",
    "DATABASE_URL = settings.DATABASE_SQLITE\n",
    "\n",
    "engine = create_engine(url = DATABASE_URL)\n",
    "session_maker = sessionmaker(engine, expire_on_commit=False)\n",
    "\n",
    "class Base(DeclarativeBase):\n",
    "    __abstract__ = True # Чтобы не создавалась отдельная таблица для этого класса"
   ]
  },
  {
   "cell_type": "markdown",
   "metadata": {},
   "source": [
    "- DeclarativeBase: Основной класс для всех моделей, от которого будут наследоваться все таблицы (модели таблиц). Эту особенность класса мы будем использовать неоднократно.\n",
    "\n",
    "- create_engine: Функция, создающая движок для соединения с базой данных по предоставленному URL.\n",
    "\n",
    "- sessionmaker: Фабрика сессий для синхронного взаимодействия с базой данных. Сессии используются для выполнения запросов и транзакций.\n",
    "\n",
    "**Как это работает**\n",
    "\n",
    "DATABASE_URL: Формируется с помощью метода get_db_url из файла конфигурации config.py. Содержит всю необходимую информацию для подключения к базе данных.\n",
    "\n",
    "engine:  вижок, необходимый для выполнения операций с базой данных.\n",
    "\n",
    "session_maker: Фабрика сессий, которая позволяет создавать сессии для взаимодействия с базой данных, управлять транзакциями и выполнять запросы.\n",
    "\n",
    "Base: Абстрактный базовый класс для всех моделей, от которого будут наследоваться все таблицы. Он не создаст отдельную таблицу в базе данных, но предоставит базовую функциональность для всех других моделей."
   ]
  },
  {
   "cell_type": "markdown",
   "metadata": {},
   "source": [
    "**Этот минимальный набор настроек обеспечивает базовую конфигурацию для работы с базой данных в SQLAlchemy. В дальнейшем, в этой и следующих статьях, мы будем расширять этот файл, добавляя новые методы и настройки для более сложных задач.**"
   ]
  },
  {
   "cell_type": "markdown",
   "metadata": {},
   "source": [
    "# А вот так выглядит асинхронная реализация"
   ]
  },
  {
   "cell_type": "code",
   "execution_count": 1,
   "metadata": {},
   "outputs": [
    {
     "ename": "ModuleNotFoundError",
     "evalue": "No module named 'settings'",
     "output_type": "error",
     "traceback": [
      "\u001b[31m---------------------------------------------------------------------------\u001b[39m",
      "\u001b[31mModuleNotFoundError\u001b[39m                       Traceback (most recent call last)",
      "\u001b[36mCell\u001b[39m\u001b[36m \u001b[39m\u001b[32mIn[1]\u001b[39m\u001b[32m, line 5\u001b[39m\n\u001b[32m      3\u001b[39m \u001b[38;5;28;01mfrom\u001b[39;00m\u001b[38;5;250m \u001b[39m\u001b[34;01msqlalchemy\u001b[39;00m\u001b[38;5;250m \u001b[39m\u001b[38;5;28;01mimport\u001b[39;00m create_engine\n\u001b[32m      4\u001b[39m \u001b[38;5;28;01mfrom\u001b[39;00m\u001b[38;5;250m \u001b[39m\u001b[34;01msqlalchemy\u001b[39;00m\u001b[34;01m.\u001b[39;00m\u001b[34;01morm\u001b[39;00m\u001b[38;5;250m \u001b[39m\u001b[38;5;28;01mimport\u001b[39;00m DeclarativeBase, sessionmaker\n\u001b[32m----> \u001b[39m\u001b[32m5\u001b[39m \u001b[38;5;28;01mfrom\u001b[39;00m\u001b[38;5;250m \u001b[39m\u001b[34;01msettings\u001b[39;00m\u001b[34;01m.\u001b[39;00m\u001b[34;01mconfig\u001b[39;00m\u001b[38;5;250m \u001b[39m\u001b[38;5;28;01mimport\u001b[39;00m settings\n\u001b[32m      7\u001b[39m DATABASE_URL = settings.DATABASE_SQLITE \u001b[38;5;66;03m# тут выбрать свой способ связки с БД\u001b[39;00m\n\u001b[32m      9\u001b[39m engine = create_engine(url = DATABASE_URL)\n",
      "\u001b[31mModuleNotFoundError\u001b[39m: No module named 'settings'"
     ]
    }
   ],
   "source": [
    "# /settings/database.py\n",
    "\n",
    "from sqlalchemy.ext.asyncio import AsyncAttrs, async_sessionmaker, create_async_engine\n",
    "from settings.config import settings\n",
    "\n",
    "\n",
    "\n",
    "DATABASE_URL = settings.get_async_db_url() # тут выбрать свой способ связки с БД\n",
    "\n",
    "engine = create_async_engine(url = DATABASE_URL)\n",
    "session_maker = async_sessionmaker(engine, expire_on_commit=False)\n",
    "\n",
    "class Base(AsyncAttrs, DeclarativeBase):\n",
    "    __abstract__ = True # Чтобы не создавалась отдельная таблица для этого класса"
   ]
  },
  {
   "cell_type": "markdown",
   "metadata": {},
   "source": [
    "Расширим базовый класс для модели Base. *На основе синх. реализации*"
   ]
  },
  {
   "cell_type": "code",
   "execution_count": null,
   "metadata": {},
   "outputs": [],
   "source": [
    "from datetime import datetime\n",
    "from sqlalchemy import DateTime, Integer, String, func\n",
    "from sqlalchemy.orm import Mapped, declared_attr, mapped_column\n",
    "\n",
    "\n",
    "class Base(DeclarativeBase):\n",
    "    __abstract__ = True\n",
    "    \n",
    "    id: Mapped[int] = mapped_column(primary_key=True, autoincrement=True)\n",
    "    create_at: Mapped[datetime] = mapped_column(server_default=func.now())\n",
    "    update_at: Mapped[datetime] = mapped_column(server_default=func.now(), onupdate=func.now())\n",
    "    \n",
    "    @declared_attr.directive\n",
    "    def __tablename__(cls) -> str:\n",
    "        return cls.__name__.lower() + 's'\n",
    "    "
   ]
  },
  {
   "cell_type": "markdown",
   "metadata": {},
   "source": [
    "**Mapped** — это современный способ аннотировать типы данных для колонок в моделях SQLAlchemy. Он позволяет более четко указать, что переменная представляет собой колонку таблицы в базе данных, делая код более читаемым и понятным."
   ]
  },
  {
   "cell_type": "markdown",
   "metadata": {},
   "source": [
    "**mapped_column** — это функция, которая используется для создания колонок в моделях SQLAlchemy. Она принимает в качестве аргументов тип данных колонки и дополнительные параметры, такие как primary_key, nullable, default и так далее."
   ]
  },
  {
   "cell_type": "markdown",
   "metadata": {},
   "source": [
    "# Максимум гибкости и минимум кода\n",
    "С Mapped и типовыми аннотациями мы можем значительно упростить описание моделей."
   ]
  },
  {
   "cell_type": "code",
   "execution_count": 1,
   "metadata": {},
   "outputs": [
    {
     "ename": "ModuleNotFoundError",
     "evalue": "No module named 'settings'",
     "output_type": "error",
     "traceback": [
      "\u001b[31m---------------------------------------------------------------------------\u001b[39m",
      "\u001b[31mModuleNotFoundError\u001b[39m                       Traceback (most recent call last)",
      "\u001b[36mCell\u001b[39m\u001b[36m \u001b[39m\u001b[32mIn[1]\u001b[39m\u001b[32m, line 1\u001b[39m\n\u001b[32m----> \u001b[39m\u001b[32m1\u001b[39m \u001b[38;5;28;01mfrom\u001b[39;00m\u001b[38;5;250m \u001b[39m\u001b[34;01msettings\u001b[39;00m\u001b[34;01m.\u001b[39;00m\u001b[34;01mdatabase\u001b[39;00m\u001b[38;5;250m \u001b[39m\u001b[38;5;28;01mimport\u001b[39;00m Base\n\u001b[32m      4\u001b[39m \u001b[38;5;28;01mclass\u001b[39;00m\u001b[38;5;250m \u001b[39m\u001b[34;01mUser\u001b[39;00m(Base):\n\u001b[32m      5\u001b[39m     name: Mapped[\u001b[38;5;28mstr\u001b[39m]\n",
      "\u001b[31mModuleNotFoundError\u001b[39m: No module named 'settings'"
     ]
    }
   ],
   "source": [
    "# models/user.py\n",
    "from settings.database import Base\n",
    "\n",
    "\n",
    "class User(Base):\n",
    "    name: Mapped[str] # Обязательное поле\n",
    "    surname: Mapped[str| None] # А это уже необязательное, можно как указать так и нет\n",
    "    email: Mapped[str] = mapped_column(unique=True)\n"
   ]
  },
  {
   "cell_type": "markdown",
   "metadata": {},
   "source": [
    "# Модель пользователей\n",
    "Приступим к описанию моделей. Первой моделью мы опишем модель пользователей. Пока не будем подключать связи SQLAlchemy (relationship), чтобы не усложнять процесс написания кода.\n",
    "\n",
    "Из «необычного» мы используем внешние ключи (ForeignKey), тем самым закладывая основу для будущих связей.\n",
    "\n",
    "# Что то такое ForeignKey простыми словами\n",
    "Просто говоря, ForeignKey (внешний ключ) – это способ связать одну таблицу с другой в базе данных. Представьте, что у вас есть две таблицы: пользователи и посты. Каждому посту нужен автор, так ведь?"
   ]
  },
  {
   "cell_type": "code",
   "execution_count": null,
   "metadata": {},
   "outputs": [],
   "source": [
    "from sqlalchemy import ForeignKey, Text\n",
    "# models/user.py\n",
    "# models/post.py\n",
    "\n",
    "\n",
    "class User(Base):\n",
    "    name: Mapped[str]\n",
    "\n",
    "    \n",
    "class Post(Base):\n",
    "    title: Mapped[str]\n",
    "    content: Mapped[Text]\n",
    "    user_id: Mapped[int] = mapped_column(ForeignKey('users.id'))  # Внешний ключ"
   ]
  },
  {
   "cell_type": "markdown",
   "metadata": {},
   "source": [
    "Обратите внимание, что мы не задали имя таблицы и не назначили первичный ключ (ID пользователя). Это нам и не требуется, так как класс Base автоматически добавит эти колонки при создании таблицы и назначит ей имя users.\n",
    "\n",
    "Оптимизация кода с аннотациями\n",
    "Мы также заметили, что строка Mapped[str] = mapped_column(unique=True) повторяется несколько раз. Чтобы оптимизировать этот процесс, мы можем воспользоваться аннотациями.\n",
    "\n",
    "Аннотации в SQLAlchemy позволяют вынести описание колонок в отдельные переменные. Это значит, что мы можем описывать колонки один раз, а затем использовать их в моделях. Такой подход упрощает код и делает его более читаемым.\n",
    "\n",
    "Для использования аннотаций необходимо из модуля typing импортировать объект Annotated. Аннотации я обычно описываю в файле database.py. Вот пример:"
   ]
  },
  {
   "cell_type": "code",
   "execution_count": null,
   "metadata": {},
   "outputs": [],
   "source": [
    "from typing import Annotated\n",
    "\n",
    "\n",
    "uniq_str_an = Annotated[str, mapped_column(unique=True)]"
   ]
  },
  {
   "cell_type": "markdown",
   "metadata": {},
   "source": [
    "Описание аннотации\n",
    "Annotated — это инструмент из модуля typing, который позволяет добавлять метаданные к типам данных. В данном случае мы используем его для описания колонки в SQLAlchemy.\n",
    "\n",
    "str — это тип данных из Python, который указывает, что колонка будет строкового типа.\n",
    "\n",
    "mapped_column(unique=True) — эта функция указывает, что колонка будет уникальной, то есть два значения в этой колонке не могут повторяться."
   ]
  },
  {
   "cell_type": "markdown",
   "metadata": {},
   "source": [
    "# Enum"
   ]
  },
  {
   "cell_type": "markdown",
   "metadata": {},
   "source": [
    "Enum из модуля enum в Python используется для создания перечислений, которые представляют собой набор именованных значений. Это позволяет определять типы данных с ограниченным набором возможных значений."
   ]
  },
  {
   "cell_type": "code",
   "execution_count": null,
   "metadata": {},
   "outputs": [],
   "source": [
    "from enum import Enum\n",
    "\n",
    "\n",
    "class GenderEnum(Enum):\n",
    "    MALE = 'Мужчина'\n",
    "    FEMALE = 'Женщина'"
   ]
  },
  {
   "cell_type": "code",
   "execution_count": null,
   "metadata": {},
   "outputs": [],
   "source": [
    "# models/profile.py\n",
    "from tokenize import String\n",
    "from typing import List\n",
    "from sqlalchemy import ARRAY, text\n",
    "from sqlalchemy.dialects.postgresql import JSON\n",
    "from sqlalchemy.orm import Mapped, mapped_column\n",
    "from models.enums import GenderEnum, ProfessionEnum\n",
    "from settings.database import Base\n",
    "\n",
    "\n",
    "class Profile(Base):\n",
    "    name: Mapped[str]\n",
    "    surname: Mapped[str|None]\n",
    "    age: Mapped[int|None]\n",
    "    gender: Mapped[GenderEnum]\n",
    "    profession: Mapped[ProfessionEnum] = mapped_column(\n",
    "        default=ProfessionEnum.UNEMPLOYED, # default - это те значениея которые выставляются нашим кодом\n",
    "        server_default=text(\"'UNEMPLOYED'\") # server default - это то значение которое будет устанавливаться в базе данных при создании нового объекта(если из кода значения не поступило)\n",
    "    )\n",
    "    interests: Mapped[List[str] | None] = mapped_column(ARRAY(String))\n",
    "    contacts: Mapped[dict | None] = mapped_column(JSON)"
   ]
  },
  {
   "cell_type": "markdown",
   "metadata": {},
   "source": [
    "## **Параметр default:**\n",
    "- Этот параметр задает значение по умолчанию на уровне приложения (SQLAlchemy).\n",
    "\n",
    "- Это означает, что если при создании объекта в коде значение для данного поля не указано, будет использовано значение, указанное в default. Например, при создании объекта класса User, если значение для поля profession не передано, SQLAlchemy автоматически подставит значение по умолчанию, указанное в default.\n",
    "  \n",
    "- Пример: Если у нас есть перечисление (ENUM) профессий, то значение по умолчанию может быть выбрано через точку, например: ProfessionEnum.DEVELOPER.\n",
    "\n",
    "## **Параметр server_default:**\n",
    "\n",
    "- Этот параметр задает значение по умолчанию на уровне базы данных.\n",
    "\n",
    "- Это значит, что если при вставке записи в таблицу значение для данного поля не указано, сама база данных подставит значение, указанное в server_default. В отличие от default, это значение применяется, если запись добавляется в таблицу напрямую, например, через SQL-запросы, минуя приложение.\n",
    "\n",
    "- Важно: Для использования этого параметра с ENUM, нужно передавать значение в виде текстового выражения с помощью метода text, который импортируется из SQLAlchemy. Значение ENUM указывается в кавычках как текст, например: \"WRITER\", а не само значение, такое как ProfessionEnum.WRITER. Это необходимо для корректного выполнения запроса на стороне базы данных."
   ]
  },
  {
   "cell_type": "markdown",
   "metadata": {},
   "source": [
    "# Описание зависимостей (relationship)"
   ]
  },
  {
   "cell_type": "markdown",
   "metadata": {},
   "source": [
    "## **Один-к-одному (One-to-One)**"
   ]
  },
  {
   "cell_type": "markdown",
   "metadata": {},
   "source": [
    "У нас есть две модели: User и Profile. Связь между ними организована по принципу один-к-одному (One-to-One). Это значит, что каждый пользователь имеет только один профиль, и каждый профиль принадлежит только одному пользователю.\n",
    "\n",
    "- Почему используется One-to-One?\n",
    "Обычно связь \"один-к-одному\" используется для разделения основной и дополнительной информации. Например, информация о пользователе (имя, email) может находиться в таблице User, а данные профиля (возраст, профессия, интересы) хранятся в отдельной таблице Profile. Это позволяет избежать излишней ширины основной таблицы, что упрощает её обслуживание и управление данными.\n",
    "\n",
    "- В SQLAlchemy технология relationship позволяет настраивать и управлять связями между таблицами. В случае связи один-к-одному между таблицами User и Profile настройка выглядит следующим образом"
   ]
  },
  {
   "cell_type": "code",
   "execution_count": null,
   "metadata": {},
   "outputs": [],
   "source": [
    "# models/user.py\n",
    "from sqlalchemy.orm import relationship\n",
    "\n",
    "\n",
    "class User(Base):\n",
    "    ...\n",
    "\n",
    "    # Подключаем связь для profiles\n",
    "    profile: Mapped['Profile'] = relationship(\n",
    "        'Profile',\n",
    "        back_populates='users',\n",
    "        uselist=False, #Ключевой параметр для связи один-к-одному, если не указать то связь становится один ко многим\n",
    "        lazy='joined' # Автоматически будет подгружаться profile при запросе user\n",
    "    )\n",
    "    \n"
   ]
  },
  {
   "cell_type": "markdown",
   "metadata": {},
   "source": [
    "back_populates=\"user\" — указывает на атрибут обратной связи в модели Profile. Это значит, что при доступе к профилю можно также получить связанного пользователя.\n",
    "\n",
    "uselist=False — определяет, что связь не является списком (по умолчанию relationship предполагает связь \"один-ко-многим\" или \"многие-к-одному\"). Здесь один профиль на одного пользователя, поэтому uselist=False задает связь один-к-одному.\n",
    "\n",
    "lazy=\"joined\" — задает стратегию подгрузки данных. SQLAlchemy выполнит JOIN запрос и подгрузит профиль сразу при запросе пользователя."
   ]
  },
  {
   "cell_type": "code",
   "execution_count": null,
   "metadata": {},
   "outputs": [],
   "source": [
    "# models/profile.py\n",
    "\n",
    "class Profile(Base):\n",
    "    ...\n",
    "    \n",
    "    # Подключаем связь для users\n",
    "    user: Mapped['User'] = relationship(\n",
    "        'User',\n",
    "        back_populates='profile',\n",
    "        uselist=False,\n",
    "    )"
   ]
  },
  {
   "cell_type": "markdown",
   "metadata": {},
   "source": [
    "- back_populates=\"profile\" — связывает эту связь с атрибутом profile в модели User, обеспечивая двустороннее управление. Если связать пользователя и профиль, то оба атрибута (user и profile) будут обновляться одновременно.\n",
    "\n",
    "- uselist=False — так как у каждого профиля может быть только один пользователь, значение False указывает, что это отношение не поддерживает списки, а подразумевает один объект."
   ]
  },
  {
   "cell_type": "markdown",
   "metadata": {},
   "source": [
    "## Как это работает?\n",
    "Когда создается объект User с прикрепленным Profile, SQLAlchemy автоматически связывает их через определение связи. Например, если мы получаем пользователя через ORM-запрос select, SQLAlchemy выполнит JOIN-запрос и загрузит профиль, если используется joinedload для опции lazy='joined'. Это подробнее рассмотрим в следующей статье."
   ]
  },
  {
   "cell_type": "markdown",
   "metadata": {},
   "source": [
    "## **Связь Один-ко-Многим и Многие-к-Одному**"
   ]
  },
  {
   "cell_type": "markdown",
   "metadata": {},
   "source": [
    "- В нашей модели User связан с моделью Post по принципу один-ко-многим: один пользователь может создавать много постов, но каждый пост принадлежит только одному пользователю. Эта связь также называется многие-к-одному со стороны Post, так как несколько постов могут ссылаться на одного пользователя.\n",
    "- Аналогично, модель Post связана с Comment по принципу один-ко-многим: каждый пост может иметь несколько комментариев, но каждый комментарий относится к конкретному посту."
   ]
  },
  {
   "cell_type": "markdown",
   "metadata": {},
   "source": [
    "- Почему используется One-to-Many и Many-to-One?\n",
    "Связь один-ко-многим или многие-к-одному используется, когда один объект (например, пользователь) связан с множеством других объектов (например, постов). Это позволяет логически сгруппировать данные и избежать избыточности. В нашем случае, каждый пользователь может иметь несколько постов, и каждый пост — несколько комментариев.\n",
    "\n",
    "- Техническая реализация\n",
    "Связь один-ко-многим и многие-к-одному можно настроить с помощью relationship и ForeignKey."
   ]
  },
  {
   "cell_type": "markdown",
   "metadata": {},
   "source": []
  },
  {
   "cell_type": "code",
   "execution_count": null,
   "metadata": {},
   "outputs": [],
   "source": [
    "# models/user.py\n",
    "from sqlalchemy.orm import relationship\n",
    "\n",
    "\n",
    "class User(Base):\n",
    "    ...\n",
    "\n",
    "    # Подключаем связь для posts\n",
    "    posts: Mapped['Post'] = relationship(\n",
    "        'Post',\n",
    "        back_populates='user',\n",
    "        cascade='all, delete-orphan',  # Удаление всех связанных постов при удалении пользователя\n",
    "    )\n",
    "    \n",
    "class Post(Base):\n",
    "    ...\n",
    "    \n",
    "    user_id: Mapped[int] = mapped_column(ForeignKey('users.id')) # ОБЯЗАТЕЛЬНОЕ УСЛОВИЕ ДЛЯ ОДИН-КО-МНОГИМ => СВЯЗУЮЩИЙ КЛЮЧ\n",
    "\n",
    "    user: Mapped['User'] = relationship(\n",
    "        'User',\n",
    "        back_populates='posts',  # Устанавливаем связь с таблицей users через поле posts\n",
    "    )\n",
    "    "
   ]
  },
  {
   "cell_type": "markdown",
   "metadata": {},
   "source": []
  },
  {
   "cell_type": "markdown",
   "metadata": {},
   "source": [
    "- user_id: В Post это внешний ключ, который связывает каждый пост с конкретным пользователем.\n",
    "\n",
    "- back_populates:\n",
    "\n",
    "- back_populates=\"user\" в Post указывает на связь с полем posts в User.\n",
    "\n",
    "- back_populates=\"posts\" в User связывает с полем user в Post. Эти настройки обеспечивают двустороннюю связь.\n",
    "\n",
    "- cascade=\"all, delete-orphan\": Эта настройка в модели User указывает, что все посты, связанные с пользователем, должны быть удалены, если удаляется сам пользователь."
   ]
  },
  {
   "cell_type": "markdown",
   "metadata": {},
   "source": [
    "# <u> Приписать связи для таблиц Comment и Post а также Comment и User -- это сделать самостоятельно </u>"
   ]
  },
  {
   "cell_type": "code",
   "execution_count": null,
   "metadata": {},
   "outputs": [],
   "source": []
  },
  {
   "cell_type": "markdown",
   "metadata": {},
   "source": [
    "# **Alembic**\n",
    "\n",
    "Мы описали модели наших будущих таблиц, но чтобы они превратились в реальные таблицы в базе данных, нужно выполнить процесс миграции. SQLAlchemy предлагает несколько способов для создания и обновления таблиц на основе моделей, и один из самых популярных и мощных инструментов для этой задачи — Alembic."
   ]
  },
  {
   "cell_type": "markdown",
   "metadata": {},
   "source": [
    "Alembic позволяет управлять версиями схемы базы данных, отслеживать изменения и легко переносить их на разные среды. Этот инструмент упрощает создание и выполнение миграций, поддерживая базу данных в актуальном состоянии по мере того, как модели меняются."
   ]
  },
  {
   "cell_type": "markdown",
   "metadata": {},
   "source": [
    "Для начала работы с Alembic, нам нужно выполнить его инициализацию с поддержкой асинхронного взаимодействия с базой данных. Это можно сделать с помощью следующей команды **в терминале**:"
   ]
  },
  {
   "cell_type": "code",
   "execution_count": 2,
   "metadata": {},
   "outputs": [
    {
     "name": "stdout",
     "output_type": "stream",
     "text": [
      "FAILED: Directory migration already exists and is not empty\n"
     ]
    }
   ],
   "source": [
    "# Для асинхронной версии\n",
    "!alembic init -t async migration\n",
    "\n",
    "# Для синхронной версии\n",
    "!alembic init migration\n"
   ]
  },
  {
   "attachments": {
    "image.png": {
     "image/png": "[encoded data removed]"
    }
   },
   "cell_type": "markdown",
   "metadata": {},
   "source": [
    "После выполнения этой команды в корне проекта появится директория migration и файл alembic.ini. Директория migration будет содержать файлы для управления миграциями, а alembic.ini — файл конфигурации Alembic, который потребуется нам для настройки подключения к базе данных.\n",
    "\n",
    "![image.png](attachment:image.png)"
   ]
  },
  {
   "cell_type": "markdown",
   "metadata": {},
   "source": [
    "Настройка migration/env.py для работы с базой данных\n",
    "Для того чтобы Alembic мог корректно взаимодействовать с нашей базой данных, необходимо внести изменения в файл migration/env.py. Этот файл отвечает за конфигурацию миграций, и в нем нужно указать информацию для подключения к базе данных, а также импортировать все модели."
   ]
  },
  {
   "cell_type": "markdown",
   "metadata": {},
   "source": [
    "1. Импорт подключения и моделей\n",
    "В первую очередь, импортируем ссылку для подключения к базе данных и базовый класс Base из файла database.py, а также все наши модели из файла models.py:"
   ]
  },
  {
   "cell_type": "code",
   "execution_count": null,
   "metadata": {},
   "outputs": [],
   "source": [
    "# migration/env.py\n",
    "from settings.database import Base, DATABASE_URL\n",
    "from models.user import User"
   ]
  },
  {
   "cell_type": "markdown",
   "metadata": {},
   "source": [
    "2. Конфигурация подключенияa\n",
    "Далее указываем Alembic, какой URL использовать для подключения к базе данных:"
   ]
  },
  {
   "cell_type": "code",
   "execution_count": null,
   "metadata": {},
   "outputs": [],
   "source": [
    "# migration/env.py\n",
    "config = context.config\n",
    "config.set_main_option(\"sqlalchemy.url\", DATABASE_URL)"
   ]
  },
  {
   "cell_type": "markdown",
   "metadata": {},
   "source": [
    "\n",
    "Здесь мы используем переменную DATABASE_URL, которая содержит строку подключения к нашей базе данных PostgreSQL."
   ]
  },
  {
   "cell_type": "markdown",
   "metadata": {},
   "source": [
    "3. Определение метаданных\n",
    "Указываем Alembic, где искать информацию о моделях. Для этого присваиваем переменной target_metadata метаданные из Base, которые включают все модели:"
   ]
  },
  {
   "cell_type": "code",
   "execution_count": null,
   "metadata": {},
   "outputs": [],
   "source": [
    "# migration/env.py\n",
    "target_metadata = Base.metadata"
   ]
  },
  {
   "cell_type": "markdown",
   "metadata": {},
   "source": [
    "Для создания первой миграции нашей базы данных используется комманда (для обоих версий используется вот такая запись)\n",
    "\n",
    "```bash\n",
    "alembic revision --autogenerate -m \"*Сообщение о том что мы сделали*\"\n",
    "```"
   ]
  },
  {
   "cell_type": "markdown",
   "metadata": {},
   "source": [
    "# Важные нюансы работы с Alembic и ENUM типами данных\n",
    "Когда вы используете Alembic для управления миграциями, нужно учитывать несколько важных особенностей, связанных с типами данных ENUM в PostgreSQL. Давайте разберемся с двумя основными проблемами и способами их решения."
   ]
  },
  {
   "cell_type": "markdown",
   "metadata": {},
   "source": [
    "## 1. Проблемы при создании колонки с ENUM\n",
    "После того как тип данных ENUM создан в PostgreSQL, его имя резервируется и считается уникальным. При работе с Alembic эта особенность не всегда учитывается автоматически, что может привести к ошибкам в будущем.\n",
    "\n",
    "Пример проблемы\n",
    "Допустим, у нас есть такая колонка:\n",
    "\n",
    "```python\n",
    "sa.Column('gender', sa.Enum('MALE', 'FEMALE', name='genderenum'), nullable=False)\n",
    "```"
   ]
  },
  {
   "cell_type": "markdown",
   "metadata": {},
   "source": [
    "## 2. Проблемы при откате миграций (downgrade)\n",
    "При удалении таблиц с помощью Alembic таблицы удаляются, но связанные с ними ENUM-ы остаются в базе данных. Это может привести к конфликтам, если в будущем вы захотите использовать те же имена для новых ENUM-типов."
   ]
  },
  {
   "cell_type": "code",
   "execution_count": null,
   "metadata": {},
   "outputs": [],
   "source": [
    "# migration/versions/aa79e1d59e68_creating_database.py\n",
    "from alembic import op\n",
    "\n",
    "def downgrade() -> None:\n",
    "    \"\"\"Downgrade schema.\"\"\"\n",
    "    # ### commands auto generated by Alembic - please adjust! ###\n",
    "    op.drop_table('comments')\n",
    "    op.drop_table('posts')\n",
    "    op.drop_table('users')\n",
    "    op.drop_table('profiles')\n",
    "    # ### end Alembic commands ###\n",
    "    # Дописано нами \n",
    "    op.execute(\"DROP TYPE IF EXISTS ratingenum;\")\n",
    "    op.execute(\"DROP TYPE IF EXISTS genderenum;\")\n",
    "    op.execute(\"DROP TYPE IF EXISTS statusenum;\")\n",
    "    op.execute(\"DROP TYPE IF EXISTS professionenum;\")"
   ]
  },
  {
   "cell_type": "markdown",
   "metadata": {},
   "source": [
    "После того как вы внесли правки и убедились, что все готово, можно выполнить откат:\n",
    "\n",
    "Откат на одну версию назад:\n",
    "\n",
    "```bash\n",
    "alembic downgrade -1\n",
    "```\n",
    "Откат до определенной миграции:\n",
    "\n",
    "```bash\n",
    "alembic downgrade aa79e1d59e68\n",
    "```"
   ]
  },
  {
   "cell_type": "markdown",
   "metadata": {},
   "source": []
  },
  {
   "cell_type": "markdown",
   "metadata": {},
   "source": []
  }
 ],
 "metadata": {
  "kernelspec": {
   "display_name": "databaseworks-PuP-frqj-py3.11",
   "language": "python",
   "name": "python3"
  },
  "language_info": {
   "codemirror_mode": {
    "name": "ipython",
    "version": 3
   },
   "file_extension": ".py",
   "mimetype": "text/x-python",
   "name": "python",
   "nbconvert_exporter": "python",
   "pygments_lexer": "ipython3",
   "version": "3.11.9"
  }
 },
 "nbformat": 4,
 "nbformat_minor": 2
}
